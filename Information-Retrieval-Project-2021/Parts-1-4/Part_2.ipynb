{
 "cells": [
  {
   "cell_type": "markdown",
   "id": "c9a17646",
   "metadata": {},
   "source": [
    "# Part 2 \n"
   ]
  },
  {
   "cell_type": "code",
   "execution_count": 27,
   "id": "30dd28b3",
   "metadata": {},
   "outputs": [
    {
     "name": "stdout",
     "output_type": "stream",
     "text": [
      "All Modules Loaded ! \n"
     ]
    }
   ],
   "source": [
    "try:\n",
    "    import os\n",
    "    import sys\n",
    "    import numpy as np\n",
    "    import elasticsearch\n",
    "    from elasticsearch import Elasticsearch \n",
    "    import pandas as pd\n",
    "    from elasticsearch import helpers\n",
    "    print(\"All Modules Loaded ! \")\n",
    "except Exception as e:\n",
    "    print(\"Some Modules are Missing {}\".format(e))"
   ]
  },
  {
   "cell_type": "markdown",
   "id": "7c66a6eb",
   "metadata": {},
   "source": [
    "### Elasticsearch Setup"
   ]
  },
  {
   "cell_type": "code",
   "execution_count": 28,
   "id": "563c4848",
   "metadata": {},
   "outputs": [],
   "source": [
    "ENDPOINT = \"http://localhost:9200/\"\n",
    "es = Elasticsearch(timeout=600,hosts=ENDPOINT)"
   ]
  },
  {
   "cell_type": "code",
   "execution_count": 29,
   "id": "92d548b9",
   "metadata": {
    "scrolled": false
   },
   "outputs": [
    {
     "data": {
      "text/plain": [
       "True"
      ]
     },
     "execution_count": 29,
     "metadata": {},
     "output_type": "execute_result"
    }
   ],
   "source": [
    "es.ping()"
   ]
  },
  {
   "cell_type": "markdown",
   "id": "9d8bfd66",
   "metadata": {},
   "source": [
    "### Dataset Preparation"
   ]
  },
  {
   "cell_type": "code",
   "execution_count": 31,
   "id": "aaca194b",
   "metadata": {},
   "outputs": [],
   "source": [
    "df = pd.read_csv(\"BX-Books.csv\")"
   ]
  },
  {
   "cell_type": "code",
   "execution_count": 32,
   "id": "206bc21f",
   "metadata": {},
   "outputs": [],
   "source": [
    "rdf = pd.read_csv(\"BX-Book-Ratings.csv\")"
   ]
  },
  {
   "cell_type": "code",
   "execution_count": 33,
   "id": "e832db88",
   "metadata": {
    "scrolled": true
   },
   "outputs": [
    {
     "data": {
      "text/html": [
       "<div>\n",
       "<style scoped>\n",
       "    .dataframe tbody tr th:only-of-type {\n",
       "        vertical-align: middle;\n",
       "    }\n",
       "\n",
       "    .dataframe tbody tr th {\n",
       "        vertical-align: top;\n",
       "    }\n",
       "\n",
       "    .dataframe thead th {\n",
       "        text-align: right;\n",
       "    }\n",
       "</style>\n",
       "<table border=\"1\" class=\"dataframe\">\n",
       "  <thead>\n",
       "    <tr style=\"text-align: right;\">\n",
       "      <th></th>\n",
       "      <th>uid</th>\n",
       "      <th>isbn</th>\n",
       "      <th>rating</th>\n",
       "    </tr>\n",
       "  </thead>\n",
       "  <tbody>\n",
       "    <tr>\n",
       "      <th>0</th>\n",
       "      <td>2</td>\n",
       "      <td>0195153448</td>\n",
       "      <td>0</td>\n",
       "    </tr>\n",
       "    <tr>\n",
       "      <th>1</th>\n",
       "      <td>8</td>\n",
       "      <td>0002005018</td>\n",
       "      <td>5</td>\n",
       "    </tr>\n",
       "    <tr>\n",
       "      <th>2</th>\n",
       "      <td>11400</td>\n",
       "      <td>0002005018</td>\n",
       "      <td>0</td>\n",
       "    </tr>\n",
       "    <tr>\n",
       "      <th>3</th>\n",
       "      <td>11676</td>\n",
       "      <td>0002005018</td>\n",
       "      <td>8</td>\n",
       "    </tr>\n",
       "    <tr>\n",
       "      <th>4</th>\n",
       "      <td>41385</td>\n",
       "      <td>0002005018</td>\n",
       "      <td>0</td>\n",
       "    </tr>\n",
       "  </tbody>\n",
       "</table>\n",
       "</div>"
      ],
      "text/plain": [
       "     uid        isbn  rating\n",
       "0      2  0195153448       0\n",
       "1      8  0002005018       5\n",
       "2  11400  0002005018       0\n",
       "3  11676  0002005018       8\n",
       "4  41385  0002005018       0"
      ]
     },
     "execution_count": 33,
     "metadata": {},
     "output_type": "execute_result"
    }
   ],
   "source": [
    "rdf.head()"
   ]
  },
  {
   "cell_type": "code",
   "execution_count": 37,
   "id": "24ccf787",
   "metadata": {
    "scrolled": true
   },
   "outputs": [
    {
     "data": {
      "text/plain": [
       "11676     11144\n",
       "198711     6456\n",
       "153662     5814\n",
       "98391      5779\n",
       "35859      5646\n",
       "          ...  \n",
       "115357        1\n",
       "17201         1\n",
       "117404        1\n",
       "31542         1\n",
       "145222        1\n",
       "Name: uid, Length: 92107, dtype: int64"
      ]
     },
     "execution_count": 37,
     "metadata": {},
     "output_type": "execute_result"
    }
   ],
   "source": [
    "rdf.uid.value_counts()"
   ]
  },
  {
   "cell_type": "markdown",
   "id": "0175d223",
   "metadata": {},
   "source": [
    "### User Input"
   ]
  },
  {
   "cell_type": "markdown",
   "id": "0f105cbb",
   "metadata": {},
   "source": [
    "##### We Found that the User \" 11676\" has the most rated books in the user rating dataset"
   ]
  },
  {
   "cell_type": "code",
   "execution_count": 38,
   "id": "c1600c83",
   "metadata": {},
   "outputs": [
    {
     "name": "stdout",
     "output_type": "stream",
     "text": [
      "Input User Id :11676\n"
     ]
    }
   ],
   "source": [
    " user = int(input(\"Input User Id :\")) "
   ]
  },
  {
   "cell_type": "markdown",
   "id": "cbadfc5e",
   "metadata": {},
   "source": [
    "#### Group Books and get Mean user Rating"
   ]
  },
  {
   "cell_type": "code",
   "execution_count": 10,
   "id": "f9ca41e3",
   "metadata": {
    "scrolled": false
   },
   "outputs": [
    {
     "data": {
      "text/html": [
       "<div>\n",
       "<style scoped>\n",
       "    .dataframe tbody tr th:only-of-type {\n",
       "        vertical-align: middle;\n",
       "    }\n",
       "\n",
       "    .dataframe tbody tr th {\n",
       "        vertical-align: top;\n",
       "    }\n",
       "\n",
       "    .dataframe thead th {\n",
       "        text-align: right;\n",
       "    }\n",
       "</style>\n",
       "<table border=\"1\" class=\"dataframe\">\n",
       "  <thead>\n",
       "    <tr style=\"text-align: right;\">\n",
       "      <th></th>\n",
       "      <th>isbn</th>\n",
       "      <th>rating</th>\n",
       "    </tr>\n",
       "  </thead>\n",
       "  <tbody>\n",
       "    <tr>\n",
       "      <th>0</th>\n",
       "      <td>0000913154</td>\n",
       "      <td>8.0</td>\n",
       "    </tr>\n",
       "    <tr>\n",
       "      <th>1</th>\n",
       "      <td>0001010565</td>\n",
       "      <td>0.0</td>\n",
       "    </tr>\n",
       "    <tr>\n",
       "      <th>2</th>\n",
       "      <td>0001046438</td>\n",
       "      <td>9.0</td>\n",
       "    </tr>\n",
       "    <tr>\n",
       "      <th>3</th>\n",
       "      <td>0001046713</td>\n",
       "      <td>0.0</td>\n",
       "    </tr>\n",
       "    <tr>\n",
       "      <th>4</th>\n",
       "      <td>000104687X</td>\n",
       "      <td>6.0</td>\n",
       "    </tr>\n",
       "  </tbody>\n",
       "</table>\n",
       "</div>"
      ],
      "text/plain": [
       "         isbn  rating\n",
       "0  0000913154     8.0\n",
       "1  0001010565     0.0\n",
       "2  0001046438     9.0\n",
       "3  0001046713     0.0\n",
       "4  000104687X     6.0"
      ]
     },
     "execution_count": 10,
     "metadata": {},
     "output_type": "execute_result"
    }
   ],
   "source": [
    "new = rdf.groupby('isbn',as_index= False).rating.mean() \n",
    "new.head()"
   ]
  },
  {
   "cell_type": "markdown",
   "id": "8ccfc5df",
   "metadata": {},
   "source": [
    "#### \"user_r\" is the dataset with the chosen user's ratings"
   ]
  },
  {
   "cell_type": "code",
   "execution_count": 11,
   "id": "f57754d5",
   "metadata": {
    "scrolled": true
   },
   "outputs": [
    {
     "data": {
      "text/plain": [
       "(11144, 2)"
      ]
     },
     "execution_count": 11,
     "metadata": {},
     "output_type": "execute_result"
    }
   ],
   "source": [
    "user_r = rdf[rdf['uid']== user]\n",
    "user_r = user_r.drop(['uid'], axis=1)\n",
    "user_r = user_r.rename({'rating': 'user_rating'}, axis=1)\n",
    "\n",
    "user_r.shape"
   ]
  },
  {
   "cell_type": "code",
   "execution_count": 12,
   "id": "b5131c78",
   "metadata": {},
   "outputs": [
    {
     "data": {
      "text/plain": [
       "(11144, 2)"
      ]
     },
     "execution_count": 12,
     "metadata": {},
     "output_type": "execute_result"
    }
   ],
   "source": [
    "\"\"\"user_r = user_r = pd.merge(user_r,new, on=\"isbn\", how=\"inner\", validate=\"one_to_one\") # Exei kanei kai reviews se vivlia pou den yparxoun sto arxiko df\n",
    "\n",
    "user_r = user_r.drop(['rating'], axis=1)\"\"\"\n",
    "user_r.shape"
   ]
  },
  {
   "cell_type": "markdown",
   "id": "ccfceb92",
   "metadata": {},
   "source": [
    "#### \"result' is the dataset with all the books and their information and also their mean user rating"
   ]
  },
  {
   "cell_type": "code",
   "execution_count": 13,
   "id": "ae4d31f2",
   "metadata": {},
   "outputs": [],
   "source": [
    "result = pd.merge(df, new, on=\"isbn\", how=\"inner\", validate=\"one_to_one\")"
   ]
  },
  {
   "cell_type": "code",
   "execution_count": 14,
   "id": "4f94db80",
   "metadata": {
    "scrolled": true
   },
   "outputs": [
    {
     "data": {
      "text/plain": [
       "(134692, 8)"
      ]
     },
     "execution_count": 14,
     "metadata": {},
     "output_type": "execute_result"
    }
   ],
   "source": [
    "result.shape"
   ]
  },
  {
   "cell_type": "code",
   "execution_count": 15,
   "id": "f1629707",
   "metadata": {},
   "outputs": [
    {
     "data": {
      "text/plain": [
       "(134692, 8)"
      ]
     },
     "execution_count": 15,
     "metadata": {},
     "output_type": "execute_result"
    }
   ],
   "source": [
    "result.shape"
   ]
  },
  {
   "cell_type": "markdown",
   "id": "5b2e48f9",
   "metadata": {},
   "source": [
    "#### \"final\" is the dataset with the books and their information. Ther books here are the ones that the user we choose has rated or has read . We assume that the books in the user rating dataset with user_rating == 0  are books that the user has read and has not yet rated."
   ]
  },
  {
   "cell_type": "code",
   "execution_count": 16,
   "id": "e439f5ce",
   "metadata": {},
   "outputs": [
    {
     "data": {
      "text/html": [
       "<div>\n",
       "<style scoped>\n",
       "    .dataframe tbody tr th:only-of-type {\n",
       "        vertical-align: middle;\n",
       "    }\n",
       "\n",
       "    .dataframe tbody tr th {\n",
       "        vertical-align: top;\n",
       "    }\n",
       "\n",
       "    .dataframe thead th {\n",
       "        text-align: right;\n",
       "    }\n",
       "</style>\n",
       "<table border=\"1\" class=\"dataframe\">\n",
       "  <thead>\n",
       "    <tr style=\"text-align: right;\">\n",
       "      <th></th>\n",
       "      <th>isbn</th>\n",
       "      <th>book_title</th>\n",
       "      <th>book_author</th>\n",
       "      <th>year_of_publication</th>\n",
       "      <th>publisher</th>\n",
       "      <th>summary</th>\n",
       "      <th>category</th>\n",
       "      <th>rating</th>\n",
       "      <th>user_rating</th>\n",
       "    </tr>\n",
       "  </thead>\n",
       "  <tbody>\n",
       "    <tr>\n",
       "      <th>0</th>\n",
       "      <td>0195153448</td>\n",
       "      <td>Classical Mythology</td>\n",
       "      <td>Mark P. O. Morford</td>\n",
       "      <td>2002</td>\n",
       "      <td>Oxford University Press</td>\n",
       "      <td>Provides an introduction to classical myths pl...</td>\n",
       "      <td>['social science']</td>\n",
       "      <td>0.000000</td>\n",
       "      <td>0.0</td>\n",
       "    </tr>\n",
       "    <tr>\n",
       "      <th>1</th>\n",
       "      <td>0002005018</td>\n",
       "      <td>Clara Callan</td>\n",
       "      <td>Richard Bruce Wright</td>\n",
       "      <td>2001</td>\n",
       "      <td>HarperFlamingo Canada</td>\n",
       "      <td>In a small town in Canada, Clara Callan reluct...</td>\n",
       "      <td>['actresses']</td>\n",
       "      <td>4.928571</td>\n",
       "      <td>8.0</td>\n",
       "    </tr>\n",
       "    <tr>\n",
       "      <th>2</th>\n",
       "      <td>0060973129</td>\n",
       "      <td>Decision in Normandy</td>\n",
       "      <td>Carlo D'Este</td>\n",
       "      <td>1991</td>\n",
       "      <td>HarperPerennial</td>\n",
       "      <td>Here, for the first time in paperback, is an o...</td>\n",
       "      <td>['1940-1949']</td>\n",
       "      <td>5.000000</td>\n",
       "      <td>0.0</td>\n",
       "    </tr>\n",
       "    <tr>\n",
       "      <th>3</th>\n",
       "      <td>0374157065</td>\n",
       "      <td>Flu: The Story of the Great Influenza Pandemic...</td>\n",
       "      <td>Gina Bari Kolata</td>\n",
       "      <td>1999</td>\n",
       "      <td>Farrar Straus Giroux</td>\n",
       "      <td>Describes the great flu epidemic of 1918, an o...</td>\n",
       "      <td>['medical']</td>\n",
       "      <td>4.272727</td>\n",
       "      <td>0.0</td>\n",
       "    </tr>\n",
       "    <tr>\n",
       "      <th>4</th>\n",
       "      <td>0393045218</td>\n",
       "      <td>The Mummies of Urumchi</td>\n",
       "      <td>E. J. W. Barber</td>\n",
       "      <td>1999</td>\n",
       "      <td>W. W. Norton &amp; Company</td>\n",
       "      <td>A look at the incredibly well-preserved ancien...</td>\n",
       "      <td>['design']</td>\n",
       "      <td>0.000000</td>\n",
       "      <td>0.0</td>\n",
       "    </tr>\n",
       "  </tbody>\n",
       "</table>\n",
       "</div>"
      ],
      "text/plain": [
       "         isbn                                         book_title  \\\n",
       "0  0195153448                                Classical Mythology   \n",
       "1  0002005018                                       Clara Callan   \n",
       "2  0060973129                               Decision in Normandy   \n",
       "3  0374157065  Flu: The Story of the Great Influenza Pandemic...   \n",
       "4  0393045218                             The Mummies of Urumchi   \n",
       "\n",
       "            book_author  year_of_publication                publisher  \\\n",
       "0    Mark P. O. Morford                 2002  Oxford University Press   \n",
       "1  Richard Bruce Wright                 2001    HarperFlamingo Canada   \n",
       "2          Carlo D'Este                 1991          HarperPerennial   \n",
       "3      Gina Bari Kolata                 1999     Farrar Straus Giroux   \n",
       "4       E. J. W. Barber                 1999   W. W. Norton & Company   \n",
       "\n",
       "                                             summary            category  \\\n",
       "0  Provides an introduction to classical myths pl...  ['social science']   \n",
       "1  In a small town in Canada, Clara Callan reluct...       ['actresses']   \n",
       "2  Here, for the first time in paperback, is an o...       ['1940-1949']   \n",
       "3  Describes the great flu epidemic of 1918, an o...         ['medical']   \n",
       "4  A look at the incredibly well-preserved ancien...          ['design']   \n",
       "\n",
       "     rating  user_rating  \n",
       "0  0.000000          0.0  \n",
       "1  4.928571          8.0  \n",
       "2  5.000000          0.0  \n",
       "3  4.272727          0.0  \n",
       "4  0.000000          0.0  "
      ]
     },
     "execution_count": 16,
     "metadata": {},
     "output_type": "execute_result"
    }
   ],
   "source": [
    "final= pd.merge(result,user_r, on=\"isbn\", how=\"left\", validate=\"one_to_one\")\n",
    "final=final.fillna(0)\n",
    "final.head()"
   ]
  },
  {
   "cell_type": "code",
   "execution_count": 17,
   "id": "def994ef",
   "metadata": {},
   "outputs": [
    {
     "data": {
      "text/plain": [
       "(134692, 8)"
      ]
     },
     "execution_count": 17,
     "metadata": {},
     "output_type": "execute_result"
    }
   ],
   "source": [
    "result.shape"
   ]
  },
  {
   "cell_type": "code",
   "execution_count": 18,
   "id": "7e23a74f",
   "metadata": {
    "scrolled": true
   },
   "outputs": [
    {
     "data": {
      "text/plain": [
       "(11144, 2)"
      ]
     },
     "execution_count": 18,
     "metadata": {},
     "output_type": "execute_result"
    }
   ],
   "source": [
    "user_r.shape"
   ]
  },
  {
   "cell_type": "code",
   "execution_count": 19,
   "id": "cc0d0592",
   "metadata": {},
   "outputs": [
    {
     "data": {
      "text/plain": [
       "(134692, 9)"
      ]
     },
     "execution_count": 19,
     "metadata": {},
     "output_type": "execute_result"
    }
   ],
   "source": [
    "final.shape"
   ]
  },
  {
   "cell_type": "markdown",
   "id": "e547fa54",
   "metadata": {},
   "source": [
    "## Prepare the data for elasticsearch. The steps below are also described in Part 1."
   ]
  },
  {
   "cell_type": "code",
   "execution_count": 20,
   "id": "bf991ec5",
   "metadata": {},
   "outputs": [],
   "source": [
    "result2 = final.to_dict('records')"
   ]
  },
  {
   "cell_type": "code",
   "execution_count": 21,
   "id": "9cbc7e15",
   "metadata": {},
   "outputs": [],
   "source": [
    "def generator(result2):\n",
    "    for c, line in enumerate(result2):\n",
    "        yield{\n",
    "            '_index':'rbooks_elk',\n",
    "            '_type':'_doc',\n",
    "            '_id':line.get(\"isbn\",None),\n",
    "            '_source':{\n",
    "                \"title\":line.get(\"book_title\",\"\"),\n",
    "                \"author\":line.get(\"book_author\",\"\"),\n",
    "                \"summary\":line.get(\"summary\",\"\"),\n",
    "                \"category\":line.get(\"category\",\"\"),\n",
    "                \"year\":line.get(\"year_of_publication\",None),\n",
    "                \"publisher\":line.get(\"publisher\",\"\"),\n",
    "                \"rating\":line.get(\"rating\",None),\n",
    "                \"user_rating\":line.get(\"user_rating\",None)\n",
    "                \n",
    "            }        \n",
    "    }\n",
    "    raise StopIteration"
   ]
  },
  {
   "cell_type": "code",
   "execution_count": 22,
   "id": "5c52926a",
   "metadata": {
    "scrolled": true
   },
   "outputs": [],
   "source": [
    "custom = generator(result2)"
   ]
  },
  {
   "cell_type": "code",
   "execution_count": 23,
   "id": "777427c1",
   "metadata": {},
   "outputs": [
    {
     "data": {
      "text/plain": [
       "134692"
      ]
     },
     "execution_count": 23,
     "metadata": {},
     "output_type": "execute_result"
    }
   ],
   "source": [
    "len(result2)"
   ]
  },
  {
   "cell_type": "code",
   "execution_count": 24,
   "id": "3db06d6a",
   "metadata": {
    "scrolled": true
   },
   "outputs": [
    {
     "data": {
      "text/plain": [
       "{'_index': 'rbooks_elk',\n",
       " '_type': '_doc',\n",
       " '_id': '0195153448',\n",
       " '_source': {'title': 'Classical Mythology',\n",
       "  'author': 'Mark P. O. Morford',\n",
       "  'summary': 'Provides an introduction to classical myths placing the addressed\\ntopics within their historical context, discussion of archaeological\\nevidence as support for mythical events, and how these themes have\\nbeen portrayed in literature, art, ...',\n",
       "  'category': \"['social science']\",\n",
       "  'year': 2002,\n",
       "  'publisher': 'Oxford University Press',\n",
       "  'rating': 0.0,\n",
       "  'user_rating': 0.0}}"
      ]
     },
     "execution_count": 24,
     "metadata": {},
     "output_type": "execute_result"
    }
   ],
   "source": [
    "\n",
    "next(custom)"
   ]
  },
  {
   "cell_type": "code",
   "execution_count": 25,
   "id": "fd8e3e93",
   "metadata": {},
   "outputs": [
    {
     "name": "stderr",
     "output_type": "stream",
     "text": [
      "c:\\users\\charalampos\\appdata\\local\\programs\\python\\python39\\lib\\site-packages\\elasticsearch\\connection\\base.py:209: ElasticsearchWarning: Elasticsearch built-in security features are not enabled. Without authentication, your cluster could be accessible to anyone. See https://www.elastic.co/guide/en/elasticsearch/reference/7.15/security-minimal-setup.html to enable security.\n",
      "  warnings.warn(message, category=ElasticsearchWarning)\n",
      "c:\\users\\charalampos\\appdata\\local\\programs\\python\\python39\\lib\\site-packages\\elasticsearch\\connection\\base.py:209: ElasticsearchWarning: [types removal] Specifying types in bulk requests is deprecated.\n",
      "  warnings.warn(message, category=ElasticsearchWarning)\n"
     ]
    }
   ],
   "source": [
    "try:\n",
    "    res = helpers.bulk( es , generator(result2))\n",
    "    print(\"Working\")\n",
    "except Exception as e : \n",
    "    pass"
   ]
  },
  {
   "cell_type": "code",
   "execution_count": 26,
   "id": "0f365c94",
   "metadata": {},
   "outputs": [
    {
     "ename": "KeyboardInterrupt",
     "evalue": "Interrupted by user",
     "output_type": "error",
     "traceback": [
      "\u001b[1;31m---------------------------------------------------------------------------\u001b[0m",
      "\u001b[1;31mKeyboardInterrupt\u001b[0m                         Traceback (most recent call last)",
      "\u001b[1;32m<ipython-input-26-3c829a2fb3d3>\u001b[0m in \u001b[0;36m<module>\u001b[1;34m\u001b[0m\n\u001b[1;32m----> 1\u001b[1;33m \u001b[0minp\u001b[0m \u001b[1;33m=\u001b[0m \u001b[0minput\u001b[0m\u001b[1;33m(\u001b[0m\u001b[1;34m\"Search Book: \"\u001b[0m\u001b[1;33m)\u001b[0m\u001b[1;33m\u001b[0m\u001b[1;33m\u001b[0m\u001b[0m\n\u001b[0m\u001b[0;32m      2\u001b[0m myquery = {\n\u001b[0;32m      3\u001b[0m    \u001b[1;34m\"_source\"\u001b[0m\u001b[1;33m:\u001b[0m\u001b[1;33m[\u001b[0m\u001b[1;34m\"title\"\u001b[0m\u001b[1;33m,\u001b[0m\u001b[1;34m\"year\"\u001b[0m\u001b[1;33m,\u001b[0m\u001b[1;34m\"author\"\u001b[0m\u001b[1;33m,\u001b[0m\u001b[1;34m\"rating\"\u001b[0m\u001b[1;33m,\u001b[0m\u001b[1;34m\"user_rating\"\u001b[0m \u001b[1;33m]\u001b[0m\u001b[1;33m,\u001b[0m\u001b[1;33m\u001b[0m\u001b[1;33m\u001b[0m\u001b[0m\n\u001b[0;32m      4\u001b[0m   \u001b[1;34m\"size\"\u001b[0m\u001b[1;33m:\u001b[0m\u001b[1;36m20\u001b[0m\u001b[1;33m,\u001b[0m\u001b[1;33m\u001b[0m\u001b[1;33m\u001b[0m\u001b[0m\n\u001b[0;32m      5\u001b[0m   \u001b[1;34m\"track_scores\"\u001b[0m\u001b[1;33m:\u001b[0m\u001b[1;32mTrue\u001b[0m\u001b[1;33m,\u001b[0m\u001b[1;33m\u001b[0m\u001b[1;33m\u001b[0m\u001b[0m\n",
      "\u001b[1;32mc:\\users\\charalampos\\appdata\\local\\programs\\python\\python39\\lib\\site-packages\\ipykernel\\kernelbase.py\u001b[0m in \u001b[0;36mraw_input\u001b[1;34m(self, prompt)\u001b[0m\n\u001b[0;32m    846\u001b[0m                 \u001b[1;34m\"raw_input was called, but this frontend does not support input requests.\"\u001b[0m\u001b[1;33m\u001b[0m\u001b[1;33m\u001b[0m\u001b[0m\n\u001b[0;32m    847\u001b[0m             )\n\u001b[1;32m--> 848\u001b[1;33m         return self._input_request(str(prompt),\n\u001b[0m\u001b[0;32m    849\u001b[0m             \u001b[0mself\u001b[0m\u001b[1;33m.\u001b[0m\u001b[0m_parent_ident\u001b[0m\u001b[1;33m,\u001b[0m\u001b[1;33m\u001b[0m\u001b[1;33m\u001b[0m\u001b[0m\n\u001b[0;32m    850\u001b[0m             \u001b[0mself\u001b[0m\u001b[1;33m.\u001b[0m\u001b[0m_parent_header\u001b[0m\u001b[1;33m,\u001b[0m\u001b[1;33m\u001b[0m\u001b[1;33m\u001b[0m\u001b[0m\n",
      "\u001b[1;32mc:\\users\\charalampos\\appdata\\local\\programs\\python\\python39\\lib\\site-packages\\ipykernel\\kernelbase.py\u001b[0m in \u001b[0;36m_input_request\u001b[1;34m(self, prompt, ident, parent, password)\u001b[0m\n\u001b[0;32m    890\u001b[0m             \u001b[1;32mexcept\u001b[0m \u001b[0mKeyboardInterrupt\u001b[0m\u001b[1;33m:\u001b[0m\u001b[1;33m\u001b[0m\u001b[1;33m\u001b[0m\u001b[0m\n\u001b[0;32m    891\u001b[0m                 \u001b[1;31m# re-raise KeyboardInterrupt, to truncate traceback\u001b[0m\u001b[1;33m\u001b[0m\u001b[1;33m\u001b[0m\u001b[1;33m\u001b[0m\u001b[0m\n\u001b[1;32m--> 892\u001b[1;33m                 \u001b[1;32mraise\u001b[0m \u001b[0mKeyboardInterrupt\u001b[0m\u001b[1;33m(\u001b[0m\u001b[1;34m\"Interrupted by user\"\u001b[0m\u001b[1;33m)\u001b[0m \u001b[1;32mfrom\u001b[0m \u001b[1;32mNone\u001b[0m\u001b[1;33m\u001b[0m\u001b[1;33m\u001b[0m\u001b[0m\n\u001b[0m\u001b[0;32m    893\u001b[0m             \u001b[1;32mexcept\u001b[0m \u001b[0mException\u001b[0m \u001b[1;32mas\u001b[0m \u001b[0me\u001b[0m\u001b[1;33m:\u001b[0m\u001b[1;33m\u001b[0m\u001b[1;33m\u001b[0m\u001b[0m\n\u001b[0;32m    894\u001b[0m                 \u001b[0mself\u001b[0m\u001b[1;33m.\u001b[0m\u001b[0mlog\u001b[0m\u001b[1;33m.\u001b[0m\u001b[0mwarning\u001b[0m\u001b[1;33m(\u001b[0m\u001b[1;34m\"Invalid Message:\"\u001b[0m\u001b[1;33m,\u001b[0m \u001b[0mexc_info\u001b[0m\u001b[1;33m=\u001b[0m\u001b[1;32mTrue\u001b[0m\u001b[1;33m)\u001b[0m\u001b[1;33m\u001b[0m\u001b[1;33m\u001b[0m\u001b[0m\n",
      "\u001b[1;31mKeyboardInterrupt\u001b[0m: Interrupted by user"
     ]
    }
   ],
   "source": [
    "inp = input(\"Search Book: \")\n",
    "myquery = {\n",
    "   \"_source\":[\"title\",\"year\",\"author\",\"rating\",\"user_rating\" ],\n",
    "  \"size\":20,\n",
    "  \"track_scores\":True,\n",
    "  \"query\": {\n",
    "    \"match\": {\n",
    "      \"title\": inp\n",
    "    }\n",
    "  },\n",
    "   \"sort\": [\n",
    "       {\"_script\":\n",
    "        {\n",
    "      \"type\": \"number\",\n",
    "      \n",
    "      \"script\":{\n",
    "        \"lang\": \"painless\", \n",
    "        \"source\":  \"_score*3+doc['rating'].value+doc['user_rating'].value*2\"\n",
    "      },\n",
    "      \"order\": \"desc\"\n",
    "      }\n",
    "    }\n",
    "  ]\n",
    "}\n"
   ]
  },
  {
   "cell_type": "code",
   "execution_count": null,
   "id": "57501665",
   "metadata": {
    "scrolled": false
   },
   "outputs": [],
   "source": [
    "res = es.search (\n",
    "    index='rbooks_elk',\n",
    "    size= 10,\n",
    "    body= myquery  \n",
    " )"
   ]
  },
  {
   "cell_type": "code",
   "execution_count": null,
   "id": "5f72ebcc",
   "metadata": {
    "scrolled": true
   },
   "outputs": [],
   "source": [
    "res"
   ]
  },
  {
   "cell_type": "code",
   "execution_count": null,
   "id": "c091b70c",
   "metadata": {},
   "outputs": [],
   "source": [
    "r=res[\"hits\"].get('hits')\n",
    "for i in range(len(r)):\n",
    "    for key in r[i]:\n",
    "        if key == '_source': \n",
    "            print(i+1,\":\",r[i][key]['title'],'\\n')"
   ]
  },
  {
   "cell_type": "code",
   "execution_count": null,
   "id": "b2118e64",
   "metadata": {},
   "outputs": [],
   "source": []
  }
 ],
 "metadata": {
  "celltoolbar": "Raw Cell Format",
  "kernelspec": {
   "display_name": "Python 3",
   "language": "python",
   "name": "python3"
  },
  "language_info": {
   "codemirror_mode": {
    "name": "ipython",
    "version": 3
   },
   "file_extension": ".py",
   "mimetype": "text/x-python",
   "name": "python",
   "nbconvert_exporter": "python",
   "pygments_lexer": "ipython3",
   "version": "3.9.4"
  }
 },
 "nbformat": 4,
 "nbformat_minor": 5
}
