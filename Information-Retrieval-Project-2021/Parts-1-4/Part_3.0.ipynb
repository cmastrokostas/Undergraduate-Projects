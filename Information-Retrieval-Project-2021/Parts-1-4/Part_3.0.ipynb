{
 "cells": [
  {
   "cell_type": "markdown",
   "id": "300babbf",
   "metadata": {},
   "source": [
    "# Part 3\n"
   ]
  },
  {
   "cell_type": "code",
   "execution_count": 1,
   "id": "56dc3b4e",
   "metadata": {},
   "outputs": [
    {
     "name": "stdout",
     "output_type": "stream",
     "text": [
      "All Modules Loaded ! \n"
     ]
    }
   ],
   "source": [
    "try:\n",
    "    import io\n",
    "    import re\n",
    "    import os\n",
    "    import sys\n",
    "    import numpy as np\n",
    "    import elasticsearch\n",
    "    from elasticsearch import Elasticsearch \n",
    "    import pandas as pd\n",
    "    from elasticsearch import helpers\n",
    "    import warnings\n",
    "    import string\n",
    "\n",
    "    import nltk #statistical natural language processing\n",
    "    warnings.filterwarnings('ignore')\n",
    "\n",
    "    print(\"All Modules Loaded ! \")\n",
    "except Exception as e:\n",
    "    print(\"Some Modules are Missing {}\".format(e))\n",
    "    "
   ]
  },
  {
   "cell_type": "markdown",
   "id": "9b491346",
   "metadata": {},
   "source": [
    "### Dataset Preparation \n",
    "#### The steps below are also  described in previews parts"
   ]
  },
  {
   "cell_type": "markdown",
   "id": "d3020191",
   "metadata": {},
   "source": [
    "##### We Found that the User \" 11676\" has the most rated books in the user rating dataset"
   ]
  },
  {
   "cell_type": "code",
   "execution_count": 2,
   "id": "cc386fb2",
   "metadata": {
    "scrolled": true
   },
   "outputs": [
    {
     "name": "stdout",
     "output_type": "stream",
     "text": [
      "Input User Id :11676\n"
     ]
    }
   ],
   "source": [
    "user = int(input(\"Input User Id :\")) "
   ]
  },
  {
   "cell_type": "code",
   "execution_count": 3,
   "id": "303d5383",
   "metadata": {},
   "outputs": [],
   "source": [
    "df = pd.read_csv(\"BX-Books.csv\") # Book Dataset\n",
    "rdf = pd.read_csv(\"BX-Book-Ratings.csv\") # User Ratign Dataset"
   ]
  },
  {
   "cell_type": "code",
   "execution_count": 4,
   "id": "7fc0cbf1",
   "metadata": {
    "scrolled": true
   },
   "outputs": [
    {
     "data": {
      "text/plain": [
       "(134692, 7)"
      ]
     },
     "execution_count": 4,
     "metadata": {},
     "output_type": "execute_result"
    }
   ],
   "source": [
    "df.shape"
   ]
  },
  {
   "cell_type": "code",
   "execution_count": 5,
   "id": "14e808ac",
   "metadata": {
    "scrolled": false
   },
   "outputs": [
    {
     "data": {
      "text/plain": [
       "(1031175, 3)"
      ]
     },
     "execution_count": 5,
     "metadata": {},
     "output_type": "execute_result"
    }
   ],
   "source": [
    "rdf.shape"
   ]
  },
  {
   "cell_type": "markdown",
   "id": "cad73339",
   "metadata": {},
   "source": [
    " Add rating Column based on the avg of the books User ratings. \"new\" is the dataset with isbn and mean rating of each book . It has different shape than df though...\n",
    " "
   ]
  },
  {
   "cell_type": "code",
   "execution_count": 6,
   "id": "7ce59106",
   "metadata": {
    "scrolled": false
   },
   "outputs": [
    {
     "data": {
      "text/html": [
       "<div>\n",
       "<style scoped>\n",
       "    .dataframe tbody tr th:only-of-type {\n",
       "        vertical-align: middle;\n",
       "    }\n",
       "\n",
       "    .dataframe tbody tr th {\n",
       "        vertical-align: top;\n",
       "    }\n",
       "\n",
       "    .dataframe thead th {\n",
       "        text-align: right;\n",
       "    }\n",
       "</style>\n",
       "<table border=\"1\" class=\"dataframe\">\n",
       "  <thead>\n",
       "    <tr style=\"text-align: right;\">\n",
       "      <th></th>\n",
       "      <th>isbn</th>\n",
       "      <th>rating</th>\n",
       "    </tr>\n",
       "  </thead>\n",
       "  <tbody>\n",
       "    <tr>\n",
       "      <th>0</th>\n",
       "      <td>0000913154</td>\n",
       "      <td>8.0</td>\n",
       "    </tr>\n",
       "    <tr>\n",
       "      <th>1</th>\n",
       "      <td>0001010565</td>\n",
       "      <td>0.0</td>\n",
       "    </tr>\n",
       "    <tr>\n",
       "      <th>2</th>\n",
       "      <td>0001046438</td>\n",
       "      <td>9.0</td>\n",
       "    </tr>\n",
       "    <tr>\n",
       "      <th>3</th>\n",
       "      <td>0001046713</td>\n",
       "      <td>0.0</td>\n",
       "    </tr>\n",
       "    <tr>\n",
       "      <th>4</th>\n",
       "      <td>000104687X</td>\n",
       "      <td>6.0</td>\n",
       "    </tr>\n",
       "  </tbody>\n",
       "</table>\n",
       "</div>"
      ],
      "text/plain": [
       "         isbn  rating\n",
       "0  0000913154     8.0\n",
       "1  0001010565     0.0\n",
       "2  0001046438     9.0\n",
       "3  0001046713     0.0\n",
       "4  000104687X     6.0"
      ]
     },
     "execution_count": 6,
     "metadata": {},
     "output_type": "execute_result"
    }
   ],
   "source": [
    "new = rdf.groupby('isbn',as_index= False).rating.mean()\n",
    "new.head() "
   ]
  },
  {
   "cell_type": "code",
   "execution_count": 7,
   "id": "16cefa54",
   "metadata": {},
   "outputs": [
    {
     "data": {
      "text/plain": [
       "(134692, 7)"
      ]
     },
     "execution_count": 7,
     "metadata": {},
     "output_type": "execute_result"
    }
   ],
   "source": [
    "df.shape"
   ]
  },
  {
   "cell_type": "code",
   "execution_count": 8,
   "id": "9df3f6d8",
   "metadata": {
    "scrolled": false
   },
   "outputs": [
    {
     "data": {
      "text/plain": [
       "(270170, 2)"
      ]
     },
     "execution_count": 8,
     "metadata": {},
     "output_type": "execute_result"
    }
   ],
   "source": [
    "new.shape"
   ]
  },
  {
   "cell_type": "markdown",
   "id": "8b7f3a0d",
   "metadata": {},
   "source": [
    "\"user_r\" is the dataset with each users rated books."
   ]
  },
  {
   "cell_type": "code",
   "execution_count": 9,
   "id": "9343e66b",
   "metadata": {
    "scrolled": false
   },
   "outputs": [
    {
     "data": {
      "text/plain": [
       "(11144, 2)"
      ]
     },
     "execution_count": 9,
     "metadata": {},
     "output_type": "execute_result"
    }
   ],
   "source": [
    "user_r = rdf[rdf['uid']== user]\n",
    "user_r = user_r.drop(['uid'], axis=1) # Drop 'uid' because it will be the users id which will be the same. \n",
    "user_r = user_r.rename({'rating': 'user_rating'}, axis=1)\n",
    "user_r.shape"
   ]
  },
  {
   "cell_type": "code",
   "execution_count": 10,
   "id": "088babed",
   "metadata": {
    "scrolled": true
   },
   "outputs": [
    {
     "data": {
      "text/html": [
       "<div>\n",
       "<style scoped>\n",
       "    .dataframe tbody tr th:only-of-type {\n",
       "        vertical-align: middle;\n",
       "    }\n",
       "\n",
       "    .dataframe tbody tr th {\n",
       "        vertical-align: top;\n",
       "    }\n",
       "\n",
       "    .dataframe thead th {\n",
       "        text-align: right;\n",
       "    }\n",
       "</style>\n",
       "<table border=\"1\" class=\"dataframe\">\n",
       "  <thead>\n",
       "    <tr style=\"text-align: right;\">\n",
       "      <th></th>\n",
       "      <th>isbn</th>\n",
       "      <th>user_rating</th>\n",
       "    </tr>\n",
       "  </thead>\n",
       "  <tbody>\n",
       "    <tr>\n",
       "      <th>3</th>\n",
       "      <td>0002005018</td>\n",
       "      <td>8</td>\n",
       "    </tr>\n",
       "    <tr>\n",
       "      <th>31</th>\n",
       "      <td>0399135782</td>\n",
       "      <td>9</td>\n",
       "    </tr>\n",
       "    <tr>\n",
       "      <th>69</th>\n",
       "      <td>0671870432</td>\n",
       "      <td>8</td>\n",
       "    </tr>\n",
       "    <tr>\n",
       "      <th>74</th>\n",
       "      <td>0771074670</td>\n",
       "      <td>0</td>\n",
       "    </tr>\n",
       "    <tr>\n",
       "      <th>112</th>\n",
       "      <td>0440234743</td>\n",
       "      <td>9</td>\n",
       "    </tr>\n",
       "  </tbody>\n",
       "</table>\n",
       "</div>"
      ],
      "text/plain": [
       "           isbn  user_rating\n",
       "3    0002005018            8\n",
       "31   0399135782            9\n",
       "69   0671870432            8\n",
       "74   0771074670            0\n",
       "112  0440234743            9"
      ]
     },
     "execution_count": 10,
     "metadata": {},
     "output_type": "execute_result"
    }
   ],
   "source": [
    "user_r.head()"
   ]
  },
  {
   "cell_type": "code",
   "execution_count": 11,
   "id": "6adbe7b9",
   "metadata": {
    "scrolled": false
   },
   "outputs": [
    {
     "data": {
      "text/html": [
       "<div>\n",
       "<style scoped>\n",
       "    .dataframe tbody tr th:only-of-type {\n",
       "        vertical-align: middle;\n",
       "    }\n",
       "\n",
       "    .dataframe tbody tr th {\n",
       "        vertical-align: top;\n",
       "    }\n",
       "\n",
       "    .dataframe thead th {\n",
       "        text-align: right;\n",
       "    }\n",
       "</style>\n",
       "<table border=\"1\" class=\"dataframe\">\n",
       "  <thead>\n",
       "    <tr style=\"text-align: right;\">\n",
       "      <th></th>\n",
       "      <th>isbn</th>\n",
       "      <th>book_title</th>\n",
       "      <th>book_author</th>\n",
       "      <th>year_of_publication</th>\n",
       "      <th>publisher</th>\n",
       "      <th>summary</th>\n",
       "      <th>category</th>\n",
       "      <th>rating</th>\n",
       "    </tr>\n",
       "  </thead>\n",
       "  <tbody>\n",
       "    <tr>\n",
       "      <th>0</th>\n",
       "      <td>0195153448</td>\n",
       "      <td>Classical Mythology</td>\n",
       "      <td>Mark P. O. Morford</td>\n",
       "      <td>2002</td>\n",
       "      <td>Oxford University Press</td>\n",
       "      <td>Provides an introduction to classical myths pl...</td>\n",
       "      <td>['social science']</td>\n",
       "      <td>0.000000</td>\n",
       "    </tr>\n",
       "    <tr>\n",
       "      <th>1</th>\n",
       "      <td>0002005018</td>\n",
       "      <td>Clara Callan</td>\n",
       "      <td>Richard Bruce Wright</td>\n",
       "      <td>2001</td>\n",
       "      <td>HarperFlamingo Canada</td>\n",
       "      <td>In a small town in Canada, Clara Callan reluct...</td>\n",
       "      <td>['actresses']</td>\n",
       "      <td>4.928571</td>\n",
       "    </tr>\n",
       "    <tr>\n",
       "      <th>2</th>\n",
       "      <td>0060973129</td>\n",
       "      <td>Decision in Normandy</td>\n",
       "      <td>Carlo D'Este</td>\n",
       "      <td>1991</td>\n",
       "      <td>HarperPerennial</td>\n",
       "      <td>Here, for the first time in paperback, is an o...</td>\n",
       "      <td>['1940-1949']</td>\n",
       "      <td>5.000000</td>\n",
       "    </tr>\n",
       "    <tr>\n",
       "      <th>3</th>\n",
       "      <td>0374157065</td>\n",
       "      <td>Flu: The Story of the Great Influenza Pandemic...</td>\n",
       "      <td>Gina Bari Kolata</td>\n",
       "      <td>1999</td>\n",
       "      <td>Farrar Straus Giroux</td>\n",
       "      <td>Describes the great flu epidemic of 1918, an o...</td>\n",
       "      <td>['medical']</td>\n",
       "      <td>4.272727</td>\n",
       "    </tr>\n",
       "    <tr>\n",
       "      <th>4</th>\n",
       "      <td>0393045218</td>\n",
       "      <td>The Mummies of Urumchi</td>\n",
       "      <td>E. J. W. Barber</td>\n",
       "      <td>1999</td>\n",
       "      <td>W. W. Norton &amp; Company</td>\n",
       "      <td>A look at the incredibly well-preserved ancien...</td>\n",
       "      <td>['design']</td>\n",
       "      <td>0.000000</td>\n",
       "    </tr>\n",
       "  </tbody>\n",
       "</table>\n",
       "</div>"
      ],
      "text/plain": [
       "         isbn                                         book_title  \\\n",
       "0  0195153448                                Classical Mythology   \n",
       "1  0002005018                                       Clara Callan   \n",
       "2  0060973129                               Decision in Normandy   \n",
       "3  0374157065  Flu: The Story of the Great Influenza Pandemic...   \n",
       "4  0393045218                             The Mummies of Urumchi   \n",
       "\n",
       "            book_author  year_of_publication                publisher  \\\n",
       "0    Mark P. O. Morford                 2002  Oxford University Press   \n",
       "1  Richard Bruce Wright                 2001    HarperFlamingo Canada   \n",
       "2          Carlo D'Este                 1991          HarperPerennial   \n",
       "3      Gina Bari Kolata                 1999     Farrar Straus Giroux   \n",
       "4       E. J. W. Barber                 1999   W. W. Norton & Company   \n",
       "\n",
       "                                             summary            category  \\\n",
       "0  Provides an introduction to classical myths pl...  ['social science']   \n",
       "1  In a small town in Canada, Clara Callan reluct...       ['actresses']   \n",
       "2  Here, for the first time in paperback, is an o...       ['1940-1949']   \n",
       "3  Describes the great flu epidemic of 1918, an o...         ['medical']   \n",
       "4  A look at the incredibly well-preserved ancien...          ['design']   \n",
       "\n",
       "     rating  \n",
       "0  0.000000  \n",
       "1  4.928571  \n",
       "2  5.000000  \n",
       "3  4.272727  \n",
       "4  0.000000  "
      ]
     },
     "execution_count": 11,
     "metadata": {},
     "output_type": "execute_result"
    }
   ],
   "source": [
    "result = pd.merge(df, new, on=\"isbn\", how=\"inner\", validate=\"one_to_one\")\n",
    "result.head()"
   ]
  },
  {
   "cell_type": "code",
   "execution_count": 12,
   "id": "75133a4b",
   "metadata": {},
   "outputs": [
    {
     "data": {
      "text/plain": [
       "(134692, 8)"
      ]
     },
     "execution_count": 12,
     "metadata": {},
     "output_type": "execute_result"
    }
   ],
   "source": [
    "result.shape"
   ]
  },
  {
   "cell_type": "markdown",
   "id": "cc6aa3e1",
   "metadata": {},
   "source": [
    "Merge user_r with the Initial Books Dataset via inner join in order to have a Dataset that has both the Avg rating for each book (if it exists) and the chosen users Ratings . "
   ]
  },
  {
   "cell_type": "code",
   "execution_count": 13,
   "id": "abad39f1",
   "metadata": {
    "scrolled": false
   },
   "outputs": [
    {
     "data": {
      "text/html": [
       "<div>\n",
       "<style scoped>\n",
       "    .dataframe tbody tr th:only-of-type {\n",
       "        vertical-align: middle;\n",
       "    }\n",
       "\n",
       "    .dataframe tbody tr th {\n",
       "        vertical-align: top;\n",
       "    }\n",
       "\n",
       "    .dataframe thead th {\n",
       "        text-align: right;\n",
       "    }\n",
       "</style>\n",
       "<table border=\"1\" class=\"dataframe\">\n",
       "  <thead>\n",
       "    <tr style=\"text-align: right;\">\n",
       "      <th></th>\n",
       "      <th>isbn</th>\n",
       "      <th>book_title</th>\n",
       "      <th>book_author</th>\n",
       "      <th>year_of_publication</th>\n",
       "      <th>publisher</th>\n",
       "      <th>summary</th>\n",
       "      <th>category</th>\n",
       "      <th>rating</th>\n",
       "      <th>user_rating</th>\n",
       "    </tr>\n",
       "  </thead>\n",
       "  <tbody>\n",
       "    <tr>\n",
       "      <th>0</th>\n",
       "      <td>0195153448</td>\n",
       "      <td>Classical Mythology</td>\n",
       "      <td>Mark P. O. Morford</td>\n",
       "      <td>2002</td>\n",
       "      <td>Oxford University Press</td>\n",
       "      <td>Provides an introduction to classical myths pl...</td>\n",
       "      <td>['social science']</td>\n",
       "      <td>0.000000</td>\n",
       "      <td>NaN</td>\n",
       "    </tr>\n",
       "    <tr>\n",
       "      <th>1</th>\n",
       "      <td>0002005018</td>\n",
       "      <td>Clara Callan</td>\n",
       "      <td>Richard Bruce Wright</td>\n",
       "      <td>2001</td>\n",
       "      <td>HarperFlamingo Canada</td>\n",
       "      <td>In a small town in Canada, Clara Callan reluct...</td>\n",
       "      <td>['actresses']</td>\n",
       "      <td>4.928571</td>\n",
       "      <td>8.0</td>\n",
       "    </tr>\n",
       "    <tr>\n",
       "      <th>2</th>\n",
       "      <td>0060973129</td>\n",
       "      <td>Decision in Normandy</td>\n",
       "      <td>Carlo D'Este</td>\n",
       "      <td>1991</td>\n",
       "      <td>HarperPerennial</td>\n",
       "      <td>Here, for the first time in paperback, is an o...</td>\n",
       "      <td>['1940-1949']</td>\n",
       "      <td>5.000000</td>\n",
       "      <td>NaN</td>\n",
       "    </tr>\n",
       "  </tbody>\n",
       "</table>\n",
       "</div>"
      ],
      "text/plain": [
       "         isbn            book_title           book_author  \\\n",
       "0  0195153448   Classical Mythology    Mark P. O. Morford   \n",
       "1  0002005018          Clara Callan  Richard Bruce Wright   \n",
       "2  0060973129  Decision in Normandy          Carlo D'Este   \n",
       "\n",
       "   year_of_publication                publisher  \\\n",
       "0                 2002  Oxford University Press   \n",
       "1                 2001    HarperFlamingo Canada   \n",
       "2                 1991          HarperPerennial   \n",
       "\n",
       "                                             summary            category  \\\n",
       "0  Provides an introduction to classical myths pl...  ['social science']   \n",
       "1  In a small town in Canada, Clara Callan reluct...       ['actresses']   \n",
       "2  Here, for the first time in paperback, is an o...       ['1940-1949']   \n",
       "\n",
       "     rating  user_rating  \n",
       "0  0.000000          NaN  \n",
       "1  4.928571          8.0  \n",
       "2  5.000000          NaN  "
      ]
     },
     "execution_count": 13,
     "metadata": {},
     "output_type": "execute_result"
    }
   ],
   "source": [
    "final = pd.merge(result,user_r, on=\"isbn\", how=\"left\", validate=\"one_to_one\")\n",
    "final.head(3)"
   ]
  },
  {
   "cell_type": "code",
   "execution_count": 14,
   "id": "b84f34e1",
   "metadata": {},
   "outputs": [],
   "source": [
    "final['user_rating'] = final['user_rating'].fillna(0)"
   ]
  },
  {
   "cell_type": "code",
   "execution_count": 15,
   "id": "77da2499",
   "metadata": {
    "scrolled": true
   },
   "outputs": [
    {
     "data": {
      "text/html": [
       "<div>\n",
       "<style scoped>\n",
       "    .dataframe tbody tr th:only-of-type {\n",
       "        vertical-align: middle;\n",
       "    }\n",
       "\n",
       "    .dataframe tbody tr th {\n",
       "        vertical-align: top;\n",
       "    }\n",
       "\n",
       "    .dataframe thead th {\n",
       "        text-align: right;\n",
       "    }\n",
       "</style>\n",
       "<table border=\"1\" class=\"dataframe\">\n",
       "  <thead>\n",
       "    <tr style=\"text-align: right;\">\n",
       "      <th></th>\n",
       "      <th>isbn</th>\n",
       "      <th>book_title</th>\n",
       "      <th>book_author</th>\n",
       "      <th>year_of_publication</th>\n",
       "      <th>publisher</th>\n",
       "      <th>summary</th>\n",
       "      <th>category</th>\n",
       "      <th>rating</th>\n",
       "      <th>user_rating</th>\n",
       "    </tr>\n",
       "  </thead>\n",
       "  <tbody>\n",
       "    <tr>\n",
       "      <th>0</th>\n",
       "      <td>0195153448</td>\n",
       "      <td>Classical Mythology</td>\n",
       "      <td>Mark P. O. Morford</td>\n",
       "      <td>2002</td>\n",
       "      <td>Oxford University Press</td>\n",
       "      <td>Provides an introduction to classical myths pl...</td>\n",
       "      <td>['social science']</td>\n",
       "      <td>0.000000</td>\n",
       "      <td>0.0</td>\n",
       "    </tr>\n",
       "    <tr>\n",
       "      <th>1</th>\n",
       "      <td>0002005018</td>\n",
       "      <td>Clara Callan</td>\n",
       "      <td>Richard Bruce Wright</td>\n",
       "      <td>2001</td>\n",
       "      <td>HarperFlamingo Canada</td>\n",
       "      <td>In a small town in Canada, Clara Callan reluct...</td>\n",
       "      <td>['actresses']</td>\n",
       "      <td>4.928571</td>\n",
       "      <td>8.0</td>\n",
       "    </tr>\n",
       "    <tr>\n",
       "      <th>2</th>\n",
       "      <td>0060973129</td>\n",
       "      <td>Decision in Normandy</td>\n",
       "      <td>Carlo D'Este</td>\n",
       "      <td>1991</td>\n",
       "      <td>HarperPerennial</td>\n",
       "      <td>Here, for the first time in paperback, is an o...</td>\n",
       "      <td>['1940-1949']</td>\n",
       "      <td>5.000000</td>\n",
       "      <td>0.0</td>\n",
       "    </tr>\n",
       "  </tbody>\n",
       "</table>\n",
       "</div>"
      ],
      "text/plain": [
       "         isbn            book_title           book_author  \\\n",
       "0  0195153448   Classical Mythology    Mark P. O. Morford   \n",
       "1  0002005018          Clara Callan  Richard Bruce Wright   \n",
       "2  0060973129  Decision in Normandy          Carlo D'Este   \n",
       "\n",
       "   year_of_publication                publisher  \\\n",
       "0                 2002  Oxford University Press   \n",
       "1                 2001    HarperFlamingo Canada   \n",
       "2                 1991          HarperPerennial   \n",
       "\n",
       "                                             summary            category  \\\n",
       "0  Provides an introduction to classical myths pl...  ['social science']   \n",
       "1  In a small town in Canada, Clara Callan reluct...       ['actresses']   \n",
       "2  Here, for the first time in paperback, is an o...       ['1940-1949']   \n",
       "\n",
       "     rating  user_rating  \n",
       "0  0.000000          0.0  \n",
       "1  4.928571          8.0  \n",
       "2  5.000000          0.0  "
      ]
     },
     "execution_count": 15,
     "metadata": {},
     "output_type": "execute_result"
    }
   ],
   "source": [
    "final.head(3)"
   ]
  },
  {
   "cell_type": "code",
   "execution_count": 16,
   "id": "eb3d992a",
   "metadata": {},
   "outputs": [
    {
     "data": {
      "text/plain": [
       "(134692, 9)"
      ]
     },
     "execution_count": 16,
     "metadata": {},
     "output_type": "execute_result"
    }
   ],
   "source": [
    "final.shape"
   ]
  },
  {
   "cell_type": "markdown",
   "id": "219799e6",
   "metadata": {},
   "source": [
    "## Text Preprocessing\n"
   ]
  },
  {
   "cell_type": "markdown",
   "id": "e7450f3c",
   "metadata": {},
   "source": [
    "### Remove Stopwords"
   ]
  },
  {
   "cell_type": "code",
   "execution_count": 17,
   "id": "de248cef",
   "metadata": {
    "scrolled": false
   },
   "outputs": [
    {
     "name": "stderr",
     "output_type": "stream",
     "text": [
      "[nltk_data] Downloading package stopwords to\n",
      "[nltk_data]     C:\\Users\\Charalampos\\AppData\\Roaming\\nltk_data...\n",
      "[nltk_data]   Package stopwords is already up-to-date!\n"
     ]
    },
    {
     "data": {
      "text/plain": [
       "True"
      ]
     },
     "execution_count": 17,
     "metadata": {},
     "output_type": "execute_result"
    }
   ],
   "source": [
    "nltk.download('stopwords')"
   ]
  },
  {
   "cell_type": "code",
   "execution_count": 18,
   "id": "b9af8c6b",
   "metadata": {
    "scrolled": true
   },
   "outputs": [
    {
     "data": {
      "text/html": [
       "<div>\n",
       "<style scoped>\n",
       "    .dataframe tbody tr th:only-of-type {\n",
       "        vertical-align: middle;\n",
       "    }\n",
       "\n",
       "    .dataframe tbody tr th {\n",
       "        vertical-align: top;\n",
       "    }\n",
       "\n",
       "    .dataframe thead th {\n",
       "        text-align: right;\n",
       "    }\n",
       "</style>\n",
       "<table border=\"1\" class=\"dataframe\">\n",
       "  <thead>\n",
       "    <tr style=\"text-align: right;\">\n",
       "      <th></th>\n",
       "      <th>isbn</th>\n",
       "      <th>book_title</th>\n",
       "      <th>book_author</th>\n",
       "      <th>year_of_publication</th>\n",
       "      <th>publisher</th>\n",
       "      <th>summary</th>\n",
       "      <th>category</th>\n",
       "      <th>rating</th>\n",
       "      <th>user_rating</th>\n",
       "      <th>clear_summary</th>\n",
       "    </tr>\n",
       "  </thead>\n",
       "  <tbody>\n",
       "    <tr>\n",
       "      <th>0</th>\n",
       "      <td>0195153448</td>\n",
       "      <td>Classical Mythology</td>\n",
       "      <td>Mark P. O. Morford</td>\n",
       "      <td>2002</td>\n",
       "      <td>Oxford University Press</td>\n",
       "      <td>Provides an introduction to classical myths pl...</td>\n",
       "      <td>['social science']</td>\n",
       "      <td>0.000000</td>\n",
       "      <td>0.0</td>\n",
       "      <td>Provides introduction classical myths placing ...</td>\n",
       "    </tr>\n",
       "    <tr>\n",
       "      <th>1</th>\n",
       "      <td>0002005018</td>\n",
       "      <td>Clara Callan</td>\n",
       "      <td>Richard Bruce Wright</td>\n",
       "      <td>2001</td>\n",
       "      <td>HarperFlamingo Canada</td>\n",
       "      <td>In a small town in Canada, Clara Callan reluct...</td>\n",
       "      <td>['actresses']</td>\n",
       "      <td>4.928571</td>\n",
       "      <td>8.0</td>\n",
       "      <td>In small town Canada, Clara Callan reluctantly...</td>\n",
       "    </tr>\n",
       "    <tr>\n",
       "      <th>2</th>\n",
       "      <td>0060973129</td>\n",
       "      <td>Decision in Normandy</td>\n",
       "      <td>Carlo D'Este</td>\n",
       "      <td>1991</td>\n",
       "      <td>HarperPerennial</td>\n",
       "      <td>Here, for the first time in paperback, is an o...</td>\n",
       "      <td>['1940-1949']</td>\n",
       "      <td>5.000000</td>\n",
       "      <td>0.0</td>\n",
       "      <td>Here, first time paperback, outstanding milita...</td>\n",
       "    </tr>\n",
       "    <tr>\n",
       "      <th>3</th>\n",
       "      <td>0374157065</td>\n",
       "      <td>Flu: The Story of the Great Influenza Pandemic...</td>\n",
       "      <td>Gina Bari Kolata</td>\n",
       "      <td>1999</td>\n",
       "      <td>Farrar Straus Giroux</td>\n",
       "      <td>Describes the great flu epidemic of 1918, an o...</td>\n",
       "      <td>['medical']</td>\n",
       "      <td>4.272727</td>\n",
       "      <td>0.0</td>\n",
       "      <td>Describes great flu epidemic 1918, outbreak ki...</td>\n",
       "    </tr>\n",
       "    <tr>\n",
       "      <th>4</th>\n",
       "      <td>0393045218</td>\n",
       "      <td>The Mummies of Urumchi</td>\n",
       "      <td>E. J. W. Barber</td>\n",
       "      <td>1999</td>\n",
       "      <td>W. W. Norton &amp; Company</td>\n",
       "      <td>A look at the incredibly well-preserved ancien...</td>\n",
       "      <td>['design']</td>\n",
       "      <td>0.000000</td>\n",
       "      <td>0.0</td>\n",
       "      <td>A look incredibly well-preserved ancient mummi...</td>\n",
       "    </tr>\n",
       "  </tbody>\n",
       "</table>\n",
       "</div>"
      ],
      "text/plain": [
       "         isbn                                         book_title  \\\n",
       "0  0195153448                                Classical Mythology   \n",
       "1  0002005018                                       Clara Callan   \n",
       "2  0060973129                               Decision in Normandy   \n",
       "3  0374157065  Flu: The Story of the Great Influenza Pandemic...   \n",
       "4  0393045218                             The Mummies of Urumchi   \n",
       "\n",
       "            book_author  year_of_publication                publisher  \\\n",
       "0    Mark P. O. Morford                 2002  Oxford University Press   \n",
       "1  Richard Bruce Wright                 2001    HarperFlamingo Canada   \n",
       "2          Carlo D'Este                 1991          HarperPerennial   \n",
       "3      Gina Bari Kolata                 1999     Farrar Straus Giroux   \n",
       "4       E. J. W. Barber                 1999   W. W. Norton & Company   \n",
       "\n",
       "                                             summary            category  \\\n",
       "0  Provides an introduction to classical myths pl...  ['social science']   \n",
       "1  In a small town in Canada, Clara Callan reluct...       ['actresses']   \n",
       "2  Here, for the first time in paperback, is an o...       ['1940-1949']   \n",
       "3  Describes the great flu epidemic of 1918, an o...         ['medical']   \n",
       "4  A look at the incredibly well-preserved ancien...          ['design']   \n",
       "\n",
       "     rating  user_rating                                      clear_summary  \n",
       "0  0.000000          0.0  Provides introduction classical myths placing ...  \n",
       "1  4.928571          8.0  In small town Canada, Clara Callan reluctantly...  \n",
       "2  5.000000          0.0  Here, first time paperback, outstanding milita...  \n",
       "3  4.272727          0.0  Describes great flu epidemic 1918, outbreak ki...  \n",
       "4  0.000000          0.0  A look incredibly well-preserved ancient mummi...  "
      ]
     },
     "execution_count": 18,
     "metadata": {},
     "output_type": "execute_result"
    }
   ],
   "source": [
    "from nltk.corpus import stopwords\n",
    "stop = stopwords.words('english')\n",
    "final['clear_summary'] = final['summary'].apply(lambda x: ' '.join([word for word in x.split() if word not in (stop)]))\n",
    "final.head()"
   ]
  },
  {
   "cell_type": "code",
   "execution_count": 19,
   "id": "1ee1bc96",
   "metadata": {},
   "outputs": [
    {
     "name": "stdout",
     "output_type": "stream",
     "text": [
      "Provides introduction classical myths placing addressed topics within historical context, discussion archaeological evidence support mythical events, themes portrayed literature, art, ...\n",
      "Generally regarded pre-eminent work Conrad&#39;s shorter fiction, &#39;Heart Darkness&#39; chilling tale horror which, author intended, capable many interpretations.\n"
     ]
    }
   ],
   "source": [
    "print(final['clear_summary'].iloc[0])\n",
    "print(final['clear_summary'].iloc[50])"
   ]
  },
  {
   "cell_type": "markdown",
   "id": "4ee4f53d",
   "metadata": {},
   "source": [
    "### Also Remove Numeric Characters"
   ]
  },
  {
   "cell_type": "code",
   "execution_count": 20,
   "id": "15f840c8",
   "metadata": {},
   "outputs": [],
   "source": [
    "final['clear_summary'] = final['clear_summary'].str.replace('\\d+', '')"
   ]
  },
  {
   "cell_type": "markdown",
   "id": "0d1be139",
   "metadata": {},
   "source": [
    "### Remove Punctuation"
   ]
  },
  {
   "cell_type": "code",
   "execution_count": 21,
   "id": "eb523550",
   "metadata": {},
   "outputs": [
    {
     "name": "stdout",
     "output_type": "stream",
     "text": [
      "!\"#$%&'()*+,-./:;<=>?@[\\]^_`{|}~\n"
     ]
    }
   ],
   "source": [
    "print(string.punctuation)"
   ]
  },
  {
   "cell_type": "code",
   "execution_count": 22,
   "id": "9cc89918",
   "metadata": {},
   "outputs": [],
   "source": [
    "final['clear_summary'] = final['clear_summary'].apply(lambda x: \"\".join([char for char in x if char not in string.punctuation]))"
   ]
  },
  {
   "cell_type": "code",
   "execution_count": 23,
   "id": "94928bc6",
   "metadata": {
    "scrolled": false
   },
   "outputs": [
    {
     "name": "stdout",
     "output_type": "stream",
     "text": [
      "Provides introduction classical myths placing addressed topics within historical context discussion archaeological evidence support mythical events themes portrayed literature art \n",
      "Generally regarded preeminent work Conrads shorter fiction Heart Darkness chilling tale horror which author intended capable many interpretations\n"
     ]
    }
   ],
   "source": [
    "print(final['clear_summary'].iloc[0])\n",
    "print(final['clear_summary'].iloc[50])"
   ]
  },
  {
   "cell_type": "markdown",
   "id": "85e26782",
   "metadata": {},
   "source": [
    "### Lowercase "
   ]
  },
  {
   "cell_type": "code",
   "execution_count": 24,
   "id": "2bb332cb",
   "metadata": {
    "scrolled": true
   },
   "outputs": [
    {
     "name": "stdout",
     "output_type": "stream",
     "text": [
      "provides introduction classical myths placing addressed topics within historical context discussion archaeological evidence support mythical events themes portrayed literature art\n",
      "when little boys pet dies persuades parents bury old indian cemetary reputed legend house restless spirits nightmare death destruction begins deceased animals come back life reissue\n"
     ]
    }
   ],
   "source": [
    "final['clear_summary'] = final['clear_summary'].apply(lambda x: ' '.join([w.lower() for w in str(x).split()]))\n",
    "print(final['clear_summary'].iloc[0])\n",
    "print(final['clear_summary'].iloc[150])"
   ]
  },
  {
   "cell_type": "markdown",
   "id": "0708c965",
   "metadata": {},
   "source": [
    "### Stemming"
   ]
  },
  {
   "cell_type": "markdown",
   "id": "9075989b",
   "metadata": {},
   "source": [
    "Stem words to extract its lexical meaning, and also reduce the vocabulary created later on. "
   ]
  },
  {
   "cell_type": "code",
   "execution_count": 25,
   "id": "350ff47b",
   "metadata": {},
   "outputs": [],
   "source": [
    "from nltk.stem.snowball import SnowballStemmer\n",
    "stemmer = SnowballStemmer(\"english\")"
   ]
  },
  {
   "cell_type": "code",
   "execution_count": 26,
   "id": "9b8793a4",
   "metadata": {},
   "outputs": [],
   "source": [
    "final['clear_summary_stem'] = final['clear_summary'].apply(lambda x: ' '.join([stemmer.stem(w) for w in str(x).split()]))"
   ]
  },
  {
   "cell_type": "code",
   "execution_count": 27,
   "id": "d382cfd3",
   "metadata": {
    "scrolled": true
   },
   "outputs": [
    {
     "data": {
      "text/html": [
       "<div>\n",
       "<style scoped>\n",
       "    .dataframe tbody tr th:only-of-type {\n",
       "        vertical-align: middle;\n",
       "    }\n",
       "\n",
       "    .dataframe tbody tr th {\n",
       "        vertical-align: top;\n",
       "    }\n",
       "\n",
       "    .dataframe thead th {\n",
       "        text-align: right;\n",
       "    }\n",
       "</style>\n",
       "<table border=\"1\" class=\"dataframe\">\n",
       "  <thead>\n",
       "    <tr style=\"text-align: right;\">\n",
       "      <th></th>\n",
       "      <th>isbn</th>\n",
       "      <th>book_title</th>\n",
       "      <th>book_author</th>\n",
       "      <th>year_of_publication</th>\n",
       "      <th>publisher</th>\n",
       "      <th>summary</th>\n",
       "      <th>category</th>\n",
       "      <th>rating</th>\n",
       "      <th>user_rating</th>\n",
       "      <th>clear_summary</th>\n",
       "      <th>clear_summary_stem</th>\n",
       "    </tr>\n",
       "  </thead>\n",
       "  <tbody>\n",
       "    <tr>\n",
       "      <th>0</th>\n",
       "      <td>0195153448</td>\n",
       "      <td>Classical Mythology</td>\n",
       "      <td>Mark P. O. Morford</td>\n",
       "      <td>2002</td>\n",
       "      <td>Oxford University Press</td>\n",
       "      <td>Provides an introduction to classical myths pl...</td>\n",
       "      <td>['social science']</td>\n",
       "      <td>0.000000</td>\n",
       "      <td>0.0</td>\n",
       "      <td>provides introduction classical myths placing ...</td>\n",
       "      <td>provid introduct classic myth place address to...</td>\n",
       "    </tr>\n",
       "    <tr>\n",
       "      <th>1</th>\n",
       "      <td>0002005018</td>\n",
       "      <td>Clara Callan</td>\n",
       "      <td>Richard Bruce Wright</td>\n",
       "      <td>2001</td>\n",
       "      <td>HarperFlamingo Canada</td>\n",
       "      <td>In a small town in Canada, Clara Callan reluct...</td>\n",
       "      <td>['actresses']</td>\n",
       "      <td>4.928571</td>\n",
       "      <td>8.0</td>\n",
       "      <td>in small town canada clara callan reluctantly ...</td>\n",
       "      <td>in small town canada clara callan reluct take ...</td>\n",
       "    </tr>\n",
       "  </tbody>\n",
       "</table>\n",
       "</div>"
      ],
      "text/plain": [
       "         isbn           book_title           book_author  year_of_publication  \\\n",
       "0  0195153448  Classical Mythology    Mark P. O. Morford                 2002   \n",
       "1  0002005018         Clara Callan  Richard Bruce Wright                 2001   \n",
       "\n",
       "                 publisher                                            summary  \\\n",
       "0  Oxford University Press  Provides an introduction to classical myths pl...   \n",
       "1    HarperFlamingo Canada  In a small town in Canada, Clara Callan reluct...   \n",
       "\n",
       "             category    rating  user_rating  \\\n",
       "0  ['social science']  0.000000          0.0   \n",
       "1       ['actresses']  4.928571          8.0   \n",
       "\n",
       "                                       clear_summary  \\\n",
       "0  provides introduction classical myths placing ...   \n",
       "1  in small town canada clara callan reluctantly ...   \n",
       "\n",
       "                                  clear_summary_stem  \n",
       "0  provid introduct classic myth place address to...  \n",
       "1  in small town canada clara callan reluct take ...  "
      ]
     },
     "execution_count": 27,
     "metadata": {},
     "output_type": "execute_result"
    }
   ],
   "source": [
    "final.head(2)"
   ]
  },
  {
   "cell_type": "code",
   "execution_count": 28,
   "id": "27983aac",
   "metadata": {},
   "outputs": [
    {
     "name": "stdout",
     "output_type": "stream",
     "text": [
      "when little boys pet dies persuades parents bury old indian cemetary reputed legend house restless spirits nightmare death destruction begins deceased animals come back life reissue\n"
     ]
    }
   ],
   "source": [
    "print(final['clear_summary'].iloc[150])"
   ]
  },
  {
   "cell_type": "markdown",
   "id": "ca2efdd5",
   "metadata": {},
   "source": [
    "## Split Dataset Into Useable Data and Data with user ratings that are going be predicted\n",
    "##### train data ( user_rating != 0 )These are the Data which have not null User Ratings (!=0) \n",
    "\n",
    "#### null_rat data (user_rating ==0) These are the Data which have null User Ratings (!=0). \n",
    "#### We are going to predict the user ratings of these later."
   ]
  },
  {
   "cell_type": "code",
   "execution_count": 29,
   "id": "82e7417d",
   "metadata": {},
   "outputs": [
    {
     "data": {
      "text/plain": [
       "(3820, 11)"
      ]
     },
     "execution_count": 29,
     "metadata": {},
     "output_type": "execute_result"
    }
   ],
   "source": [
    "train = final[final['user_rating']!=0] \n",
    "train.shape"
   ]
  },
  {
   "cell_type": "code",
   "execution_count": 30,
   "id": "9ccc400f",
   "metadata": {},
   "outputs": [
    {
     "data": {
      "text/plain": [
       "(130872, 11)"
      ]
     },
     "execution_count": 30,
     "metadata": {},
     "output_type": "execute_result"
    }
   ],
   "source": [
    "null_rat =  final[final['user_rating'] ==0 ] # Zero User Rating\n",
    "null_rat.shape"
   ]
  },
  {
   "cell_type": "code",
   "execution_count": 31,
   "id": "707fd48c",
   "metadata": {},
   "outputs": [
    {
     "data": {
      "text/html": [
       "<div>\n",
       "<style scoped>\n",
       "    .dataframe tbody tr th:only-of-type {\n",
       "        vertical-align: middle;\n",
       "    }\n",
       "\n",
       "    .dataframe tbody tr th {\n",
       "        vertical-align: top;\n",
       "    }\n",
       "\n",
       "    .dataframe thead th {\n",
       "        text-align: right;\n",
       "    }\n",
       "</style>\n",
       "<table border=\"1\" class=\"dataframe\">\n",
       "  <thead>\n",
       "    <tr style=\"text-align: right;\">\n",
       "      <th></th>\n",
       "      <th>isbn</th>\n",
       "      <th>book_title</th>\n",
       "      <th>book_author</th>\n",
       "      <th>year_of_publication</th>\n",
       "      <th>publisher</th>\n",
       "      <th>summary</th>\n",
       "      <th>category</th>\n",
       "      <th>rating</th>\n",
       "      <th>user_rating</th>\n",
       "      <th>clear_summary</th>\n",
       "      <th>clear_summary_stem</th>\n",
       "    </tr>\n",
       "  </thead>\n",
       "  <tbody>\n",
       "    <tr>\n",
       "      <th>1</th>\n",
       "      <td>0002005018</td>\n",
       "      <td>Clara Callan</td>\n",
       "      <td>Richard Bruce Wright</td>\n",
       "      <td>2001</td>\n",
       "      <td>HarperFlamingo Canada</td>\n",
       "      <td>In a small town in Canada, Clara Callan reluct...</td>\n",
       "      <td>['actresses']</td>\n",
       "      <td>4.928571</td>\n",
       "      <td>8.0</td>\n",
       "      <td>in small town canada clara callan reluctantly ...</td>\n",
       "      <td>in small town canada clara callan reluct take ...</td>\n",
       "    </tr>\n",
       "    <tr>\n",
       "      <th>5</th>\n",
       "      <td>0399135782</td>\n",
       "      <td>The Kitchen God's Wife</td>\n",
       "      <td>Amy Tan</td>\n",
       "      <td>1991</td>\n",
       "      <td>Putnam Pub Group</td>\n",
       "      <td>A Chinese immigrant who is convinced she is dy...</td>\n",
       "      <td>['fiction']</td>\n",
       "      <td>4.212121</td>\n",
       "      <td>9.0</td>\n",
       "      <td>a chinese immigrant convinced dying threatens ...</td>\n",
       "      <td>a chines immigr convinc die threaten celebr ch...</td>\n",
       "    </tr>\n",
       "  </tbody>\n",
       "</table>\n",
       "</div>"
      ],
      "text/plain": [
       "         isbn              book_title           book_author  \\\n",
       "1  0002005018            Clara Callan  Richard Bruce Wright   \n",
       "5  0399135782  The Kitchen God's Wife               Amy Tan   \n",
       "\n",
       "   year_of_publication              publisher  \\\n",
       "1                 2001  HarperFlamingo Canada   \n",
       "5                 1991       Putnam Pub Group   \n",
       "\n",
       "                                             summary       category    rating  \\\n",
       "1  In a small town in Canada, Clara Callan reluct...  ['actresses']  4.928571   \n",
       "5  A Chinese immigrant who is convinced she is dy...    ['fiction']  4.212121   \n",
       "\n",
       "   user_rating                                      clear_summary  \\\n",
       "1          8.0  in small town canada clara callan reluctantly ...   \n",
       "5          9.0  a chinese immigrant convinced dying threatens ...   \n",
       "\n",
       "                                  clear_summary_stem  \n",
       "1  in small town canada clara callan reluct take ...  \n",
       "5  a chines immigr convinc die threaten celebr ch...  "
      ]
     },
     "execution_count": 31,
     "metadata": {},
     "output_type": "execute_result"
    }
   ],
   "source": [
    "train.head(2)"
   ]
  },
  {
   "cell_type": "markdown",
   "id": "78f4a8aa",
   "metadata": {},
   "source": [
    "Set the two Main Values that we need. The processed Summaries and the ratings"
   ]
  },
  {
   "cell_type": "code",
   "execution_count": 32,
   "id": "ebc2be7e",
   "metadata": {
    "scrolled": true
   },
   "outputs": [],
   "source": [
    "text = train['clear_summary_stem'] #These are the preprocessed summaries of each book.\n",
    "ratings = train['user_rating']\n",
    "\n",
    "pred_text = null_rat['clear_summary_stem']\n",
    "pred_rating = null_rat['user_rating']"
   ]
  },
  {
   "cell_type": "markdown",
   "id": "c5cf178c",
   "metadata": {},
   "source": [
    "## Train"
   ]
  },
  {
   "cell_type": "markdown",
   "id": "0b86f0d7",
   "metadata": {},
   "source": [
    "### Load pre-trained word embeddings\n"
   ]
  },
  {
   "cell_type": "markdown",
   "id": "713609d5",
   "metadata": {},
   "source": [
    "##### In order to get the represenation of each document as a vector we will use gensims Doc2vec."
   ]
  },
  {
   "cell_type": "code",
   "execution_count": 33,
   "id": "9d79c52e",
   "metadata": {
    "scrolled": true
   },
   "outputs": [
    {
     "name": "stderr",
     "output_type": "stream",
     "text": [
      "[nltk_data] Downloading package punkt to\n",
      "[nltk_data]     C:\\Users\\Charalampos\\AppData\\Roaming\\nltk_data...\n",
      "[nltk_data]   Package punkt is already up-to-date!\n"
     ]
    },
    {
     "data": {
      "text/plain": [
       "True"
      ]
     },
     "execution_count": 33,
     "metadata": {},
     "output_type": "execute_result"
    }
   ],
   "source": [
    "from gensim.models.doc2vec import Doc2Vec, TaggedDocument\n",
    "from nltk.tokenize import word_tokenize\n",
    "import nltk\n",
    "nltk.download('punkt')"
   ]
  },
  {
   "cell_type": "code",
   "execution_count": 34,
   "id": "21a5e9f8",
   "metadata": {},
   "outputs": [],
   "source": [
    "alldocs=final['clear_summary_stem']"
   ]
  },
  {
   "cell_type": "markdown",
   "id": "de06631b",
   "metadata": {},
   "source": [
    "Tag the documents in order to keep the index of each doc."
   ]
  },
  {
   "cell_type": "code",
   "execution_count": 35,
   "id": "55fed913",
   "metadata": {},
   "outputs": [],
   "source": [
    "tag_data = [TaggedDocument(words=word_tokenize(_d.lower()), \n",
    "            tags=[str(i)]) for i, _d in enumerate(alldocs)]"
   ]
  },
  {
   "cell_type": "code",
   "execution_count": 36,
   "id": "fdc76523",
   "metadata": {
    "scrolled": true
   },
   "outputs": [
    {
     "data": {
      "text/plain": [
       "'def build_model(max_epochs, vec_size, alpha, tagged_data):\\n    \\n    model = Doc2Vec(vector_size=vec_size,\\n               alpha=alpha,\\n               min_alpha=0.00025,\\n               negative=5,\\n               min_count=2,\\n               dm=0)\\n\\n    model.build_vocab(tag_data)\\n    \\n    # With the model built we simply train on the data.\\n    \\n    for epoch in range(max_epochs):\\n        print(f\"Iteration {epoch}\")\\n        model.train(tag_data,\\n                   total_examples=model.corpus_count,\\n                   epochs=model.epochs)\\n\\n        # Here I decrease the learning rate. \\n\\n        model.alpha -= 0.0002\\n\\n        model.min_alpha = model.alpha\\n    \\n    # Now simply save the model to avoid training again. \\n    \\n    model.save(\"D2V_Model.model\")\\n    print(\"Model Saved\")\\n    return model\\n\\nmodel = build_model(max_epochs=10, vec_size=40, alpha=0.025, tagged_data=tag_data)'"
      ]
     },
     "execution_count": 36,
     "metadata": {},
     "output_type": "execute_result"
    }
   ],
   "source": [
    "\"\"\"def build_model(max_epochs, vec_size, alpha, tagged_data):\n",
    "    \n",
    "    model = Doc2Vec(vector_size=vec_size,\n",
    "               alpha=alpha,\n",
    "               min_alpha=0.00025,\n",
    "               negative=5,\n",
    "               min_count=2,\n",
    "               dm=0)\n",
    "\n",
    "    model.build_vocab(tag_data)\n",
    "    \n",
    "    # With the model built we simply train on the data.\n",
    "    \n",
    "    for epoch in range(max_epochs):\n",
    "        print(f\"Iteration {epoch}\")\n",
    "        model.train(tag_data,\n",
    "                   total_examples=model.corpus_count,\n",
    "                   epochs=model.epochs)\n",
    "\n",
    "        # Here I decrease the learning rate. \n",
    "\n",
    "        model.alpha -= 0.0002\n",
    "\n",
    "        model.min_alpha = model.alpha\n",
    "    \n",
    "    # Now simply save the model to avoid training again. \n",
    "    \n",
    "    model.save(\"D2V_Model.model\")\n",
    "    print(\"Model Saved\")\n",
    "    return model\n",
    "\n",
    "model = build_model(max_epochs=10, vec_size=40, alpha=0.025, tagged_data=tag_data)\"\"\""
   ]
  },
  {
   "cell_type": "markdown",
   "id": "85ab74b6",
   "metadata": {},
   "source": [
    "##### PV-DM Took ~ 4.20 mins (dm=1) ( tested for 4 epochs with vector size = 40) \n",
    "##### PV-DBOW Took ~ 2.30 mins (dm=0)\n",
    "##### We use PV-DBOW because we do not need to keep the weights for each word, we only need the vectors of each document.\n",
    "##### You don't need to train the model again just load the file ...\n"
   ]
  },
  {
   "cell_type": "code",
   "execution_count": 37,
   "id": "50e4884a",
   "metadata": {
    "scrolled": false
   },
   "outputs": [
    {
     "data": {
      "image/jpeg": "[encoded data removed]",
      "text/plain": [
       "<IPython.core.display.Image object>"
      ]
     },
     "execution_count": 37,
     "metadata": {},
     "output_type": "execute_result"
    }
   ],
   "source": [
    "from IPython.display import Image\n",
    "Image(\"vector.jpg\")"
   ]
  },
  {
   "cell_type": "code",
   "execution_count": 38,
   "id": "91d1160b",
   "metadata": {},
   "outputs": [],
   "source": [
    "model=Doc2Vec.load(\"D2V_Model.model\")"
   ]
  },
  {
   "cell_type": "markdown",
   "id": "bbfd88ee",
   "metadata": {},
   "source": [
    "Check if the Model is useful."
   ]
  },
  {
   "cell_type": "code",
   "execution_count": 39,
   "id": "b360d8c0",
   "metadata": {
    "scrolled": true
   },
   "outputs": [
    {
     "data": {
      "text/plain": [
       "[('mysterio', 0.6211808323860168),\n",
       " ('zlata', 0.5934056639671326),\n",
       " ('rapistmurder', 0.5566440224647522),\n",
       " ('stoltzfus', 0.5440924167633057),\n",
       " ('worldth', 0.5425503253936768),\n",
       " ('quotalthough', 0.5339058637619019),\n",
       " ('bestsel', 0.5312341451644897),\n",
       " ('statecraft', 0.5284039974212646),\n",
       " ('stoddard', 0.5274983644485474),\n",
       " ('darren', 0.5202333927154541)]"
      ]
     },
     "execution_count": 39,
     "metadata": {},
     "output_type": "execute_result"
    }
   ],
   "source": [
    "model.wv.similar_by_word(\"kill\")"
   ]
  },
  {
   "cell_type": "markdown",
   "id": "599a7e5c",
   "metadata": {},
   "source": [
    "We use PV-DBOW so we dont expect to see  relevant words"
   ]
  },
  {
   "cell_type": "code",
   "execution_count": 40,
   "id": "071f4b56",
   "metadata": {
    "scrolled": true
   },
   "outputs": [
    {
     "data": {
      "text/plain": [
       "[('40766', 0.7442135810852051),\n",
       " ('110869', 0.7325815558433533),\n",
       " ('134190', 0.7037688493728638),\n",
       " ('112587', 0.6963385343551636),\n",
       " ('125909', 0.6892833113670349),\n",
       " ('23305', 0.6869984269142151),\n",
       " ('92305', 0.6869886517524719),\n",
       " ('47774', 0.6868658661842346),\n",
       " ('36474', 0.6819773316383362),\n",
       " ('21377', 0.6800673604011536)]"
      ]
     },
     "execution_count": 40,
     "metadata": {},
     "output_type": "execute_result"
    }
   ],
   "source": [
    "model.docvecs.most_similar(4)"
   ]
  },
  {
   "cell_type": "code",
   "execution_count": 41,
   "id": "2c19f9f0",
   "metadata": {},
   "outputs": [
    {
     "name": "stdout",
     "output_type": "stream",
     "text": [
      "The Mummies of Urumchi\n",
      "A look at the incredibly well-preserved ancient mummies found in\n",
      "Western China describes their clothing and appearance, attempts to\n",
      "reconstruct their culture, and speculates about how Caucasians could\n",
      "have found their way to the feet of the ...\n"
     ]
    }
   ],
   "source": [
    "print(final['book_title'].iloc[4])\n",
    "print(final['summary'].iloc[4])\n"
   ]
  },
  {
   "cell_type": "code",
   "execution_count": 42,
   "id": "e873ba35",
   "metadata": {
    "scrolled": false
   },
   "outputs": [
    {
     "name": "stdout",
     "output_type": "stream",
     "text": [
      "History of Western Science, A\n",
      "Presented in an informal, narrative style, this text looks at science,\n",
      "from the ancient world , to medieval science, the scientific\n",
      "revolution, through to 20th century physics.\n"
     ]
    }
   ],
   "source": [
    "print(final['book_title'].iloc[40766])\n",
    "print(final['summary'].iloc[40766])\n"
   ]
  },
  {
   "cell_type": "markdown",
   "id": "dfacc129",
   "metadata": {},
   "source": [
    "###### If we check the books that where returned as similar we will find a lot of that may appear to be about the same topic. "
   ]
  },
  {
   "cell_type": "markdown",
   "id": "6329e8df",
   "metadata": {},
   "source": [
    "### Note \n",
    " If you train again you may get different results."
   ]
  },
  {
   "cell_type": "code",
   "execution_count": 43,
   "id": "5c18c656",
   "metadata": {
    "scrolled": false
   },
   "outputs": [
    {
     "data": {
      "text/html": [
       "<div>\n",
       "<style scoped>\n",
       "    .dataframe tbody tr th:only-of-type {\n",
       "        vertical-align: middle;\n",
       "    }\n",
       "\n",
       "    .dataframe tbody tr th {\n",
       "        vertical-align: top;\n",
       "    }\n",
       "\n",
       "    .dataframe thead th {\n",
       "        text-align: right;\n",
       "    }\n",
       "</style>\n",
       "<table border=\"1\" class=\"dataframe\">\n",
       "  <thead>\n",
       "    <tr style=\"text-align: right;\">\n",
       "      <th></th>\n",
       "      <th>isbn</th>\n",
       "      <th>book_title</th>\n",
       "      <th>book_author</th>\n",
       "      <th>year_of_publication</th>\n",
       "      <th>publisher</th>\n",
       "      <th>summary</th>\n",
       "      <th>category</th>\n",
       "      <th>rating</th>\n",
       "      <th>user_rating</th>\n",
       "      <th>clear_summary</th>\n",
       "      <th>clear_summary_stem</th>\n",
       "    </tr>\n",
       "  </thead>\n",
       "  <tbody>\n",
       "    <tr>\n",
       "      <th>1731</th>\n",
       "      <td>059035342X</td>\n",
       "      <td>Harry Potter and the Sorcerer's Stone (Harry P...</td>\n",
       "      <td>J. K. Rowling</td>\n",
       "      <td>1999</td>\n",
       "      <td>Arthur A. Levine Books</td>\n",
       "      <td>Rescued from the outrageous neglect of his aun...</td>\n",
       "      <td>['juvenile fiction']</td>\n",
       "      <td>4.900175</td>\n",
       "      <td>10.0</td>\n",
       "      <td>rescued outrageous neglect aunt uncle young bo...</td>\n",
       "      <td>rescu outrag neglect aunt uncl young boy great...</td>\n",
       "    </tr>\n",
       "  </tbody>\n",
       "</table>\n",
       "</div>"
      ],
      "text/plain": [
       "            isbn                                         book_title  \\\n",
       "1731  059035342X  Harry Potter and the Sorcerer's Stone (Harry P...   \n",
       "\n",
       "        book_author  year_of_publication               publisher  \\\n",
       "1731  J. K. Rowling                 1999  Arthur A. Levine Books   \n",
       "\n",
       "                                                summary              category  \\\n",
       "1731  Rescued from the outrageous neglect of his aun...  ['juvenile fiction']   \n",
       "\n",
       "        rating  user_rating  \\\n",
       "1731  4.900175         10.0   \n",
       "\n",
       "                                          clear_summary  \\\n",
       "1731  rescued outrageous neglect aunt uncle young bo...   \n",
       "\n",
       "                                     clear_summary_stem  \n",
       "1731  rescu outrag neglect aunt uncl young boy great...  "
      ]
     },
     "execution_count": 43,
     "metadata": {},
     "output_type": "execute_result"
    }
   ],
   "source": [
    "final[final['isbn'] == '059035342X']"
   ]
  },
  {
   "cell_type": "markdown",
   "id": "f3e35c6f",
   "metadata": {},
   "source": [
    "This is a way of finding the most related summary to any given sentence. For example this could be any input query."
   ]
  },
  {
   "cell_type": "code",
   "execution_count": 44,
   "id": "114a838d",
   "metadata": {
    "scrolled": false
   },
   "outputs": [
    {
     "name": "stdout",
     "output_type": "stream",
     "text": [
      "V1_infer [-0.21440996 -0.3024022   0.03730056 -0.35759088  0.14431724 -0.39303243\n",
      "  0.06229186 -0.31162986 -0.14113654 -0.1477221   0.10381263  0.20550574\n",
      "  0.05129218 -0.09876433 -0.03648067 -0.33026907 -0.06509876 -0.25817505\n",
      " -0.26771358 -0.29220417 -0.44619444  0.6838456   0.29189092 -0.14370586\n",
      " -0.3093682   0.20535436  0.51059777  0.01563767 -0.0623865  -0.36251253\n",
      "  0.34203264  0.23973164  0.05451896  0.05871656 -0.3420558   0.32873812\n",
      " -0.61807454 -0.18861395  0.06956042 -0.05901311]\n",
      "[('25857', 0.7160467505455017), ('93078', 0.7122541666030884), ('90126', 0.7119066715240479), ('107411', 0.7098625302314758), ('27848', 0.706214189529419), ('40295', 0.7043367624282837), ('44757', 0.703334391117096), ('35446', 0.7001020312309265), ('15123', 0.6939405202865601), ('134481', 0.6897911429405212)]\n"
     ]
    }
   ],
   "source": [
    "test_data = word_tokenize(\"a young boy in a world full of wizards elfs and monsters  \".lower())\n",
    "v1 = model.infer_vector(test_data)\n",
    "print(\"V1_infer\", v1)\n",
    "\n",
    "# to find most similar doc using tags\n",
    "similar_doc = model.docvecs.most_similar([v1])\n",
    "print(similar_doc)\n"
   ]
  },
  {
   "cell_type": "code",
   "execution_count": 45,
   "id": "b3f0dd79",
   "metadata": {
    "scrolled": false
   },
   "outputs": [
    {
     "name": "stdout",
     "output_type": "stream",
     "text": [
      "Letters for Emily\n"
     ]
    }
   ],
   "source": [
    "print(final['book_title'].iloc[15123])"
   ]
  },
  {
   "cell_type": "code",
   "execution_count": 46,
   "id": "50a3a141",
   "metadata": {
    "scrolled": false
   },
   "outputs": [
    {
     "name": "stdout",
     "output_type": "stream",
     "text": [
      "You are so young.\n"
     ]
    }
   ],
   "source": [
    "print(final['summary'].iloc[15123])"
   ]
  },
  {
   "cell_type": "code",
   "execution_count": 47,
   "id": "616736e4",
   "metadata": {},
   "outputs": [],
   "source": [
    "d2v_model = model "
   ]
  },
  {
   "cell_type": "markdown",
   "id": "3e8a877f",
   "metadata": {},
   "source": [
    "Convert summaries with non null reviews to list ."
   ]
  },
  {
   "cell_type": "code",
   "execution_count": 48,
   "id": "5399d2f0",
   "metadata": {
    "scrolled": true
   },
   "outputs": [
    {
     "data": {
      "text/plain": [
       "array([ 0.27582797, -0.03592452, -0.12434436, -0.2918064 ,  0.39590514,\n",
       "       -0.20269367, -0.3423791 ,  0.13735496, -0.16031212, -0.256596  ,\n",
       "       -0.28743345, -0.19839434,  0.09841236,  0.717132  ,  0.01056437,\n",
       "       -0.29734063, -0.3534559 , -0.14634174,  0.5148212 , -0.26850116,\n",
       "       -0.07572267,  0.30224493, -0.4253234 , -0.35837805, -0.6427105 ,\n",
       "        0.1622864 ,  0.03571999, -0.28947967, -0.14290215,  0.22106966,\n",
       "        0.04942074,  0.48206174,  0.18400131,  0.22564851, -0.5806885 ,\n",
       "        0.7018714 , -0.6243832 , -0.3048036 , -0.4671427 ,  0.50571775],\n",
       "      dtype=float32)"
      ]
     },
     "execution_count": 48,
     "metadata": {},
     "output_type": "execute_result"
    }
   ],
   "source": [
    "train_docs_list = text.to_list()\n",
    "\n",
    "model.infer_vector(train_docs_list[0].split())"
   ]
  },
  {
   "cell_type": "markdown",
   "id": "2c39c261",
   "metadata": {},
   "source": [
    "Split each sentence in the list, and append to result list"
   ]
  },
  {
   "cell_type": "code",
   "execution_count": 49,
   "id": "cc09ebbe",
   "metadata": {
    "scrolled": true
   },
   "outputs": [],
   "source": [
    "def split_list(sentence):\n",
    "    result = []\n",
    "    for s in sentence:\n",
    "        result.append(s.split())\n",
    "    return result\n",
    "\n",
    "final_list= split_list(train_docs_list)"
   ]
  },
  {
   "cell_type": "markdown",
   "id": "ef7be90e",
   "metadata": {},
   "source": [
    "RR is the final list with the vectored Summaries"
   ]
  },
  {
   "cell_type": "code",
   "execution_count": 50,
   "id": "9860717c",
   "metadata": {},
   "outputs": [],
   "source": [
    "RR=[]\n",
    "for i in final_list : \n",
    "    RR.append(model.infer_vector(i))"
   ]
  },
  {
   "cell_type": "code",
   "execution_count": 51,
   "id": "8ecdb991",
   "metadata": {},
   "outputs": [],
   "source": [
    "train['vector']=RR"
   ]
  },
  {
   "cell_type": "code",
   "execution_count": 52,
   "id": "1fe99122",
   "metadata": {},
   "outputs": [
    {
     "data": {
      "text/html": [
       "<div>\n",
       "<style scoped>\n",
       "    .dataframe tbody tr th:only-of-type {\n",
       "        vertical-align: middle;\n",
       "    }\n",
       "\n",
       "    .dataframe tbody tr th {\n",
       "        vertical-align: top;\n",
       "    }\n",
       "\n",
       "    .dataframe thead th {\n",
       "        text-align: right;\n",
       "    }\n",
       "</style>\n",
       "<table border=\"1\" class=\"dataframe\">\n",
       "  <thead>\n",
       "    <tr style=\"text-align: right;\">\n",
       "      <th></th>\n",
       "      <th>isbn</th>\n",
       "      <th>book_title</th>\n",
       "      <th>book_author</th>\n",
       "      <th>year_of_publication</th>\n",
       "      <th>publisher</th>\n",
       "      <th>summary</th>\n",
       "      <th>category</th>\n",
       "      <th>rating</th>\n",
       "      <th>user_rating</th>\n",
       "      <th>clear_summary</th>\n",
       "      <th>clear_summary_stem</th>\n",
       "      <th>vector</th>\n",
       "    </tr>\n",
       "  </thead>\n",
       "  <tbody>\n",
       "    <tr>\n",
       "      <th>1</th>\n",
       "      <td>0002005018</td>\n",
       "      <td>Clara Callan</td>\n",
       "      <td>Richard Bruce Wright</td>\n",
       "      <td>2001</td>\n",
       "      <td>HarperFlamingo Canada</td>\n",
       "      <td>In a small town in Canada, Clara Callan reluct...</td>\n",
       "      <td>['actresses']</td>\n",
       "      <td>4.928571</td>\n",
       "      <td>8.0</td>\n",
       "      <td>in small town canada clara callan reluctantly ...</td>\n",
       "      <td>in small town canada clara callan reluct take ...</td>\n",
       "      <td>[0.28106096, 0.090453595, -0.25103736, -0.2579...</td>\n",
       "    </tr>\n",
       "    <tr>\n",
       "      <th>5</th>\n",
       "      <td>0399135782</td>\n",
       "      <td>The Kitchen God's Wife</td>\n",
       "      <td>Amy Tan</td>\n",
       "      <td>1991</td>\n",
       "      <td>Putnam Pub Group</td>\n",
       "      <td>A Chinese immigrant who is convinced she is dy...</td>\n",
       "      <td>['fiction']</td>\n",
       "      <td>4.212121</td>\n",
       "      <td>9.0</td>\n",
       "      <td>a chinese immigrant convinced dying threatens ...</td>\n",
       "      <td>a chines immigr convinc die threaten celebr ch...</td>\n",
       "      <td>[0.31299034, 0.3149997, -0.28059196, -0.448891...</td>\n",
       "    </tr>\n",
       "    <tr>\n",
       "      <th>13</th>\n",
       "      <td>0440234743</td>\n",
       "      <td>The Testament</td>\n",
       "      <td>John Grisham</td>\n",
       "      <td>1999</td>\n",
       "      <td>Dell</td>\n",
       "      <td>A suicidal billionaire, a burnt-out Washington...</td>\n",
       "      <td>['fiction']</td>\n",
       "      <td>3.085308</td>\n",
       "      <td>9.0</td>\n",
       "      <td>a suicidal billionaire burntout washington lit...</td>\n",
       "      <td>a suicid billionair burntout washington litig ...</td>\n",
       "      <td>[-0.3051638, 0.16125838, 0.4299025, -0.4603542...</td>\n",
       "    </tr>\n",
       "    <tr>\n",
       "      <th>14</th>\n",
       "      <td>0452264464</td>\n",
       "      <td>Beloved (Plume Contemporary Fiction)</td>\n",
       "      <td>Toni Morrison</td>\n",
       "      <td>1994</td>\n",
       "      <td>Plume</td>\n",
       "      <td>Staring unflinchingly into the abyss of slaver...</td>\n",
       "      <td>['fiction']</td>\n",
       "      <td>3.411111</td>\n",
       "      <td>8.0</td>\n",
       "      <td>staring unflinchingly abyss slavery novel tran...</td>\n",
       "      <td>stare unflinch abyss slaveri novel transform h...</td>\n",
       "      <td>[-0.4654744, -0.2592744, 0.5294679, -0.4888943...</td>\n",
       "    </tr>\n",
       "    <tr>\n",
       "      <th>15</th>\n",
       "      <td>0609804618</td>\n",
       "      <td>Our Dumb Century: The Onion Presents 100 Years...</td>\n",
       "      <td>The Onion</td>\n",
       "      <td>1999</td>\n",
       "      <td>Three Rivers Press</td>\n",
       "      <td>The staff of The Onion presents a satirical co...</td>\n",
       "      <td>['humor']</td>\n",
       "      <td>5.684211</td>\n",
       "      <td>7.0</td>\n",
       "      <td>the staff the onion presents satirical collect...</td>\n",
       "      <td>the staff the onion present satir collect mock...</td>\n",
       "      <td>[-0.63168454, 0.18599613, -0.17609163, -0.0910...</td>\n",
       "    </tr>\n",
       "  </tbody>\n",
       "</table>\n",
       "</div>"
      ],
      "text/plain": [
       "          isbn                                         book_title  \\\n",
       "1   0002005018                                       Clara Callan   \n",
       "5   0399135782                             The Kitchen God's Wife   \n",
       "13  0440234743                                      The Testament   \n",
       "14  0452264464               Beloved (Plume Contemporary Fiction)   \n",
       "15  0609804618  Our Dumb Century: The Onion Presents 100 Years...   \n",
       "\n",
       "             book_author  year_of_publication              publisher  \\\n",
       "1   Richard Bruce Wright                 2001  HarperFlamingo Canada   \n",
       "5                Amy Tan                 1991       Putnam Pub Group   \n",
       "13          John Grisham                 1999                   Dell   \n",
       "14         Toni Morrison                 1994                  Plume   \n",
       "15             The Onion                 1999     Three Rivers Press   \n",
       "\n",
       "                                              summary       category  \\\n",
       "1   In a small town in Canada, Clara Callan reluct...  ['actresses']   \n",
       "5   A Chinese immigrant who is convinced she is dy...    ['fiction']   \n",
       "13  A suicidal billionaire, a burnt-out Washington...    ['fiction']   \n",
       "14  Staring unflinchingly into the abyss of slaver...    ['fiction']   \n",
       "15  The staff of The Onion presents a satirical co...      ['humor']   \n",
       "\n",
       "      rating  user_rating                                      clear_summary  \\\n",
       "1   4.928571          8.0  in small town canada clara callan reluctantly ...   \n",
       "5   4.212121          9.0  a chinese immigrant convinced dying threatens ...   \n",
       "13  3.085308          9.0  a suicidal billionaire burntout washington lit...   \n",
       "14  3.411111          8.0  staring unflinchingly abyss slavery novel tran...   \n",
       "15  5.684211          7.0  the staff the onion presents satirical collect...   \n",
       "\n",
       "                                   clear_summary_stem  \\\n",
       "1   in small town canada clara callan reluct take ...   \n",
       "5   a chines immigr convinc die threaten celebr ch...   \n",
       "13  a suicid billionair burntout washington litig ...   \n",
       "14  stare unflinch abyss slaveri novel transform h...   \n",
       "15  the staff the onion present satir collect mock...   \n",
       "\n",
       "                                               vector  \n",
       "1   [0.28106096, 0.090453595, -0.25103736, -0.2579...  \n",
       "5   [0.31299034, 0.3149997, -0.28059196, -0.448891...  \n",
       "13  [-0.3051638, 0.16125838, 0.4299025, -0.4603542...  \n",
       "14  [-0.4654744, -0.2592744, 0.5294679, -0.4888943...  \n",
       "15  [-0.63168454, 0.18599613, -0.17609163, -0.0910...  "
      ]
     },
     "execution_count": 52,
     "metadata": {},
     "output_type": "execute_result"
    }
   ],
   "source": [
    "train.head()"
   ]
  },
  {
   "cell_type": "code",
   "execution_count": 53,
   "id": "27c2f2e8",
   "metadata": {
    "scrolled": false
   },
   "outputs": [
    {
     "data": {
      "text/plain": [
       "3820"
      ]
     },
     "execution_count": 53,
     "metadata": {},
     "output_type": "execute_result"
    }
   ],
   "source": [
    "len(RR)"
   ]
  },
  {
   "cell_type": "code",
   "execution_count": 54,
   "id": "56ee8a2d",
   "metadata": {},
   "outputs": [
    {
     "data": {
      "text/plain": [
       "3820"
      ]
     },
     "execution_count": 54,
     "metadata": {},
     "output_type": "execute_result"
    }
   ],
   "source": [
    "X_train = RR\n",
    "len(X_train)\n"
   ]
  },
  {
   "cell_type": "code",
   "execution_count": 55,
   "id": "affa29d8",
   "metadata": {},
   "outputs": [
    {
     "data": {
      "text/plain": [
       "3820"
      ]
     },
     "execution_count": 55,
     "metadata": {},
     "output_type": "execute_result"
    }
   ],
   "source": [
    "len(ratings)"
   ]
  },
  {
   "cell_type": "markdown",
   "id": "b1ef9877",
   "metadata": {},
   "source": [
    "Split the data with non null ratings. "
   ]
  },
  {
   "cell_type": "code",
   "execution_count": 56,
   "id": "ade80c9b",
   "metadata": {},
   "outputs": [],
   "source": [
    "from sklearn.model_selection import train_test_split"
   ]
  },
  {
   "cell_type": "code",
   "execution_count": 57,
   "id": "10826f50",
   "metadata": {},
   "outputs": [],
   "source": [
    "train_sentences, test_sentences, train_ratings, test_ratings = train_test_split(X_train, ratings, test_size=0.3, random_state=42 )"
   ]
  },
  {
   "cell_type": "code",
   "execution_count": 58,
   "id": "76e01d8c",
   "metadata": {},
   "outputs": [
    {
     "data": {
      "text/plain": [
       "LinearRegression()"
      ]
     },
     "execution_count": 58,
     "metadata": {},
     "output_type": "execute_result"
    }
   ],
   "source": [
    "from sklearn.linear_model import LinearRegression\n",
    "lreg = LinearRegression()\n",
    "lreg.fit(train_sentences, train_ratings)"
   ]
  },
  {
   "cell_type": "code",
   "execution_count": 59,
   "id": "cb298ae8",
   "metadata": {},
   "outputs": [
    {
     "data": {
      "text/plain": [
       "7.799322"
      ]
     },
     "execution_count": 59,
     "metadata": {},
     "output_type": "execute_result"
    }
   ],
   "source": [
    "y_pred = lreg.predict(test_sentences)\n",
    "y_pred[3]"
   ]
  },
  {
   "cell_type": "code",
   "execution_count": 60,
   "id": "2fac7770",
   "metadata": {
    "scrolled": false
   },
   "outputs": [
    {
     "data": {
      "text/plain": [
       "2.0120058583925524"
      ]
     },
     "execution_count": 60,
     "metadata": {},
     "output_type": "execute_result"
    }
   ],
   "source": [
    "np.sqrt(np.mean((test_ratings- y_pred)**2))"
   ]
  },
  {
   "cell_type": "code",
   "execution_count": 61,
   "id": "4ebb9bd0",
   "metadata": {},
   "outputs": [
    {
     "data": {
      "text/plain": [
       "array([7.7636604, 7.2005568, 7.4564342, ..., 7.0413923, 7.62733  ,\n",
       "       8.095916 ], dtype=float32)"
      ]
     },
     "execution_count": 61,
     "metadata": {},
     "output_type": "execute_result"
    }
   ],
   "source": [
    "y_pred"
   ]
  },
  {
   "cell_type": "code",
   "execution_count": 62,
   "id": "94e3b710",
   "metadata": {
    "scrolled": true
   },
   "outputs": [
    {
     "data": {
      "text/plain": [
       "14223    10.0\n",
       "11893     8.0\n",
       "13592     8.0\n",
       "15719     8.0\n",
       "15019    10.0\n",
       "         ... \n",
       "1259      7.0\n",
       "12851    10.0\n",
       "9195     10.0\n",
       "10111     5.0\n",
       "15910     7.0\n",
       "Name: user_rating, Length: 1146, dtype: float64"
      ]
     },
     "execution_count": 62,
     "metadata": {},
     "output_type": "execute_result"
    }
   ],
   "source": [
    "test_ratings"
   ]
  },
  {
   "cell_type": "markdown",
   "id": "6048deed",
   "metadata": {},
   "source": [
    "### Predict Rating Values. (Apply Regression) "
   ]
  },
  {
   "cell_type": "markdown",
   "id": "eb54745d",
   "metadata": {},
   "source": [
    "Convert dataset to list"
   ]
  },
  {
   "cell_type": "code",
   "execution_count": 63,
   "id": "7fac734f",
   "metadata": {},
   "outputs": [],
   "source": [
    "pred_docs_list = pred_text.to_list()\n",
    "final_pred_list= split_list(pred_docs_list)"
   ]
  },
  {
   "cell_type": "code",
   "execution_count": 64,
   "id": "2c0c0d11",
   "metadata": {},
   "outputs": [],
   "source": [
    "FF=[]\n",
    "for i in final_pred_list : \n",
    "    FF.append(model.infer_vector(i))"
   ]
  },
  {
   "cell_type": "code",
   "execution_count": 65,
   "id": "990e3bfa",
   "metadata": {},
   "outputs": [],
   "source": [
    "X_pred=FF"
   ]
  },
  {
   "cell_type": "code",
   "execution_count": 66,
   "id": "a5f36d3c",
   "metadata": {},
   "outputs": [],
   "source": [
    "Y_pred = lreg.predict(X_pred)"
   ]
  },
  {
   "cell_type": "code",
   "execution_count": 67,
   "id": "b8755d5c",
   "metadata": {},
   "outputs": [
    {
     "data": {
      "text/plain": [
       "array([7.756647 , 7.7001443, 8.234027 , ..., 7.931826 , 7.494736 ,\n",
       "       7.8958144], dtype=float32)"
      ]
     },
     "execution_count": 67,
     "metadata": {},
     "output_type": "execute_result"
    }
   ],
   "source": [
    "Y_pred"
   ]
  },
  {
   "cell_type": "code",
   "execution_count": 68,
   "id": "f5133acb",
   "metadata": {
    "scrolled": false
   },
   "outputs": [
    {
     "data": {
      "text/plain": [
       "130872"
      ]
     },
     "execution_count": 68,
     "metadata": {},
     "output_type": "execute_result"
    }
   ],
   "source": [
    "len(Y_pred)"
   ]
  },
  {
   "cell_type": "code",
   "execution_count": 69,
   "id": "3aa4f0f9",
   "metadata": {},
   "outputs": [],
   "source": [
    "null_rat['user_rating'] = Y_pred"
   ]
  },
  {
   "cell_type": "code",
   "execution_count": 70,
   "id": "fc20900f",
   "metadata": {},
   "outputs": [],
   "source": [
    "null_rat['vector']=FF"
   ]
  },
  {
   "cell_type": "code",
   "execution_count": 71,
   "id": "891c7b2e",
   "metadata": {
    "scrolled": true
   },
   "outputs": [
    {
     "data": {
      "text/html": [
       "<div>\n",
       "<style scoped>\n",
       "    .dataframe tbody tr th:only-of-type {\n",
       "        vertical-align: middle;\n",
       "    }\n",
       "\n",
       "    .dataframe tbody tr th {\n",
       "        vertical-align: top;\n",
       "    }\n",
       "\n",
       "    .dataframe thead th {\n",
       "        text-align: right;\n",
       "    }\n",
       "</style>\n",
       "<table border=\"1\" class=\"dataframe\">\n",
       "  <thead>\n",
       "    <tr style=\"text-align: right;\">\n",
       "      <th></th>\n",
       "      <th>isbn</th>\n",
       "      <th>book_title</th>\n",
       "      <th>book_author</th>\n",
       "      <th>year_of_publication</th>\n",
       "      <th>publisher</th>\n",
       "      <th>summary</th>\n",
       "      <th>category</th>\n",
       "      <th>rating</th>\n",
       "      <th>user_rating</th>\n",
       "      <th>clear_summary</th>\n",
       "      <th>clear_summary_stem</th>\n",
       "      <th>vector</th>\n",
       "    </tr>\n",
       "  </thead>\n",
       "  <tbody>\n",
       "    <tr>\n",
       "      <th>0</th>\n",
       "      <td>0195153448</td>\n",
       "      <td>Classical Mythology</td>\n",
       "      <td>Mark P. O. Morford</td>\n",
       "      <td>2002</td>\n",
       "      <td>Oxford University Press</td>\n",
       "      <td>Provides an introduction to classical myths pl...</td>\n",
       "      <td>['social science']</td>\n",
       "      <td>0.000000</td>\n",
       "      <td>7.756647</td>\n",
       "      <td>provides introduction classical myths placing ...</td>\n",
       "      <td>provid introduct classic myth place address to...</td>\n",
       "      <td>[-0.4178257, -0.49786973, 0.20962027, -0.26985...</td>\n",
       "    </tr>\n",
       "    <tr>\n",
       "      <th>2</th>\n",
       "      <td>0060973129</td>\n",
       "      <td>Decision in Normandy</td>\n",
       "      <td>Carlo D'Este</td>\n",
       "      <td>1991</td>\n",
       "      <td>HarperPerennial</td>\n",
       "      <td>Here, for the first time in paperback, is an o...</td>\n",
       "      <td>['1940-1949']</td>\n",
       "      <td>5.000000</td>\n",
       "      <td>7.700144</td>\n",
       "      <td>here first time paperback outstanding military...</td>\n",
       "      <td>here first time paperback outstand militari hi...</td>\n",
       "      <td>[-0.41022778, 0.062368963, -0.032600842, -0.33...</td>\n",
       "    </tr>\n",
       "    <tr>\n",
       "      <th>3</th>\n",
       "      <td>0374157065</td>\n",
       "      <td>Flu: The Story of the Great Influenza Pandemic...</td>\n",
       "      <td>Gina Bari Kolata</td>\n",
       "      <td>1999</td>\n",
       "      <td>Farrar Straus Giroux</td>\n",
       "      <td>Describes the great flu epidemic of 1918, an o...</td>\n",
       "      <td>['medical']</td>\n",
       "      <td>4.272727</td>\n",
       "      <td>8.234027</td>\n",
       "      <td>describes great flu epidemic outbreak killed f...</td>\n",
       "      <td>describ great flu epidem outbreak kill forti m...</td>\n",
       "      <td>[0.23202969, -0.39174357, 0.22612667, -0.65371...</td>\n",
       "    </tr>\n",
       "    <tr>\n",
       "      <th>4</th>\n",
       "      <td>0393045218</td>\n",
       "      <td>The Mummies of Urumchi</td>\n",
       "      <td>E. J. W. Barber</td>\n",
       "      <td>1999</td>\n",
       "      <td>W. W. Norton &amp; Company</td>\n",
       "      <td>A look at the incredibly well-preserved ancien...</td>\n",
       "      <td>['design']</td>\n",
       "      <td>0.000000</td>\n",
       "      <td>7.183255</td>\n",
       "      <td>a look incredibly wellpreserved ancient mummie...</td>\n",
       "      <td>a look incred wellpreserv ancient mummi found ...</td>\n",
       "      <td>[-0.74110186, -0.15781179, 0.297261, -0.182971...</td>\n",
       "    </tr>\n",
       "    <tr>\n",
       "      <th>6</th>\n",
       "      <td>0425176428</td>\n",
       "      <td>What If?: The World's Foremost Military Histor...</td>\n",
       "      <td>Robert Cowley</td>\n",
       "      <td>2000</td>\n",
       "      <td>Berkley Publishing Group</td>\n",
       "      <td>Essays by respected military historians, inclu...</td>\n",
       "      <td>['history']</td>\n",
       "      <td>1.600000</td>\n",
       "      <td>7.559475</td>\n",
       "      <td>essays respected military historians including...</td>\n",
       "      <td>essay respect militari historian includ stephe...</td>\n",
       "      <td>[-0.34348112, 0.3280173, 0.22075865, -0.621632...</td>\n",
       "    </tr>\n",
       "  </tbody>\n",
       "</table>\n",
       "</div>"
      ],
      "text/plain": [
       "         isbn                                         book_title  \\\n",
       "0  0195153448                                Classical Mythology   \n",
       "2  0060973129                               Decision in Normandy   \n",
       "3  0374157065  Flu: The Story of the Great Influenza Pandemic...   \n",
       "4  0393045218                             The Mummies of Urumchi   \n",
       "6  0425176428  What If?: The World's Foremost Military Histor...   \n",
       "\n",
       "          book_author  year_of_publication                 publisher  \\\n",
       "0  Mark P. O. Morford                 2002   Oxford University Press   \n",
       "2        Carlo D'Este                 1991           HarperPerennial   \n",
       "3    Gina Bari Kolata                 1999      Farrar Straus Giroux   \n",
       "4     E. J. W. Barber                 1999    W. W. Norton & Company   \n",
       "6       Robert Cowley                 2000  Berkley Publishing Group   \n",
       "\n",
       "                                             summary            category  \\\n",
       "0  Provides an introduction to classical myths pl...  ['social science']   \n",
       "2  Here, for the first time in paperback, is an o...       ['1940-1949']   \n",
       "3  Describes the great flu epidemic of 1918, an o...         ['medical']   \n",
       "4  A look at the incredibly well-preserved ancien...          ['design']   \n",
       "6  Essays by respected military historians, inclu...         ['history']   \n",
       "\n",
       "     rating  user_rating                                      clear_summary  \\\n",
       "0  0.000000     7.756647  provides introduction classical myths placing ...   \n",
       "2  5.000000     7.700144  here first time paperback outstanding military...   \n",
       "3  4.272727     8.234027  describes great flu epidemic outbreak killed f...   \n",
       "4  0.000000     7.183255  a look incredibly wellpreserved ancient mummie...   \n",
       "6  1.600000     7.559475  essays respected military historians including...   \n",
       "\n",
       "                                  clear_summary_stem  \\\n",
       "0  provid introduct classic myth place address to...   \n",
       "2  here first time paperback outstand militari hi...   \n",
       "3  describ great flu epidem outbreak kill forti m...   \n",
       "4  a look incred wellpreserv ancient mummi found ...   \n",
       "6  essay respect militari historian includ stephe...   \n",
       "\n",
       "                                              vector  \n",
       "0  [-0.4178257, -0.49786973, 0.20962027, -0.26985...  \n",
       "2  [-0.41022778, 0.062368963, -0.032600842, -0.33...  \n",
       "3  [0.23202969, -0.39174357, 0.22612667, -0.65371...  \n",
       "4  [-0.74110186, -0.15781179, 0.297261, -0.182971...  \n",
       "6  [-0.34348112, 0.3280173, 0.22075865, -0.621632...  "
      ]
     },
     "execution_count": 71,
     "metadata": {},
     "output_type": "execute_result"
    }
   ],
   "source": [
    "null_rat.head()"
   ]
  },
  {
   "cell_type": "markdown",
   "id": "fe75a4b0",
   "metadata": {},
   "source": [
    "Join null user rating Dataframe with non null user rating Dataframe"
   ]
  },
  {
   "cell_type": "code",
   "execution_count": 72,
   "id": "644c5cc7",
   "metadata": {},
   "outputs": [],
   "source": [
    "Output=pd.concat([train,null_rat])"
   ]
  },
  {
   "cell_type": "code",
   "execution_count": 73,
   "id": "5abc0488",
   "metadata": {},
   "outputs": [
    {
     "data": {
      "text/html": [
       "<div>\n",
       "<style scoped>\n",
       "    .dataframe tbody tr th:only-of-type {\n",
       "        vertical-align: middle;\n",
       "    }\n",
       "\n",
       "    .dataframe tbody tr th {\n",
       "        vertical-align: top;\n",
       "    }\n",
       "\n",
       "    .dataframe thead th {\n",
       "        text-align: right;\n",
       "    }\n",
       "</style>\n",
       "<table border=\"1\" class=\"dataframe\">\n",
       "  <thead>\n",
       "    <tr style=\"text-align: right;\">\n",
       "      <th></th>\n",
       "      <th>isbn</th>\n",
       "      <th>book_title</th>\n",
       "      <th>book_author</th>\n",
       "      <th>year_of_publication</th>\n",
       "      <th>publisher</th>\n",
       "      <th>summary</th>\n",
       "      <th>category</th>\n",
       "      <th>rating</th>\n",
       "      <th>user_rating</th>\n",
       "      <th>clear_summary</th>\n",
       "      <th>clear_summary_stem</th>\n",
       "      <th>vector</th>\n",
       "    </tr>\n",
       "  </thead>\n",
       "  <tbody>\n",
       "    <tr>\n",
       "      <th>1</th>\n",
       "      <td>0002005018</td>\n",
       "      <td>Clara Callan</td>\n",
       "      <td>Richard Bruce Wright</td>\n",
       "      <td>2001</td>\n",
       "      <td>HarperFlamingo Canada</td>\n",
       "      <td>In a small town in Canada, Clara Callan reluct...</td>\n",
       "      <td>['actresses']</td>\n",
       "      <td>4.928571</td>\n",
       "      <td>8.0</td>\n",
       "      <td>in small town canada clara callan reluctantly ...</td>\n",
       "      <td>in small town canada clara callan reluct take ...</td>\n",
       "      <td>[0.28106096, 0.090453595, -0.25103736, -0.2579...</td>\n",
       "    </tr>\n",
       "    <tr>\n",
       "      <th>5</th>\n",
       "      <td>0399135782</td>\n",
       "      <td>The Kitchen God's Wife</td>\n",
       "      <td>Amy Tan</td>\n",
       "      <td>1991</td>\n",
       "      <td>Putnam Pub Group</td>\n",
       "      <td>A Chinese immigrant who is convinced she is dy...</td>\n",
       "      <td>['fiction']</td>\n",
       "      <td>4.212121</td>\n",
       "      <td>9.0</td>\n",
       "      <td>a chinese immigrant convinced dying threatens ...</td>\n",
       "      <td>a chines immigr convinc die threaten celebr ch...</td>\n",
       "      <td>[0.31299034, 0.3149997, -0.28059196, -0.448891...</td>\n",
       "    </tr>\n",
       "    <tr>\n",
       "      <th>13</th>\n",
       "      <td>0440234743</td>\n",
       "      <td>The Testament</td>\n",
       "      <td>John Grisham</td>\n",
       "      <td>1999</td>\n",
       "      <td>Dell</td>\n",
       "      <td>A suicidal billionaire, a burnt-out Washington...</td>\n",
       "      <td>['fiction']</td>\n",
       "      <td>3.085308</td>\n",
       "      <td>9.0</td>\n",
       "      <td>a suicidal billionaire burntout washington lit...</td>\n",
       "      <td>a suicid billionair burntout washington litig ...</td>\n",
       "      <td>[-0.3051638, 0.16125838, 0.4299025, -0.4603542...</td>\n",
       "    </tr>\n",
       "    <tr>\n",
       "      <th>14</th>\n",
       "      <td>0452264464</td>\n",
       "      <td>Beloved (Plume Contemporary Fiction)</td>\n",
       "      <td>Toni Morrison</td>\n",
       "      <td>1994</td>\n",
       "      <td>Plume</td>\n",
       "      <td>Staring unflinchingly into the abyss of slaver...</td>\n",
       "      <td>['fiction']</td>\n",
       "      <td>3.411111</td>\n",
       "      <td>8.0</td>\n",
       "      <td>staring unflinchingly abyss slavery novel tran...</td>\n",
       "      <td>stare unflinch abyss slaveri novel transform h...</td>\n",
       "      <td>[-0.4654744, -0.2592744, 0.5294679, -0.4888943...</td>\n",
       "    </tr>\n",
       "    <tr>\n",
       "      <th>15</th>\n",
       "      <td>0609804618</td>\n",
       "      <td>Our Dumb Century: The Onion Presents 100 Years...</td>\n",
       "      <td>The Onion</td>\n",
       "      <td>1999</td>\n",
       "      <td>Three Rivers Press</td>\n",
       "      <td>The staff of The Onion presents a satirical co...</td>\n",
       "      <td>['humor']</td>\n",
       "      <td>5.684211</td>\n",
       "      <td>7.0</td>\n",
       "      <td>the staff the onion presents satirical collect...</td>\n",
       "      <td>the staff the onion present satir collect mock...</td>\n",
       "      <td>[-0.63168454, 0.18599613, -0.17609163, -0.0910...</td>\n",
       "    </tr>\n",
       "  </tbody>\n",
       "</table>\n",
       "</div>"
      ],
      "text/plain": [
       "          isbn                                         book_title  \\\n",
       "1   0002005018                                       Clara Callan   \n",
       "5   0399135782                             The Kitchen God's Wife   \n",
       "13  0440234743                                      The Testament   \n",
       "14  0452264464               Beloved (Plume Contemporary Fiction)   \n",
       "15  0609804618  Our Dumb Century: The Onion Presents 100 Years...   \n",
       "\n",
       "             book_author  year_of_publication              publisher  \\\n",
       "1   Richard Bruce Wright                 2001  HarperFlamingo Canada   \n",
       "5                Amy Tan                 1991       Putnam Pub Group   \n",
       "13          John Grisham                 1999                   Dell   \n",
       "14         Toni Morrison                 1994                  Plume   \n",
       "15             The Onion                 1999     Three Rivers Press   \n",
       "\n",
       "                                              summary       category  \\\n",
       "1   In a small town in Canada, Clara Callan reluct...  ['actresses']   \n",
       "5   A Chinese immigrant who is convinced she is dy...    ['fiction']   \n",
       "13  A suicidal billionaire, a burnt-out Washington...    ['fiction']   \n",
       "14  Staring unflinchingly into the abyss of slaver...    ['fiction']   \n",
       "15  The staff of The Onion presents a satirical co...      ['humor']   \n",
       "\n",
       "      rating  user_rating                                      clear_summary  \\\n",
       "1   4.928571          8.0  in small town canada clara callan reluctantly ...   \n",
       "5   4.212121          9.0  a chinese immigrant convinced dying threatens ...   \n",
       "13  3.085308          9.0  a suicidal billionaire burntout washington lit...   \n",
       "14  3.411111          8.0  staring unflinchingly abyss slavery novel tran...   \n",
       "15  5.684211          7.0  the staff the onion presents satirical collect...   \n",
       "\n",
       "                                   clear_summary_stem  \\\n",
       "1   in small town canada clara callan reluct take ...   \n",
       "5   a chines immigr convinc die threaten celebr ch...   \n",
       "13  a suicid billionair burntout washington litig ...   \n",
       "14  stare unflinch abyss slaveri novel transform h...   \n",
       "15  the staff the onion present satir collect mock...   \n",
       "\n",
       "                                               vector  \n",
       "1   [0.28106096, 0.090453595, -0.25103736, -0.2579...  \n",
       "5   [0.31299034, 0.3149997, -0.28059196, -0.448891...  \n",
       "13  [-0.3051638, 0.16125838, 0.4299025, -0.4603542...  \n",
       "14  [-0.4654744, -0.2592744, 0.5294679, -0.4888943...  \n",
       "15  [-0.63168454, 0.18599613, -0.17609163, -0.0910...  "
      ]
     },
     "execution_count": 73,
     "metadata": {},
     "output_type": "execute_result"
    }
   ],
   "source": [
    "Output.head()"
   ]
  },
  {
   "cell_type": "code",
   "execution_count": 74,
   "id": "060753c6",
   "metadata": {
    "scrolled": true
   },
   "outputs": [],
   "source": [
    "Output=Output.sort_index()"
   ]
  },
  {
   "cell_type": "markdown",
   "id": "dec77a14",
   "metadata": {},
   "source": [
    "## Elasticsearch"
   ]
  },
  {
   "cell_type": "code",
   "execution_count": 75,
   "id": "1842d1ce",
   "metadata": {},
   "outputs": [],
   "source": [
    "ENDPOINT = \"http://localhost:9200/\"\n",
    "es = Elasticsearch(timeout=600,hosts=ENDPOINT)"
   ]
  },
  {
   "cell_type": "code",
   "execution_count": 76,
   "id": "5095d027",
   "metadata": {},
   "outputs": [
    {
     "data": {
      "text/plain": [
       "<bound method Elasticsearch.ping of <Elasticsearch([{'host': 'localhost', 'port': 9200}])>>"
      ]
     },
     "execution_count": 76,
     "metadata": {},
     "output_type": "execute_result"
    }
   ],
   "source": [
    "es.ping"
   ]
  },
  {
   "cell_type": "code",
   "execution_count": 77,
   "id": "28c5e6ef",
   "metadata": {},
   "outputs": [],
   "source": [
    "elastic_data = Output.to_dict('records')"
   ]
  },
  {
   "cell_type": "code",
   "execution_count": 78,
   "id": "63d5ec30",
   "metadata": {},
   "outputs": [],
   "source": [
    "def generator(elastic_data):\n",
    "    for c, line in enumerate(elastic_data):\n",
    "        yield{\n",
    "            '_index':'rbooks_elk',\n",
    "            '_type':'_doc',\n",
    "            '_id':line.get(\"isbn\",None),\n",
    "            '_source':{\n",
    "                \"title\":line.get(\"book_title\",\"\"),\n",
    "                \"author\":line.get(\"book_author\",\"\"),\n",
    "                \"summary\":line.get(\"summary\",\"\"),\n",
    "                \"category\":line.get(\"category\",\"\"),\n",
    "                \"year\":line.get(\"year_of_publication\",None),\n",
    "                \"publisher\":line.get(\"publisher\",\"\"),\n",
    "                \"rating\":line.get(\"rating\",None),\n",
    "                \"user_rating\":line.get(\"user_rating\",None)\n",
    "                \n",
    "            }        \n",
    "    }\n",
    "    raise StopIteration"
   ]
  },
  {
   "cell_type": "code",
   "execution_count": 79,
   "id": "9c0f583f",
   "metadata": {},
   "outputs": [],
   "source": [
    "custom = generator(elastic_data)"
   ]
  },
  {
   "cell_type": "code",
   "execution_count": 80,
   "id": "ed1da7fd",
   "metadata": {},
   "outputs": [
    {
     "data": {
      "text/plain": [
       "{'_index': 'rbooks_elk',\n",
       " '_type': '_doc',\n",
       " '_id': '0195153448',\n",
       " '_source': {'title': 'Classical Mythology',\n",
       "  'author': 'Mark P. O. Morford',\n",
       "  'summary': 'Provides an introduction to classical myths placing the addressed\\ntopics within their historical context, discussion of archaeological\\nevidence as support for mythical events, and how these themes have\\nbeen portrayed in literature, art, ...',\n",
       "  'category': \"['social science']\",\n",
       "  'year': 2002,\n",
       "  'publisher': 'Oxford University Press',\n",
       "  'rating': 0.0,\n",
       "  'user_rating': 7.756647109985352}}"
      ]
     },
     "execution_count": 80,
     "metadata": {},
     "output_type": "execute_result"
    }
   ],
   "source": [
    "next(custom)"
   ]
  },
  {
   "cell_type": "code",
   "execution_count": 81,
   "id": "da987d53",
   "metadata": {
    "scrolled": true
   },
   "outputs": [
    {
     "data": {
      "text/plain": [
       "134692"
      ]
     },
     "execution_count": 81,
     "metadata": {},
     "output_type": "execute_result"
    }
   ],
   "source": [
    "len(elastic_data)"
   ]
  },
  {
   "cell_type": "code",
   "execution_count": 82,
   "id": "de12fea2",
   "metadata": {},
   "outputs": [],
   "source": [
    "try:\n",
    "    res = helpers.bulk( es , generator(elastic_data))\n",
    "    print(\"Working\")\n",
    "except Exception as e : \n",
    "    pass"
   ]
  },
  {
   "cell_type": "code",
   "execution_count": 83,
   "id": "2a4433c5",
   "metadata": {},
   "outputs": [
    {
     "name": "stdout",
     "output_type": "stream",
     "text": [
      "Search Book: Harry Potter\n"
     ]
    }
   ],
   "source": [
    "inp = input(\"Search Book: \")\n",
    "myquery = {\n",
    "   \"_source\":[\"title\",\"year\",\"author\",\"rating\",\"user_rating\" ],\n",
    "  \"size\":20,\n",
    "  \"track_scores\":True,\n",
    "  \"query\": {\n",
    "    \"match\": {\n",
    "      \"title\": inp\n",
    "    }\n",
    "  },\n",
    "   \"sort\": [\n",
    "       {\"_script\":\n",
    "        {\n",
    "      \"type\": \"number\",\n",
    "      \n",
    "      \"script\":{\n",
    "        \"lang\": \"painless\", \n",
    "        \"source\":  \"_score*3+doc['rating'].value+doc['user_rating'].value*2\"\n",
    "      },\n",
    "      \"order\": \"desc\"\n",
    "      }\n",
    "    }\n",
    "  ]\n",
    "}\n"
   ]
  },
  {
   "cell_type": "code",
   "execution_count": 84,
   "id": "313fd150",
   "metadata": {},
   "outputs": [],
   "source": [
    "res = es.search (\n",
    "    index='rbooks_elk',\n",
    "    size= 10,\n",
    "    body= myquery  \n",
    " )"
   ]
  },
  {
   "cell_type": "code",
   "execution_count": 85,
   "id": "3899a2d3",
   "metadata": {
    "scrolled": false
   },
   "outputs": [
    {
     "data": {
      "text/plain": [
       "{'took': 4007,\n",
       " 'timed_out': False,\n",
       " '_shards': {'total': 1, 'successful': 1, 'skipped': 0, 'failed': 0},\n",
       " 'hits': {'total': {'value': 142, 'relation': 'eq'},\n",
       "  'max_score': 18.133854,\n",
       "  'hits': [{'_index': 'rbooks_elk',\n",
       "    '_type': '_doc',\n",
       "    '_id': '059035342X',\n",
       "    '_score': 18.133854,\n",
       "    '_source': {'year': 1999,\n",
       "     'author': 'J. K. Rowling',\n",
       "     'rating': 4.900175131348512,\n",
       "     'title': \"Harry Potter and the Sorcerer's Stone (Harry Potter (Paperback))\",\n",
       "     'user_rating': 10.0},\n",
       "    'sort': [79.30173683166504]},\n",
       "   {'_index': 'rbooks_elk',\n",
       "    '_type': '_doc',\n",
       "    '_id': '043965548X',\n",
       "    '_score': 18.133854,\n",
       "    '_source': {'year': 2004,\n",
       "     'author': 'J.K. Rowling',\n",
       "     'rating': 3.533333333333333,\n",
       "     'title': 'Harry Potter and the Prisoner of Azkaban (Harry Potter)',\n",
       "     'user_rating': 9.0},\n",
       "    'sort': [75.93489503860474]},\n",
       "   {'_index': 'rbooks_elk',\n",
       "    '_type': '_doc',\n",
       "    '_id': '1594130027',\n",
       "    '_score': 17.44447,\n",
       "    '_source': {'year': 2003,\n",
       "     'author': 'J. K. Rowling',\n",
       "     'rating': 4.5,\n",
       "     'title': 'Harry Potter and the Prisoner of Azkaban (Harry Potter (Paperback))',\n",
       "     'user_rating': 7.894755840301514},\n",
       "    'sort': [72.62292003631592]},\n",
       "   {'_index': 'rbooks_elk',\n",
       "    '_type': '_doc',\n",
       "    '_id': '031226481X',\n",
       "    '_score': 17.360874,\n",
       "    '_source': {'year': 1999,\n",
       "     'author': 'Sharon Moore',\n",
       "     'rating': 4.4,\n",
       "     'title': 'We Love Harry Potter!',\n",
       "     'user_rating': 7.923882484436035},\n",
       "    'sort': [72.33038759231567]},\n",
       "   {'_index': 'rbooks_elk',\n",
       "    '_type': '_doc',\n",
       "    '_id': '8478886567',\n",
       "    '_score': 15.078879,\n",
       "    '_source': {'year': 2000,\n",
       "     'author': 'J. K. Rowling',\n",
       "     'rating': 10.0,\n",
       "     'title': 'Harry Potter y la camara secreta',\n",
       "     'user_rating': 7.765320301055908},\n",
       "    'sort': [70.76727867126465]},\n",
       "   {'_index': 'rbooks_elk',\n",
       "    '_type': '_doc',\n",
       "    '_id': '0606170979',\n",
       "    '_score': 15.078879,\n",
       "    '_source': {'year': 1998,\n",
       "     'author': 'Mary Grandpre',\n",
       "     'rating': 9.0,\n",
       "     'title': \"Harry Potter and the  Sorcerer's Stone\",\n",
       "     'user_rating': 7.81032657623291},\n",
       "    'sort': [69.85729122161865]},\n",
       "   {'_index': 'rbooks_elk',\n",
       "    '_type': '_doc',\n",
       "    '_id': '0613496744',\n",
       "    '_score': 14.148976,\n",
       "    '_source': {'year': 2002,\n",
       "     'author': 'J. K. Rowling',\n",
       "     'rating': 10.0,\n",
       "     'title': 'Harry Potter and the Goblet of Fire',\n",
       "     'user_rating': 7.804374694824219},\n",
       "    'sort': [68.05567836761475]},\n",
       "   {'_index': 'rbooks_elk',\n",
       "    '_type': '_doc',\n",
       "    '_id': '0747545774',\n",
       "    '_score': 14.148976,\n",
       "    '_source': {'year': 2000,\n",
       "     'author': 'J. K. Rowling',\n",
       "     'rating': 9.0,\n",
       "     'title': 'Harry Potter and the Chamber of Secrets',\n",
       "     'user_rating': 7.44919490814209},\n",
       "    'sort': [66.34531879425049]},\n",
       "   {'_index': 'rbooks_elk',\n",
       "    '_type': '_doc',\n",
       "    '_id': '0972322108',\n",
       "    '_score': 13.37631,\n",
       "    '_source': {'year': 2002,\n",
       "     'author': 'John Granger',\n",
       "     'rating': 10.0,\n",
       "     'title': \"The Hidden Key to Harry Potter: Understanding the Meaning, Genius, and Popularity of Joanne Rowling's Harry Potter Novels\",\n",
       "     'user_rating': 7.713225364685059},\n",
       "    'sort': [65.55538177490234]},\n",
       "   {'_index': 'rbooks_elk',\n",
       "    '_type': '_doc',\n",
       "    '_id': '0747561966',\n",
       "    '_score': 15.078879,\n",
       "    '_source': {'year': 2003,\n",
       "     'author': 'J.K. Rowling',\n",
       "     'rating': 4.666666666666667,\n",
       "     'title': \"Harry Potter and the Philosopher's Stone\",\n",
       "     'user_rating': 7.7849225997924805},\n",
       "    'sort': [65.47314977645874]}]}}"
      ]
     },
     "execution_count": 85,
     "metadata": {},
     "output_type": "execute_result"
    }
   ],
   "source": [
    "res"
   ]
  },
  {
   "cell_type": "code",
   "execution_count": 86,
   "id": "6426584c",
   "metadata": {},
   "outputs": [
    {
     "name": "stdout",
     "output_type": "stream",
     "text": [
      "1 : Harry Potter and the Sorcerer's Stone (Harry Potter (Paperback)) \n",
      "\n",
      "2 : Harry Potter and the Prisoner of Azkaban (Harry Potter) \n",
      "\n",
      "3 : Harry Potter and the Prisoner of Azkaban (Harry Potter (Paperback)) \n",
      "\n",
      "4 : We Love Harry Potter! \n",
      "\n",
      "5 : Harry Potter y la camara secreta \n",
      "\n",
      "6 : Harry Potter and the  Sorcerer's Stone \n",
      "\n",
      "7 : Harry Potter and the Goblet of Fire \n",
      "\n",
      "8 : Harry Potter and the Chamber of Secrets \n",
      "\n",
      "9 : The Hidden Key to Harry Potter: Understanding the Meaning, Genius, and Popularity of Joanne Rowling's Harry Potter Novels \n",
      "\n",
      "10 : Harry Potter and the Philosopher's Stone \n",
      "\n"
     ]
    }
   ],
   "source": [
    "r=res[\"hits\"].get('hits')\n",
    "for i in range(len(r)):\n",
    "    for key in r[i]:\n",
    "        if key == '_source': \n",
    "            print(i+1,\":\",r[i][key]['title'],'\\n')"
   ]
  },
  {
   "cell_type": "code",
   "execution_count": 87,
   "id": "d0072047",
   "metadata": {},
   "outputs": [
    {
     "data": {
      "text/html": [
       "<div>\n",
       "<style scoped>\n",
       "    .dataframe tbody tr th:only-of-type {\n",
       "        vertical-align: middle;\n",
       "    }\n",
       "\n",
       "    .dataframe tbody tr th {\n",
       "        vertical-align: top;\n",
       "    }\n",
       "\n",
       "    .dataframe thead th {\n",
       "        text-align: right;\n",
       "    }\n",
       "</style>\n",
       "<table border=\"1\" class=\"dataframe\">\n",
       "  <thead>\n",
       "    <tr style=\"text-align: right;\">\n",
       "      <th></th>\n",
       "      <th>isbn</th>\n",
       "      <th>book_title</th>\n",
       "      <th>book_author</th>\n",
       "      <th>year_of_publication</th>\n",
       "      <th>publisher</th>\n",
       "      <th>summary</th>\n",
       "      <th>category</th>\n",
       "      <th>rating</th>\n",
       "      <th>user_rating</th>\n",
       "      <th>clear_summary</th>\n",
       "      <th>clear_summary_stem</th>\n",
       "      <th>vector</th>\n",
       "    </tr>\n",
       "  </thead>\n",
       "  <tbody>\n",
       "    <tr>\n",
       "      <th>0</th>\n",
       "      <td>0195153448</td>\n",
       "      <td>Classical Mythology</td>\n",
       "      <td>Mark P. O. Morford</td>\n",
       "      <td>2002</td>\n",
       "      <td>Oxford University Press</td>\n",
       "      <td>Provides an introduction to classical myths pl...</td>\n",
       "      <td>['social science']</td>\n",
       "      <td>0.000000</td>\n",
       "      <td>7.756647</td>\n",
       "      <td>provides introduction classical myths placing ...</td>\n",
       "      <td>provid introduct classic myth place address to...</td>\n",
       "      <td>[-0.4178257, -0.49786973, 0.20962027, -0.26985...</td>\n",
       "    </tr>\n",
       "    <tr>\n",
       "      <th>1</th>\n",
       "      <td>0002005018</td>\n",
       "      <td>Clara Callan</td>\n",
       "      <td>Richard Bruce Wright</td>\n",
       "      <td>2001</td>\n",
       "      <td>HarperFlamingo Canada</td>\n",
       "      <td>In a small town in Canada, Clara Callan reluct...</td>\n",
       "      <td>['actresses']</td>\n",
       "      <td>4.928571</td>\n",
       "      <td>8.000000</td>\n",
       "      <td>in small town canada clara callan reluctantly ...</td>\n",
       "      <td>in small town canada clara callan reluct take ...</td>\n",
       "      <td>[0.28106096, 0.090453595, -0.25103736, -0.2579...</td>\n",
       "    </tr>\n",
       "    <tr>\n",
       "      <th>2</th>\n",
       "      <td>0060973129</td>\n",
       "      <td>Decision in Normandy</td>\n",
       "      <td>Carlo D'Este</td>\n",
       "      <td>1991</td>\n",
       "      <td>HarperPerennial</td>\n",
       "      <td>Here, for the first time in paperback, is an o...</td>\n",
       "      <td>['1940-1949']</td>\n",
       "      <td>5.000000</td>\n",
       "      <td>7.700144</td>\n",
       "      <td>here first time paperback outstanding military...</td>\n",
       "      <td>here first time paperback outstand militari hi...</td>\n",
       "      <td>[-0.41022778, 0.062368963, -0.032600842, -0.33...</td>\n",
       "    </tr>\n",
       "    <tr>\n",
       "      <th>3</th>\n",
       "      <td>0374157065</td>\n",
       "      <td>Flu: The Story of the Great Influenza Pandemic...</td>\n",
       "      <td>Gina Bari Kolata</td>\n",
       "      <td>1999</td>\n",
       "      <td>Farrar Straus Giroux</td>\n",
       "      <td>Describes the great flu epidemic of 1918, an o...</td>\n",
       "      <td>['medical']</td>\n",
       "      <td>4.272727</td>\n",
       "      <td>8.234027</td>\n",
       "      <td>describes great flu epidemic outbreak killed f...</td>\n",
       "      <td>describ great flu epidem outbreak kill forti m...</td>\n",
       "      <td>[0.23202969, -0.39174357, 0.22612667, -0.65371...</td>\n",
       "    </tr>\n",
       "    <tr>\n",
       "      <th>4</th>\n",
       "      <td>0393045218</td>\n",
       "      <td>The Mummies of Urumchi</td>\n",
       "      <td>E. J. W. Barber</td>\n",
       "      <td>1999</td>\n",
       "      <td>W. W. Norton &amp; Company</td>\n",
       "      <td>A look at the incredibly well-preserved ancien...</td>\n",
       "      <td>['design']</td>\n",
       "      <td>0.000000</td>\n",
       "      <td>7.183255</td>\n",
       "      <td>a look incredibly wellpreserved ancient mummie...</td>\n",
       "      <td>a look incred wellpreserv ancient mummi found ...</td>\n",
       "      <td>[-0.74110186, -0.15781179, 0.297261, -0.182971...</td>\n",
       "    </tr>\n",
       "  </tbody>\n",
       "</table>\n",
       "</div>"
      ],
      "text/plain": [
       "         isbn                                         book_title  \\\n",
       "0  0195153448                                Classical Mythology   \n",
       "1  0002005018                                       Clara Callan   \n",
       "2  0060973129                               Decision in Normandy   \n",
       "3  0374157065  Flu: The Story of the Great Influenza Pandemic...   \n",
       "4  0393045218                             The Mummies of Urumchi   \n",
       "\n",
       "            book_author  year_of_publication                publisher  \\\n",
       "0    Mark P. O. Morford                 2002  Oxford University Press   \n",
       "1  Richard Bruce Wright                 2001    HarperFlamingo Canada   \n",
       "2          Carlo D'Este                 1991          HarperPerennial   \n",
       "3      Gina Bari Kolata                 1999     Farrar Straus Giroux   \n",
       "4       E. J. W. Barber                 1999   W. W. Norton & Company   \n",
       "\n",
       "                                             summary            category  \\\n",
       "0  Provides an introduction to classical myths pl...  ['social science']   \n",
       "1  In a small town in Canada, Clara Callan reluct...       ['actresses']   \n",
       "2  Here, for the first time in paperback, is an o...       ['1940-1949']   \n",
       "3  Describes the great flu epidemic of 1918, an o...         ['medical']   \n",
       "4  A look at the incredibly well-preserved ancien...          ['design']   \n",
       "\n",
       "     rating  user_rating                                      clear_summary  \\\n",
       "0  0.000000     7.756647  provides introduction classical myths placing ...   \n",
       "1  4.928571     8.000000  in small town canada clara callan reluctantly ...   \n",
       "2  5.000000     7.700144  here first time paperback outstanding military...   \n",
       "3  4.272727     8.234027  describes great flu epidemic outbreak killed f...   \n",
       "4  0.000000     7.183255  a look incredibly wellpreserved ancient mummie...   \n",
       "\n",
       "                                  clear_summary_stem  \\\n",
       "0  provid introduct classic myth place address to...   \n",
       "1  in small town canada clara callan reluct take ...   \n",
       "2  here first time paperback outstand militari hi...   \n",
       "3  describ great flu epidem outbreak kill forti m...   \n",
       "4  a look incred wellpreserv ancient mummi found ...   \n",
       "\n",
       "                                              vector  \n",
       "0  [-0.4178257, -0.49786973, 0.20962027, -0.26985...  \n",
       "1  [0.28106096, 0.090453595, -0.25103736, -0.2579...  \n",
       "2  [-0.41022778, 0.062368963, -0.032600842, -0.33...  \n",
       "3  [0.23202969, -0.39174357, 0.22612667, -0.65371...  \n",
       "4  [-0.74110186, -0.15781179, 0.297261, -0.182971...  "
      ]
     },
     "execution_count": 87,
     "metadata": {},
     "output_type": "execute_result"
    }
   ],
   "source": [
    "Output.head()"
   ]
  },
  {
   "cell_type": "code",
   "execution_count": 88,
   "id": "33f88d2b",
   "metadata": {},
   "outputs": [
    {
     "name": "stdout",
     "output_type": "stream",
     "text": [
      "Empty DataFrame\n",
      "Columns: [isbn, book_title, book_author, year_of_publication, publisher, summary, category, rating, user_rating, clear_summary, clear_summary_stem, vector]\n",
      "Index: []\n"
     ]
    }
   ],
   "source": [
    "print(Output[Output['isbn']=='059035342'])"
   ]
  },
  {
   "cell_type": "code",
   "execution_count": 89,
   "id": "fe3715dd",
   "metadata": {},
   "outputs": [
    {
     "name": "stdout",
     "output_type": "stream",
     "text": [
      "1 : Harry Potter and the Sorcerer's Stone (Harry Potter (Paperback)) \n",
      "\n",
      "2 : Harry Potter and the Prisoner of Azkaban (Harry Potter) \n",
      "\n",
      "3 : Harry Potter and the Prisoner of Azkaban (Harry Potter (Paperback)) \n",
      "\n",
      "4 : We Love Harry Potter! \n",
      "\n",
      "5 : Harry Potter y la camara secreta \n",
      "\n",
      "6 : Harry Potter and the  Sorcerer's Stone \n",
      "\n",
      "7 : Harry Potter and the Goblet of Fire \n",
      "\n",
      "8 : Harry Potter and the Chamber of Secrets \n",
      "\n",
      "9 : The Hidden Key to Harry Potter: Understanding the Meaning, Genius, and Popularity of Joanne Rowling's Harry Potter Novels \n",
      "\n",
      "10 : Harry Potter and the Philosopher's Stone \n",
      "\n"
     ]
    }
   ],
   "source": [
    "r=res[\"hits\"].get('hits')\n",
    "for i in range(len(r)):\n",
    "    for key in r[i]:\n",
    "        if key == '_source': \n",
    "            print(i+1,\":\",r[i][key]['title'],'\\n')"
   ]
  },
  {
   "cell_type": "code",
   "execution_count": null,
   "id": "e17e2de8",
   "metadata": {},
   "outputs": [],
   "source": []
  }
 ],
 "metadata": {
  "kernelspec": {
   "display_name": "Python 3",
   "language": "python",
   "name": "python3"
  },
  "language_info": {
   "codemirror_mode": {
    "name": "ipython",
    "version": 3
   },
   "file_extension": ".py",
   "mimetype": "text/x-python",
   "name": "python",
   "nbconvert_exporter": "python",
   "pygments_lexer": "ipython3",
   "version": "3.9.4"
  }
 },
 "nbformat": 4,
 "nbformat_minor": 5
}
