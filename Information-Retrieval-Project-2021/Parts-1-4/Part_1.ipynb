{
 "cells": [
  {
   "cell_type": "markdown",
   "id": "28bcd932",
   "metadata": {},
   "source": [
    "# Project Ανάκτηση Πληροφορίας\n",
    "### Part 1"
   ]
  },
  {
   "cell_type": "markdown",
   "id": "43952345",
   "metadata": {},
   "source": [
    "#### Imports:"
   ]
  },
  {
   "cell_type": "code",
   "execution_count": 19,
   "id": "8eb1abdc",
   "metadata": {},
   "outputs": [
    {
     "name": "stdout",
     "output_type": "stream",
     "text": [
      "All Modules Loaded ! \n"
     ]
    }
   ],
   "source": [
    "try:\n",
    "    import os\n",
    "    import sys\n",
    "    \n",
    "    import elasticsearch\n",
    "    from elasticsearch import Elasticsearch \n",
    "    import pandas as pd\n",
    "    from elasticsearch import helpers\n",
    "    print(\"All Modules Loaded ! \")\n",
    "    import warnings   \n",
    "    warnings.filterwarnings('ignore')\n",
    "except Exception as e:\n",
    "    print(\"Some Modules are Missing {}\".format(e))"
   ]
  },
  {
   "cell_type": "code",
   "execution_count": 20,
   "id": "5f9ce55f",
   "metadata": {
    "scrolled": true
   },
   "outputs": [
    {
     "name": "stdout",
     "output_type": "stream",
     "text": [
      ".ipynb_checkpoints\n",
      "BX-Book-Ratings.csv\n",
      "BX-Books.csv\n",
      "BX-Users.csv\n",
      "Code.py\n",
      "D2V_Model.model\n",
      "Datasets.zip\n",
      "information_retrieval_project_2021.docx\n",
      "ir2021_1053708_1066488.zip\n",
      "output.csv\n",
      "Part_1.ipynb\n",
      "Part_2.ipynb\n",
      "Part_3.0.ipynb\n",
      "Part_4.0.ipynb\n",
      "vector.jpg\n"
     ]
    }
   ],
   "source": [
    "for x in os.listdir():\n",
    "    print(x)"
   ]
  },
  {
   "cell_type": "markdown",
   "id": "b662787c",
   "metadata": {},
   "source": [
    "## Read Dataset"
   ]
  },
  {
   "cell_type": "code",
   "execution_count": 21,
   "id": "ed5b196d",
   "metadata": {},
   "outputs": [],
   "source": [
    "df = pd.read_csv(\"BX-Books.csv\")"
   ]
  },
  {
   "cell_type": "markdown",
   "id": "6d34c7ac",
   "metadata": {},
   "source": [
    "## Creating Elasticsearch Instance"
   ]
  },
  {
   "cell_type": "code",
   "execution_count": 22,
   "id": "e9fb72bb",
   "metadata": {},
   "outputs": [],
   "source": [
    "ENDPOINT = \"http://localhost:9200/\"\n",
    "es = Elasticsearch(timeout=600,hosts=ENDPOINT)"
   ]
  },
  {
   "cell_type": "code",
   "execution_count": 23,
   "id": "c5d30ad4",
   "metadata": {
    "scrolled": true
   },
   "outputs": [
    {
     "data": {
      "text/plain": [
       "True"
      ]
     },
     "execution_count": 23,
     "metadata": {},
     "output_type": "execute_result"
    }
   ],
   "source": [
    "es.ping()"
   ]
  },
  {
   "cell_type": "code",
   "execution_count": 24,
   "id": "d7c52844",
   "metadata": {},
   "outputs": [
    {
     "data": {
      "text/html": [
       "<div>\n",
       "<style scoped>\n",
       "    .dataframe tbody tr th:only-of-type {\n",
       "        vertical-align: middle;\n",
       "    }\n",
       "\n",
       "    .dataframe tbody tr th {\n",
       "        vertical-align: top;\n",
       "    }\n",
       "\n",
       "    .dataframe thead th {\n",
       "        text-align: right;\n",
       "    }\n",
       "</style>\n",
       "<table border=\"1\" class=\"dataframe\">\n",
       "  <thead>\n",
       "    <tr style=\"text-align: right;\">\n",
       "      <th></th>\n",
       "      <th>isbn</th>\n",
       "      <th>book_title</th>\n",
       "      <th>book_author</th>\n",
       "      <th>year_of_publication</th>\n",
       "      <th>publisher</th>\n",
       "      <th>summary</th>\n",
       "      <th>category</th>\n",
       "    </tr>\n",
       "  </thead>\n",
       "  <tbody>\n",
       "    <tr>\n",
       "      <th>0</th>\n",
       "      <td>0195153448</td>\n",
       "      <td>Classical Mythology</td>\n",
       "      <td>Mark P. O. Morford</td>\n",
       "      <td>2002</td>\n",
       "      <td>Oxford University Press</td>\n",
       "      <td>Provides an introduction to classical myths pl...</td>\n",
       "      <td>['social science']</td>\n",
       "    </tr>\n",
       "    <tr>\n",
       "      <th>1</th>\n",
       "      <td>0002005018</td>\n",
       "      <td>Clara Callan</td>\n",
       "      <td>Richard Bruce Wright</td>\n",
       "      <td>2001</td>\n",
       "      <td>HarperFlamingo Canada</td>\n",
       "      <td>In a small town in Canada, Clara Callan reluct...</td>\n",
       "      <td>['actresses']</td>\n",
       "    </tr>\n",
       "  </tbody>\n",
       "</table>\n",
       "</div>"
      ],
      "text/plain": [
       "         isbn           book_title           book_author  year_of_publication  \\\n",
       "0  0195153448  Classical Mythology    Mark P. O. Morford                 2002   \n",
       "1  0002005018         Clara Callan  Richard Bruce Wright                 2001   \n",
       "\n",
       "                 publisher                                            summary  \\\n",
       "0  Oxford University Press  Provides an introduction to classical myths pl...   \n",
       "1    HarperFlamingo Canada  In a small town in Canada, Clara Callan reluct...   \n",
       "\n",
       "             category  \n",
       "0  ['social science']  \n",
       "1       ['actresses']  "
      ]
     },
     "execution_count": 24,
     "metadata": {},
     "output_type": "execute_result"
    }
   ],
   "source": [
    "df.head(2)"
   ]
  },
  {
   "cell_type": "code",
   "execution_count": 25,
   "id": "9de68b97",
   "metadata": {},
   "outputs": [
    {
     "data": {
      "text/plain": [
       "Index(['isbn', 'book_title', 'book_author', 'year_of_publication', 'publisher',\n",
       "       'summary', 'category'],\n",
       "      dtype='object')"
      ]
     },
     "execution_count": 25,
     "metadata": {},
     "output_type": "execute_result"
    }
   ],
   "source": [
    "df.columns"
   ]
  },
  {
   "cell_type": "code",
   "execution_count": 26,
   "id": "11e08b40",
   "metadata": {},
   "outputs": [
    {
     "data": {
      "text/plain": [
       "(134692, 7)"
      ]
     },
     "execution_count": 26,
     "metadata": {},
     "output_type": "execute_result"
    }
   ],
   "source": [
    "df.shape"
   ]
  },
  {
   "cell_type": "code",
   "execution_count": 27,
   "id": "7d749206",
   "metadata": {
    "scrolled": true
   },
   "outputs": [
    {
     "data": {
      "text/plain": [
       "isbn                   0\n",
       "book_title             0\n",
       "book_author            0\n",
       "year_of_publication    0\n",
       "publisher              0\n",
       "summary                0\n",
       "category               0\n",
       "dtype: int64"
      ]
     },
     "execution_count": 27,
     "metadata": {},
     "output_type": "execute_result"
    }
   ],
   "source": [
    "df.isna().sum()"
   ]
  },
  {
   "cell_type": "markdown",
   "id": "dcce39f0",
   "metadata": {},
   "source": [
    "#### Convert CSV to JSON in order to send to Elasticsearch "
   ]
  },
  {
   "cell_type": "code",
   "execution_count": 35,
   "id": "d7965f13",
   "metadata": {},
   "outputs": [],
   "source": [
    "df2 = df.to_dict('records')"
   ]
  },
  {
   "cell_type": "code",
   "execution_count": 36,
   "id": "e81ff5f3",
   "metadata": {
    "scrolled": true
   },
   "outputs": [
    {
     "data": {
      "text/plain": [
       "{'isbn': '0195153448',\n",
       " 'book_title': 'Classical Mythology',\n",
       " 'book_author': 'Mark P. O. Morford',\n",
       " 'year_of_publication': 2002,\n",
       " 'publisher': 'Oxford University Press',\n",
       " 'summary': 'Provides an introduction to classical myths placing the addressed\\ntopics within their historical context, discussion of archaeological\\nevidence as support for mythical events, and how these themes have\\nbeen portrayed in literature, art, ...',\n",
       " 'category': \"['social science']\"}"
      ]
     },
     "execution_count": 36,
     "metadata": {},
     "output_type": "execute_result"
    }
   ],
   "source": [
    "df2[0]"
   ]
  },
  {
   "cell_type": "markdown",
   "id": "a6b30f52",
   "metadata": {},
   "source": [
    "#### Format data\n"
   ]
  },
  {
   "cell_type": "code",
   "execution_count": 32,
   "id": "b2859497",
   "metadata": {},
   "outputs": [],
   "source": [
    "def generator(df2):\n",
    "    for c, line in enumerate(df2):\n",
    "        yield{\n",
    "            '_index':'books_elk',\n",
    "            '_type':'_doc',\n",
    "            '_id':line.get(\"isbn\",None),\n",
    "            '_source':{\n",
    "                \"title\":line.get(\"book_title\",\"\"),\n",
    "                \"author\":line.get(\"book_author\",\"\"),\n",
    "                \"summary\":line.get(\"summary\",\"\"),\n",
    "                \"category\":line.get(\"category\",\"\"),\n",
    "                \"year\":line.get(\"year_of_publication\",None),\n",
    "                \"publisher\":line.get(\"publisher\",\"\"),\n",
    "                \n",
    "                \n",
    "            }        \n",
    "    }\n",
    "    raise StopIteration"
   ]
  },
  {
   "cell_type": "code",
   "execution_count": 37,
   "id": "d7acd6b1",
   "metadata": {},
   "outputs": [],
   "source": [
    "custom = generator(df2)"
   ]
  },
  {
   "cell_type": "code",
   "execution_count": 38,
   "id": "eec5113a",
   "metadata": {
    "scrolled": false
   },
   "outputs": [
    {
     "data": {
      "text/plain": [
       "{'_index': 'books_elk',\n",
       " '_type': '_doc',\n",
       " '_id': '0195153448',\n",
       " '_source': {'title': 'Classical Mythology',\n",
       "  'author': 'Mark P. O. Morford',\n",
       "  'summary': 'Provides an introduction to classical myths placing the addressed\\ntopics within their historical context, discussion of archaeological\\nevidence as support for mythical events, and how these themes have\\nbeen portrayed in literature, art, ...',\n",
       "  'category': \"['social science']\",\n",
       "  'year': 2002,\n",
       "  'publisher': 'Oxford University Press'}}"
      ]
     },
     "execution_count": 38,
     "metadata": {},
     "output_type": "execute_result"
    }
   ],
   "source": [
    "next(custom)"
   ]
  },
  {
   "cell_type": "markdown",
   "id": "360b0701",
   "metadata": {},
   "source": [
    "## Upload in ElasticSearch"
   ]
  },
  {
   "cell_type": "code",
   "execution_count": 41,
   "id": "1bf68561",
   "metadata": {},
   "outputs": [],
   "source": [
    "try:\n",
    "    res = helpers.bulk( es , generator(df2))\n",
    "    print(\"Working\")\n",
    "except Exception as e : \n",
    "    pass"
   ]
  },
  {
   "cell_type": "markdown",
   "id": "4f967080",
   "metadata": {},
   "source": [
    "## Query"
   ]
  },
  {
   "cell_type": "code",
   "execution_count": 42,
   "id": "8ffc7c89",
   "metadata": {},
   "outputs": [
    {
     "name": "stdout",
     "output_type": "stream",
     "text": [
      "Search Book: Harry Potter\n"
     ]
    }
   ],
   "source": [
    "inp = input(\"Search Book: \")\n",
    "myquery = {\n",
    "  \"_source\":[\"title\"],\n",
    "  \"size\":10,\"query\": {\n",
    "    \"match\": {\n",
    "      \"title\": inp\n",
    "    }\n",
    "  }\n",
    "}"
   ]
  },
  {
   "cell_type": "markdown",
   "id": "bece5fc8",
   "metadata": {},
   "source": [
    "### Response "
   ]
  },
  {
   "cell_type": "code",
   "execution_count": 43,
   "id": "a3d68030",
   "metadata": {},
   "outputs": [],
   "source": [
    "res = es.search (\n",
    "    index='books_elk',\n",
    "    size= 5,\n",
    "    body= myquery  \n",
    " )"
   ]
  },
  {
   "cell_type": "code",
   "execution_count": 44,
   "id": "d9c1a909",
   "metadata": {},
   "outputs": [
    {
     "data": {
      "text/plain": [
       "{'took': 3085,\n",
       " 'timed_out': False,\n",
       " '_shards': {'total': 1, 'successful': 1, 'skipped': 0, 'failed': 0},\n",
       " 'hits': {'total': {'value': 142, 'relation': 'eq'},\n",
       "  'max_score': 18.176891,\n",
       "  'hits': [{'_index': 'books_elk',\n",
       "    '_type': '_doc',\n",
       "    '_id': '059035342X',\n",
       "    '_score': 18.176891,\n",
       "    '_source': {'title': \"Harry Potter and the Sorcerer's Stone (Harry Potter (Paperback))\"}},\n",
       "   {'_index': 'books_elk',\n",
       "    '_type': '_doc',\n",
       "    '_id': '043965548X',\n",
       "    '_score': 18.176891,\n",
       "    '_source': {'title': 'Harry Potter and the Prisoner of Azkaban (Harry Potter)'}},\n",
       "   {'_index': 'books_elk',\n",
       "    '_type': '_doc',\n",
       "    '_id': '1594130027',\n",
       "    '_score': 17.492256,\n",
       "    '_source': {'title': 'Harry Potter and the Prisoner of Azkaban (Harry Potter (Paperback))'}},\n",
       "   {'_index': 'books_elk',\n",
       "    '_type': '_doc',\n",
       "    '_id': '031226481X',\n",
       "    '_score': 17.38835,\n",
       "    '_source': {'title': 'We Love Harry Potter!'}},\n",
       "   {'_index': 'books_elk',\n",
       "    '_type': '_doc',\n",
       "    '_id': '0970844204',\n",
       "    '_score': 15.12338,\n",
       "    '_source': {'title': 'The Magical Worlds of Harry Potter'}}]}}"
      ]
     },
     "execution_count": 44,
     "metadata": {},
     "output_type": "execute_result"
    }
   ],
   "source": [
    "res"
   ]
  },
  {
   "cell_type": "markdown",
   "id": "164ad822",
   "metadata": {},
   "source": [
    "Clean the received Response "
   ]
  },
  {
   "cell_type": "code",
   "execution_count": 45,
   "id": "d5c7cc6d",
   "metadata": {
    "scrolled": true
   },
   "outputs": [
    {
     "name": "stdout",
     "output_type": "stream",
     "text": [
      "1 : Harry Potter and the Sorcerer's Stone (Harry Potter (Paperback)) \n",
      "\n",
      "2 : Harry Potter and the Prisoner of Azkaban (Harry Potter) \n",
      "\n",
      "3 : Harry Potter and the Prisoner of Azkaban (Harry Potter (Paperback)) \n",
      "\n",
      "4 : We Love Harry Potter! \n",
      "\n",
      "5 : The Magical Worlds of Harry Potter \n",
      "\n"
     ]
    }
   ],
   "source": [
    "r=res[\"hits\"].get('hits')\n",
    "for i in range(len(r)):\n",
    "    for key in r[i]:\n",
    "        if key == '_source': \n",
    "            print(i+1,\":\",r[i][key]['title'],'\\n')"
   ]
  },
  {
   "cell_type": "code",
   "execution_count": null,
   "id": "c631fab7",
   "metadata": {},
   "outputs": [],
   "source": []
  }
 ],
 "metadata": {
  "kernelspec": {
   "display_name": "Python 3",
   "language": "python",
   "name": "python3"
  },
  "language_info": {
   "codemirror_mode": {
    "name": "ipython",
    "version": 3
   },
   "file_extension": ".py",
   "mimetype": "text/x-python",
   "name": "python",
   "nbconvert_exporter": "python",
   "pygments_lexer": "ipython3",
   "version": "3.9.4"
  }
 },
 "nbformat": 4,
 "nbformat_minor": 5
}
