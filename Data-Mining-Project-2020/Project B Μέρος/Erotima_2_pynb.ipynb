{
 "cells": [
  {
   "cell_type": "markdown",
   "id": "40791565",
   "metadata": {},
   "source": [
    "# Guessing if an email is spam or not spam via word embedding inside a neural network"
   ]
  },
  {
   "cell_type": "markdown",
   "id": "305348be",
   "metadata": {},
   "source": [
    "## Importing the libraries"
   ]
  },
  {
   "cell_type": "code",
   "execution_count": 1,
   "id": "48c60bb6",
   "metadata": {},
   "outputs": [],
   "source": [
    "#used liraries\n",
    "import numpy as np # linear algebra\n",
    "import pandas as pd # data processing, CSV file I/O (e.g. pd.read_csv)\n",
    "import nltk # statistical natural language processing\n",
    "import string"
   ]
  },
  {
   "cell_type": "markdown",
   "id": "d8fef1c1",
   "metadata": {},
   "source": [
    "## Inserting emails excel sheet and preview of the data"
   ]
  },
  {
   "cell_type": "markdown",
   "id": "b1c934e5",
   "metadata": {},
   "source": [
    "Here we insert the excel sheet containing the emails location and we take a preview of the data inside the 2 row excel sheet. We see that \"email\" represents the sent email and \"label\" represents the classification of the current email( 1 is for spam and 0 is for not spam) "
   ]
  },
  {
   "cell_type": "code",
   "execution_count": 2,
   "id": "9f622b6d",
   "metadata": {
    "scrolled": true
   },
   "outputs": [
    {
     "data": {
      "text/html": [
       "<div>\n",
       "<style scoped>\n",
       "    .dataframe tbody tr th:only-of-type {\n",
       "        vertical-align: middle;\n",
       "    }\n",
       "\n",
       "    .dataframe tbody tr th {\n",
       "        vertical-align: top;\n",
       "    }\n",
       "\n",
       "    .dataframe thead th {\n",
       "        text-align: right;\n",
       "    }\n",
       "</style>\n",
       "<table border=\"1\" class=\"dataframe\">\n",
       "  <thead>\n",
       "    <tr style=\"text-align: right;\">\n",
       "      <th></th>\n",
       "      <th>email</th>\n",
       "      <th>label</th>\n",
       "    </tr>\n",
       "  </thead>\n",
       "  <tbody>\n",
       "    <tr>\n",
       "      <th>0</th>\n",
       "      <td>mike bostock said received from trackingNUMBE...</td>\n",
       "      <td>0</td>\n",
       "    </tr>\n",
       "    <tr>\n",
       "      <th>1</th>\n",
       "      <td>no i was just a little confused because i m r...</td>\n",
       "      <td>0</td>\n",
       "    </tr>\n",
       "    <tr>\n",
       "      <th>2</th>\n",
       "      <td>this is just an semi educated guess if i m wro...</td>\n",
       "      <td>0</td>\n",
       "    </tr>\n",
       "    <tr>\n",
       "      <th>3</th>\n",
       "      <td>jm URL justin mason writes except for NUMBER t...</td>\n",
       "      <td>0</td>\n",
       "    </tr>\n",
       "    <tr>\n",
       "      <th>4</th>\n",
       "      <td>i just picked up razor sdk NUMBER NUMBER and N...</td>\n",
       "      <td>0</td>\n",
       "    </tr>\n",
       "  </tbody>\n",
       "</table>\n",
       "</div>"
      ],
      "text/plain": [
       "                                               email  label\n",
       "0   mike bostock said received from trackingNUMBE...      0\n",
       "1   no i was just a little confused because i m r...      0\n",
       "2  this is just an semi educated guess if i m wro...      0\n",
       "3  jm URL justin mason writes except for NUMBER t...      0\n",
       "4  i just picked up razor sdk NUMBER NUMBER and N...      0"
      ]
     },
     "execution_count": 2,
     "metadata": {},
     "output_type": "execute_result"
    }
   ],
   "source": [
    "#excel sheet location\n",
    "data = pd.read_csv('C:/Users/steli/AppData/Roaming/Microsoft/Windows/Start Menu/Programs/Python 3.9/spam_or_not_spam.csv')\n",
    "#preview of the data inside the 2 row excel sheet\n",
    "data.head()"
   ]
  },
  {
   "cell_type": "code",
   "execution_count": 3,
   "id": "cd5f0bc7",
   "metadata": {},
   "outputs": [
    {
     "name": "stdout",
     "output_type": "stream",
     "text": [
      "(Columns,Rows): (1500, 2)\n"
     ]
    }
   ],
   "source": [
    "print(f'(Columns,Rows): {data.shape}')"
   ]
  },
  {
   "cell_type": "markdown",
   "id": "b02fdb2a",
   "metadata": {},
   "source": [
    "## Data preprocessing and preview of the new clear data"
   ]
  },
  {
   "cell_type": "markdown",
   "id": "1f641f90",
   "metadata": {},
   "source": [
    "Looking at the preview of the emails, we see that we have a lot of duplicate emails which will lower the performance our prediction. So we remove them."
   ]
  },
  {
   "cell_type": "code",
   "execution_count": 4,
   "id": "29bb12e3",
   "metadata": {},
   "outputs": [
    {
     "data": {
      "text/html": [
       "<div>\n",
       "<style scoped>\n",
       "    .dataframe tbody tr th:only-of-type {\n",
       "        vertical-align: middle;\n",
       "    }\n",
       "\n",
       "    .dataframe tbody tr th {\n",
       "        vertical-align: top;\n",
       "    }\n",
       "\n",
       "    .dataframe thead th {\n",
       "        text-align: right;\n",
       "    }\n",
       "</style>\n",
       "<table border=\"1\" class=\"dataframe\">\n",
       "  <thead>\n",
       "    <tr style=\"text-align: right;\">\n",
       "      <th></th>\n",
       "      <th>email</th>\n",
       "      <th>label</th>\n",
       "    </tr>\n",
       "  </thead>\n",
       "  <tbody>\n",
       "    <tr>\n",
       "      <th>305</th>\n",
       "      <td>use perl daily headline mailer this week on pe...</td>\n",
       "      <td>0</td>\n",
       "    </tr>\n",
       "    <tr>\n",
       "      <th>342</th>\n",
       "      <td>url URL date NUMBER NUMBER NUMBER NUMBER NUMBE...</td>\n",
       "      <td>0</td>\n",
       "    </tr>\n",
       "    <tr>\n",
       "      <th>349</th>\n",
       "      <td>url URL date NUMBER NUMBER NUMBER NUMBER NUMBE...</td>\n",
       "      <td>0</td>\n",
       "    </tr>\n",
       "    <tr>\n",
       "      <th>455</th>\n",
       "      <td>url URL date not supplied URL</td>\n",
       "      <td>0</td>\n",
       "    </tr>\n",
       "    <tr>\n",
       "      <th>456</th>\n",
       "      <td>url URL date not supplied URL</td>\n",
       "      <td>0</td>\n",
       "    </tr>\n",
       "    <tr>\n",
       "      <th>...</th>\n",
       "      <td>...</td>\n",
       "      <td>...</td>\n",
       "    </tr>\n",
       "    <tr>\n",
       "      <th>1446</th>\n",
       "      <td>we guarantee you signups before you ever pay a...</td>\n",
       "      <td>1</td>\n",
       "    </tr>\n",
       "    <tr>\n",
       "      <th>1454</th>\n",
       "      <td>otc newsletter discover tomorrow s winners fo...</td>\n",
       "      <td>1</td>\n",
       "    </tr>\n",
       "    <tr>\n",
       "      <th>1463</th>\n",
       "      <td>protect your financial well being purchase an ...</td>\n",
       "      <td>1</td>\n",
       "    </tr>\n",
       "    <tr>\n",
       "      <th>1468</th>\n",
       "      <td>lowest rates available for term life insurance...</td>\n",
       "      <td>1</td>\n",
       "    </tr>\n",
       "    <tr>\n",
       "      <th>1491</th>\n",
       "      <td>get NUMBER free vhs or dvds click hyperlink h...</td>\n",
       "      <td>1</td>\n",
       "    </tr>\n",
       "  </tbody>\n",
       "</table>\n",
       "<p>123 rows × 2 columns</p>\n",
       "</div>"
      ],
      "text/plain": [
       "                                                  email  label\n",
       "305   use perl daily headline mailer this week on pe...      0\n",
       "342   url URL date NUMBER NUMBER NUMBER NUMBER NUMBE...      0\n",
       "349   url URL date NUMBER NUMBER NUMBER NUMBER NUMBE...      0\n",
       "455                      url URL date not supplied URL       0\n",
       "456                      url URL date not supplied URL       0\n",
       "...                                                 ...    ...\n",
       "1446  we guarantee you signups before you ever pay a...      1\n",
       "1454   otc newsletter discover tomorrow s winners fo...      1\n",
       "1463  protect your financial well being purchase an ...      1\n",
       "1468  lowest rates available for term life insurance...      1\n",
       "1491   get NUMBER free vhs or dvds click hyperlink h...      1\n",
       "\n",
       "[123 rows x 2 columns]"
      ]
     },
     "execution_count": 4,
     "metadata": {},
     "output_type": "execute_result"
    }
   ],
   "source": [
    "data[data[['email']].duplicated() == True]"
   ]
  },
  {
   "cell_type": "code",
   "execution_count": 5,
   "id": "3b6a6f49",
   "metadata": {},
   "outputs": [],
   "source": [
    "#removes duplicate emails\n",
    "data.drop_duplicates(inplace=True)"
   ]
  },
  {
   "cell_type": "markdown",
   "id": "f1801109",
   "metadata": {},
   "source": [
    "We also see that we have some empty data which may lower our perfomance, we remove those too."
   ]
  },
  {
   "cell_type": "code",
   "execution_count": 6,
   "id": "89af4eb2",
   "metadata": {},
   "outputs": [
    {
     "data": {
      "text/html": [
       "<div>\n",
       "<style scoped>\n",
       "    .dataframe tbody tr th:only-of-type {\n",
       "        vertical-align: middle;\n",
       "    }\n",
       "\n",
       "    .dataframe tbody tr th {\n",
       "        vertical-align: top;\n",
       "    }\n",
       "\n",
       "    .dataframe thead th {\n",
       "        text-align: right;\n",
       "    }\n",
       "</style>\n",
       "<table border=\"1\" class=\"dataframe\">\n",
       "  <thead>\n",
       "    <tr style=\"text-align: right;\">\n",
       "      <th></th>\n",
       "      <th>email</th>\n",
       "      <th>label</th>\n",
       "    </tr>\n",
       "  </thead>\n",
       "  <tbody>\n",
       "    <tr>\n",
       "      <th>1466</th>\n",
       "      <td>NaN</td>\n",
       "      <td>1</td>\n",
       "    </tr>\n",
       "  </tbody>\n",
       "</table>\n",
       "</div>"
      ],
      "text/plain": [
       "     email  label\n",
       "1466   NaN      1"
      ]
     },
     "execution_count": 6,
     "metadata": {},
     "output_type": "execute_result"
    }
   ],
   "source": [
    "data[data.isnull().any(axis=1)]"
   ]
  },
  {
   "cell_type": "code",
   "execution_count": 7,
   "id": "b0092e47",
   "metadata": {},
   "outputs": [],
   "source": [
    "#removes columns where there are Null/NaN data\n",
    "data= data.dropna()"
   ]
  },
  {
   "cell_type": "code",
   "execution_count": 8,
   "id": "39c975ad",
   "metadata": {},
   "outputs": [
    {
     "name": "stdout",
     "output_type": "stream",
     "text": [
      "New less(Columns,Rows): (1376, 2)\n"
     ]
    }
   ],
   "source": [
    "print(f'New less(Columns,Rows): {data.shape}')"
   ]
  },
  {
   "cell_type": "markdown",
   "id": "f8bcde6d",
   "metadata": {},
   "source": [
    "Our emails consist out of words that make no sense to train for. These are called english stopwords. An example of a stopword is: \"a\", a another example is \"and\". So we remove those words from our emails in order to have a more efficient training of words."
   ]
  },
  {
   "cell_type": "code",
   "execution_count": 9,
   "id": "1f0c5d0e",
   "metadata": {},
   "outputs": [
    {
     "name": "stderr",
     "output_type": "stream",
     "text": [
      "[nltk_data] Downloading package stopwords to\n",
      "[nltk_data]     C:\\Users\\steli\\AppData\\Roaming\\nltk_data...\n",
      "[nltk_data]   Package stopwords is already up-to-date!\n"
     ]
    },
    {
     "data": {
      "text/plain": [
       "True"
      ]
     },
     "execution_count": 9,
     "metadata": {},
     "output_type": "execute_result"
    }
   ],
   "source": [
    "#downloads the latest dictionary of stopwords\n",
    "nltk.download('stopwords') "
   ]
  },
  {
   "cell_type": "code",
   "execution_count": 10,
   "id": "4f96545a",
   "metadata": {},
   "outputs": [],
   "source": [
    "#creates a new dataset of emails with stopwords removed\n",
    "from nltk.corpus import stopwords\n",
    "stop = stopwords.words('english')\n",
    "data['clear_email'] = data['email'].apply(lambda x: ' '.join([word for word in x.split() if word not in (stop)]))"
   ]
  },
  {
   "cell_type": "code",
   "execution_count": 11,
   "id": "62ff4021",
   "metadata": {},
   "outputs": [
    {
     "data": {
      "text/html": [
       "<div>\n",
       "<style scoped>\n",
       "    .dataframe tbody tr th:only-of-type {\n",
       "        vertical-align: middle;\n",
       "    }\n",
       "\n",
       "    .dataframe tbody tr th {\n",
       "        vertical-align: top;\n",
       "    }\n",
       "\n",
       "    .dataframe thead th {\n",
       "        text-align: right;\n",
       "    }\n",
       "</style>\n",
       "<table border=\"1\" class=\"dataframe\">\n",
       "  <thead>\n",
       "    <tr style=\"text-align: right;\">\n",
       "      <th></th>\n",
       "      <th>email</th>\n",
       "      <th>label</th>\n",
       "      <th>clear_email</th>\n",
       "    </tr>\n",
       "  </thead>\n",
       "  <tbody>\n",
       "    <tr>\n",
       "      <th>0</th>\n",
       "      <td>mike bostock said received from trackingNUMBE...</td>\n",
       "      <td>0</td>\n",
       "      <td>mike bostock said received trackingNUMBER URL ...</td>\n",
       "    </tr>\n",
       "    <tr>\n",
       "      <th>1</th>\n",
       "      <td>no i was just a little confused because i m r...</td>\n",
       "      <td>0</td>\n",
       "      <td>little confused running procmail gateway sits ...</td>\n",
       "    </tr>\n",
       "    <tr>\n",
       "      <th>2</th>\n",
       "      <td>this is just an semi educated guess if i m wro...</td>\n",
       "      <td>0</td>\n",
       "      <td>semi educated guess wrong someone please corre...</td>\n",
       "    </tr>\n",
       "    <tr>\n",
       "      <th>3</th>\n",
       "      <td>jm URL justin mason writes except for NUMBER t...</td>\n",
       "      <td>0</td>\n",
       "      <td>jm URL justin mason writes except NUMBER thing...</td>\n",
       "    </tr>\n",
       "    <tr>\n",
       "      <th>4</th>\n",
       "      <td>i just picked up razor sdk NUMBER NUMBER and N...</td>\n",
       "      <td>0</td>\n",
       "      <td>picked razor sdk NUMBER NUMBER NUMBER NUMBER a...</td>\n",
       "    </tr>\n",
       "  </tbody>\n",
       "</table>\n",
       "</div>"
      ],
      "text/plain": [
       "                                               email  label  \\\n",
       "0   mike bostock said received from trackingNUMBE...      0   \n",
       "1   no i was just a little confused because i m r...      0   \n",
       "2  this is just an semi educated guess if i m wro...      0   \n",
       "3  jm URL justin mason writes except for NUMBER t...      0   \n",
       "4  i just picked up razor sdk NUMBER NUMBER and N...      0   \n",
       "\n",
       "                                         clear_email  \n",
       "0  mike bostock said received trackingNUMBER URL ...  \n",
       "1  little confused running procmail gateway sits ...  \n",
       "2  semi educated guess wrong someone please corre...  \n",
       "3  jm URL justin mason writes except NUMBER thing...  \n",
       "4  picked razor sdk NUMBER NUMBER NUMBER NUMBER a...  "
      ]
     },
     "execution_count": 11,
     "metadata": {},
     "output_type": "execute_result"
    }
   ],
   "source": [
    "#preview of the clear emails dataset\n",
    "data.head()"
   ]
  },
  {
   "cell_type": "markdown",
   "id": "2b8c14a5",
   "metadata": {},
   "source": [
    "## Transforming data into vectors and training our neural network"
   ]
  },
  {
   "cell_type": "markdown",
   "id": "b6260884",
   "metadata": {},
   "source": [
    "Using sklearns CountVectorizer we create our vectors to both tokenize our collection of emails and build a vocabulary of known words to encode new emails using that vocabulary. We split our dataset to a 25%-75% testing-training (from the exercise data)."
   ]
  },
  {
   "cell_type": "code",
   "execution_count": 12,
   "id": "c434dcae",
   "metadata": {},
   "outputs": [],
   "source": [
    "#transforms emails text into vectors\n",
    "from sklearn.feature_extraction.text import CountVectorizer\n",
    "message_bow = CountVectorizer().fit_transform(data['clear_email']) #email"
   ]
  },
  {
   "cell_type": "code",
   "execution_count": 13,
   "id": "45af7421",
   "metadata": {},
   "outputs": [],
   "source": [
    "#splits dataset to training data and test data\n",
    "from sklearn.model_selection import train_test_split\n",
    "X_train,X_test,y_train,y_test = train_test_split(message_bow, data['label'],test_size = 0.25,train_size=0.75, random_state = 0)"
   ]
  },
  {
   "cell_type": "markdown",
   "id": "7c11cc61",
   "metadata": {},
   "source": [
    "We apply Bayes theorem in order to classify our text vectors. We use Naive Bayes because its a simple and one of the most effective classification methods, in order to classify our emails depending on prior data. That way we classify based on a probability of that email being a spam."
   ]
  },
  {
   "cell_type": "code",
   "execution_count": 14,
   "id": "d464d8dd",
   "metadata": {},
   "outputs": [
    {
     "name": "stdout",
     "output_type": "stream",
     "text": [
      "Performance of classification:  0.9941860465116279\n"
     ]
    }
   ],
   "source": [
    "#apply Bayes classification for text classification with word counts\n",
    "from sklearn.naive_bayes import MultinomialNB\n",
    "classifier= MultinomialNB()\n",
    "classifier.fit(X_train,y_train)\n",
    "print('Performance of classification: ', classifier.score(X_test,y_test))"
   ]
  },
  {
   "cell_type": "markdown",
   "id": "578c6bbf",
   "metadata": {},
   "source": [
    "## Results of our training"
   ]
  },
  {
   "cell_type": "markdown",
   "id": "f494d3a3",
   "metadata": {},
   "source": [
    "Using the metrics: f1 score, precision score, recall score we calculate the performance of our word training. We also print the predicted email classifiers (spam or not spam) and the actual classifiers in order to see our prediction in action. Lastly for the experiments shake, we print the accurancy of our method."
   ]
  },
  {
   "cell_type": "code",
   "execution_count": 15,
   "id": "44764454",
   "metadata": {},
   "outputs": [
    {
     "name": "stdout",
     "output_type": "stream",
     "text": [
      "F1 score: 0.9873015873015873\n",
      "Precision score: 1.0\n",
      "Recall score: 0.9749216300940439\n"
     ]
    }
   ],
   "source": [
    "#performance of training\n",
    "from sklearn.metrics import precision_score, f1_score, recall_score, accuracy_score\n",
    "pred = classifier.predict(X_train)\n",
    "print(f'F1 score: {f1_score(y_train, pred)}')\n",
    "print(f'Precision score: {precision_score(y_train, pred)}')\n",
    "print(f'Recall score: {recall_score(y_train, pred)}')"
   ]
  },
  {
   "cell_type": "code",
   "execution_count": 16,
   "id": "9a4c34f9",
   "metadata": {},
   "outputs": [
    {
     "name": "stdout",
     "output_type": "stream",
     "text": [
      "Acc of training:  0.9922480620155039\n"
     ]
    }
   ],
   "source": [
    "#αccurancy of training\n",
    "print('Acc of training: ', accuracy_score(y_train,pred))"
   ]
  },
  {
   "cell_type": "markdown",
   "id": "b61517d5",
   "metadata": {},
   "source": [
    "## Results of our prediction"
   ]
  },
  {
   "cell_type": "markdown",
   "id": "49ac76af",
   "metadata": {},
   "source": [
    "We went ahead and printed a visual representation of the email label from our test data, in order to see the result with our own eyes."
   ]
  },
  {
   "cell_type": "code",
   "execution_count": 17,
   "id": "989bc895",
   "metadata": {},
   "outputs": [
    {
     "name": "stdout",
     "output_type": "stream",
     "text": [
      "predicted values:  [1 0 0 0 0 0 0 0 0 1 0 0 1 0 1 0 1 0 1 0 0 0 0 1 0 0 0 0 1 0 1 0 0 1 1 0 0\n",
      " 0 0 0 0 0 1 1 0 1 0 0 0 0 0 1 0 0 0 0 0 0 1 0 0 0 0 1 0 1 1 1 0 0 1 0 0 0\n",
      " 0 0 0 0 0 0 0 0 0 1 1 1 1 0 0 1 0 0 1 1 1 1 0 0 0 0 0 0 1 0 0 0 0 1 0 0 0\n",
      " 1 0 1 1 0 0 0 1 1 0 0 0 0 0 1 1 0 0 0 1 0 0 0 0 0 0 0 1 0 0 1 0 1 0 0 0 0\n",
      " 0 0 0 0 0 1 1 0 0 1 0 1 0 0 1 1 1 1 1 0 0 0 0 0 1 1 0 1 0 0 0 0 0 1 0 1 0\n",
      " 1 1 1 1 1 0 0 0 1 0 0 1 0 1 1 0 0 1 1 0 0 0 0 0 0 0 0 0 0 0 1 0 1 0 0 0 0\n",
      " 0 0 0 0 0 1 0 0 0 0 0 1 0 0 1 0 0 0 1 1 0 1 0 0 0 0 0 0 0 0 0 0 0 0 0 1 0\n",
      " 0 0 1 0 1 1 0 0 1 0 0 0 0 0 0 1 1 0 0 1 1 0 0 0 0 0 1 0 1 0 0 1 0 1 0 0 0\n",
      " 0 1 0 0 1 1 0 0 1 0 1 0 0 1 0 0 0 0 1 0 0 0 1 0 0 1 0 0 1 0 0 1 0 1 1 0 0\n",
      " 0 1 1 0 1 0 0 0 0 1 0]\n"
     ]
    }
   ],
   "source": [
    "#prediction if emails where spam or not spam\n",
    "print('predicted values: ', classifier.predict(X_test))"
   ]
  },
  {
   "cell_type": "code",
   "execution_count": 18,
   "id": "a5980e45",
   "metadata": {
    "scrolled": false
   },
   "outputs": [
    {
     "name": "stdout",
     "output_type": "stream",
     "text": [
      "Actual values:  [1 0 0 0 0 0 0 0 0 1 0 0 1 0 1 0 1 0 1 0 0 0 0 1 0 0 0 0 1 0 1 0 0 1 1 0 0\n",
      " 0 0 0 0 0 1 1 0 1 0 0 0 0 0 1 0 0 0 0 0 0 1 0 0 0 0 1 0 1 1 1 0 0 1 0 0 0\n",
      " 0 0 0 0 0 0 0 0 0 1 1 1 1 0 0 1 0 0 1 1 1 1 0 0 0 0 0 0 1 0 0 0 1 1 0 0 0\n",
      " 1 0 1 1 0 0 0 1 1 0 0 0 0 0 1 1 0 0 0 1 0 0 0 0 0 0 0 1 0 0 1 0 1 0 0 0 0\n",
      " 0 0 0 0 0 1 1 0 0 1 0 1 0 0 1 1 1 1 1 0 0 0 0 0 1 1 0 1 0 0 0 0 0 1 0 1 0\n",
      " 1 1 1 1 1 0 0 0 1 0 0 1 0 1 1 0 0 1 1 0 0 0 0 0 0 0 0 0 0 0 1 0 1 0 0 0 0\n",
      " 0 0 0 0 1 1 0 0 0 0 0 1 0 0 1 0 0 0 1 1 0 1 0 0 0 0 0 0 0 0 0 0 0 0 0 1 0\n",
      " 0 0 1 0 1 1 0 0 1 0 0 0 0 0 0 1 1 0 0 1 1 0 0 0 0 0 1 0 1 0 0 1 0 1 0 0 0\n",
      " 0 1 0 0 1 1 0 0 1 0 1 0 0 1 0 0 0 0 1 0 0 0 1 0 0 1 0 0 1 0 0 1 0 1 1 0 0\n",
      " 0 1 1 0 1 0 0 0 0 1 0]\n"
     ]
    }
   ],
   "source": [
    "#actual value of emails being spam or not spam\n",
    "print('Actual values: ', y_test.values)"
   ]
  },
  {
   "cell_type": "code",
   "execution_count": 19,
   "id": "48c23c59",
   "metadata": {},
   "outputs": [
    {
     "name": "stdout",
     "output_type": "stream",
     "text": [
      "F1 score: 0.9906542056074767\n",
      "Precision score: 1.0\n",
      "Recall score: 0.9814814814814815\n"
     ]
    }
   ],
   "source": [
    "#performance of prediction\n",
    "pred = classifier.predict(X_test)\n",
    "print(f'F1 score: {f1_score(y_test, pred)}')\n",
    "print(f'Precision score: {precision_score(y_test, pred)}')\n",
    "print(f'Recall score: {recall_score(y_test, pred)}')"
   ]
  },
  {
   "cell_type": "code",
   "execution_count": 20,
   "id": "bf1416e6",
   "metadata": {},
   "outputs": [
    {
     "name": "stdout",
     "output_type": "stream",
     "text": [
      "Acc of prediction 0.9941860465116279\n"
     ]
    }
   ],
   "source": [
    "#αccurancy of prediction\n",
    "print('Acc of prediction', accuracy_score(y_test,pred))"
   ]
  }
 ],
 "metadata": {
  "kernelspec": {
   "display_name": "Python 3",
   "language": "python",
   "name": "python3"
  },
  "language_info": {
   "codemirror_mode": {
    "name": "ipython",
    "version": 3
   },
   "file_extension": ".py",
   "mimetype": "text/x-python",
   "name": "python",
   "nbconvert_exporter": "python",
   "pygments_lexer": "ipython3",
   "version": "3.9.5"
  }
 },
 "nbformat": 4,
 "nbformat_minor": 5
}
