{
 "cells": [
  {
   "cell_type": "markdown",
   "id": "c4a4f427",
   "metadata": {},
   "source": [
    "# Fill Missing Values with Column Mean"
   ]
  },
  {
   "cell_type": "markdown",
   "id": "8aa852c6",
   "metadata": {},
   "source": [
    "# Importing the Libraries and Loading the Dataset"
   ]
  },
  {
   "cell_type": "code",
   "execution_count": 1,
   "id": "8046729d",
   "metadata": {},
   "outputs": [
    {
     "data": {
      "text/html": [
       "<div>\n",
       "<style scoped>\n",
       "    .dataframe tbody tr th:only-of-type {\n",
       "        vertical-align: middle;\n",
       "    }\n",
       "\n",
       "    .dataframe tbody tr th {\n",
       "        vertical-align: top;\n",
       "    }\n",
       "\n",
       "    .dataframe thead th {\n",
       "        text-align: right;\n",
       "    }\n",
       "</style>\n",
       "<table border=\"1\" class=\"dataframe\">\n",
       "  <thead>\n",
       "    <tr style=\"text-align: right;\">\n",
       "      <th></th>\n",
       "      <th>id</th>\n",
       "      <th>gender</th>\n",
       "      <th>age</th>\n",
       "      <th>hypertension</th>\n",
       "      <th>heart_disease</th>\n",
       "      <th>ever_married</th>\n",
       "      <th>work_type</th>\n",
       "      <th>Residence_type</th>\n",
       "      <th>avg_glucose_level</th>\n",
       "      <th>bmi</th>\n",
       "      <th>smoking_status</th>\n",
       "      <th>stroke</th>\n",
       "    </tr>\n",
       "  </thead>\n",
       "  <tbody>\n",
       "    <tr>\n",
       "      <th>0</th>\n",
       "      <td>9046</td>\n",
       "      <td>Male</td>\n",
       "      <td>67.0</td>\n",
       "      <td>0</td>\n",
       "      <td>1</td>\n",
       "      <td>Yes</td>\n",
       "      <td>Private</td>\n",
       "      <td>Urban</td>\n",
       "      <td>228.69</td>\n",
       "      <td>36.6</td>\n",
       "      <td>formerly smoked</td>\n",
       "      <td>1</td>\n",
       "    </tr>\n",
       "    <tr>\n",
       "      <th>1</th>\n",
       "      <td>51676</td>\n",
       "      <td>Female</td>\n",
       "      <td>61.0</td>\n",
       "      <td>0</td>\n",
       "      <td>0</td>\n",
       "      <td>Yes</td>\n",
       "      <td>Self-employed</td>\n",
       "      <td>Rural</td>\n",
       "      <td>202.21</td>\n",
       "      <td>NaN</td>\n",
       "      <td>never smoked</td>\n",
       "      <td>1</td>\n",
       "    </tr>\n",
       "    <tr>\n",
       "      <th>2</th>\n",
       "      <td>31112</td>\n",
       "      <td>Male</td>\n",
       "      <td>80.0</td>\n",
       "      <td>0</td>\n",
       "      <td>1</td>\n",
       "      <td>Yes</td>\n",
       "      <td>Private</td>\n",
       "      <td>Rural</td>\n",
       "      <td>105.92</td>\n",
       "      <td>32.5</td>\n",
       "      <td>never smoked</td>\n",
       "      <td>1</td>\n",
       "    </tr>\n",
       "    <tr>\n",
       "      <th>3</th>\n",
       "      <td>60182</td>\n",
       "      <td>Female</td>\n",
       "      <td>49.0</td>\n",
       "      <td>0</td>\n",
       "      <td>0</td>\n",
       "      <td>Yes</td>\n",
       "      <td>Private</td>\n",
       "      <td>Urban</td>\n",
       "      <td>171.23</td>\n",
       "      <td>34.4</td>\n",
       "      <td>smokes</td>\n",
       "      <td>1</td>\n",
       "    </tr>\n",
       "    <tr>\n",
       "      <th>4</th>\n",
       "      <td>1665</td>\n",
       "      <td>Female</td>\n",
       "      <td>79.0</td>\n",
       "      <td>1</td>\n",
       "      <td>0</td>\n",
       "      <td>Yes</td>\n",
       "      <td>Self-employed</td>\n",
       "      <td>Rural</td>\n",
       "      <td>174.12</td>\n",
       "      <td>24.0</td>\n",
       "      <td>never smoked</td>\n",
       "      <td>1</td>\n",
       "    </tr>\n",
       "  </tbody>\n",
       "</table>\n",
       "</div>"
      ],
      "text/plain": [
       "      id  gender   age  hypertension  heart_disease ever_married  \\\n",
       "0   9046    Male  67.0             0              1          Yes   \n",
       "1  51676  Female  61.0             0              0          Yes   \n",
       "2  31112    Male  80.0             0              1          Yes   \n",
       "3  60182  Female  49.0             0              0          Yes   \n",
       "4   1665  Female  79.0             1              0          Yes   \n",
       "\n",
       "       work_type Residence_type  avg_glucose_level   bmi   smoking_status  \\\n",
       "0        Private          Urban             228.69  36.6  formerly smoked   \n",
       "1  Self-employed          Rural             202.21   NaN     never smoked   \n",
       "2        Private          Rural             105.92  32.5     never smoked   \n",
       "3        Private          Urban             171.23  34.4           smokes   \n",
       "4  Self-employed          Rural             174.12  24.0     never smoked   \n",
       "\n",
       "   stroke  \n",
       "0       1  \n",
       "1       1  \n",
       "2       1  \n",
       "3       1  \n",
       "4       1  "
      ]
     },
     "execution_count": 1,
     "metadata": {},
     "output_type": "execute_result"
    }
   ],
   "source": [
    "import pandas as pd\n",
    "import matplotlib.pyplot as plt\n",
    "import seaborn as sns\n",
    "import pandas_profiling as pp\n",
    "from imblearn.over_sampling import SMOTE\n",
    "from sklearn.ensemble import RandomForestClassifier\n",
    "from sklearn import metrics\n",
    "from sklearn.model_selection import train_test_split\n",
    "\n",
    "df = pd.read_csv('dataset.csv') \n",
    "df.head()"
   ]
  },
  {
   "cell_type": "markdown",
   "id": "0af8b053",
   "metadata": {},
   "source": [
    "# Συμπλήρωση τιμών με το μέσο όρο της στήλης\n"
   ]
  },
  {
   "cell_type": "markdown",
   "id": "3c026939",
   "metadata": {},
   "source": [
    "Είδαμε προηγουμένως ότι μόνο η στήλη bmi έχει τιμές οι οποίες λείπουν. \n",
    "Αυτή τη φορά για τη συμπλήρωσή τους θα χρησιμοποιήσουμε το μέσο όρο της στήλης."
   ]
  },
  {
   "cell_type": "code",
   "execution_count": 2,
   "id": "6c1dcc19",
   "metadata": {},
   "outputs": [
    {
     "data": {
      "text/plain": [
       "28.893236911794666"
      ]
     },
     "execution_count": 2,
     "metadata": {},
     "output_type": "execute_result"
    }
   ],
   "source": [
    "df['bmi'].mean()"
   ]
  },
  {
   "cell_type": "code",
   "execution_count": 3,
   "id": "5071f90d",
   "metadata": {
    "scrolled": true
   },
   "outputs": [
    {
     "name": "stdout",
     "output_type": "stream",
     "text": [
      "Missing Values per Column:\n"
     ]
    },
    {
     "data": {
      "text/plain": [
       "id                   0\n",
       "gender               0\n",
       "age                  0\n",
       "hypertension         0\n",
       "heart_disease        0\n",
       "ever_married         0\n",
       "work_type            0\n",
       "Residence_type       0\n",
       "avg_glucose_level    0\n",
       "bmi                  0\n",
       "smoking_status       0\n",
       "stroke               0\n",
       "dtype: int64"
      ]
     },
     "execution_count": 3,
     "metadata": {},
     "output_type": "execute_result"
    }
   ],
   "source": [
    "df2 = df.copy(deep=True)\n",
    "df2['bmi'].fillna((df2['bmi'].mean()), inplace=True) \n",
    "print(\"Missing Values per Column:\")\n",
    "df2.isnull().sum()"
   ]
  },
  {
   "cell_type": "markdown",
   "id": "5a70e6f5",
   "metadata": {},
   "source": [
    "# Μετατροπή των Categorical Features σε Numerical Values"
   ]
  },
  {
   "cell_type": "code",
   "execution_count": 4,
   "id": "3e01a064",
   "metadata": {},
   "outputs": [],
   "source": [
    "from sklearn.preprocessing import LabelEncoder\n",
    "le = LabelEncoder()\n",
    "object_type_columns = df2.select_dtypes(include='object')\n",
    "    \n",
    "for title in object_type_columns:\n",
    "     df2[title] = le.fit_transform(df2[title])"
   ]
  },
  {
   "cell_type": "markdown",
   "id": "8db9a77c",
   "metadata": {},
   "source": [
    "# Scaling των αριθμητικών τιμών"
   ]
  },
  {
   "cell_type": "code",
   "execution_count": 5,
   "id": "f17664d9",
   "metadata": {},
   "outputs": [
    {
     "data": {
      "text/plain": [
       "\"from sklearn.preprocessing import MinMaxScaler\\nmin_max_scaler = MinMaxScaler()\\ndf2[['age','work_type','avg_glucose_level','bmi','smoking_status']]=min_max_scaler.fit_transform(df2[['age','work_type','avg_glucose_level','bmi','smoking_status']])\""
      ]
     },
     "execution_count": 5,
     "metadata": {},
     "output_type": "execute_result"
    }
   ],
   "source": [
    "\"\"\"from sklearn.preprocessing import MinMaxScaler\n",
    "min_max_scaler = MinMaxScaler()\n",
    "df2[['age','work_type','avg_glucose_level','bmi','smoking_status']]=min_max_scaler.fit_transform(df2[['age','work_type','avg_glucose_level','bmi','smoking_status']])\"\"\""
   ]
  },
  {
   "cell_type": "markdown",
   "id": "da1510b2",
   "metadata": {},
   "source": [
    "# Random Forest Classification"
   ]
  },
  {
   "cell_type": "code",
   "execution_count": 6,
   "id": "e9b106bf",
   "metadata": {},
   "outputs": [],
   "source": [
    "RF_clf = RandomForestClassifier()\n",
    "new_data = df2.copy(deep=True) #Δημιουργώ deep copy ώστε να μην κάνω αλλαγές στο αρχικό dataset.\n",
    "X = new_data.drop(['id','stroke'], axis=1)\n",
    "y = new_data['stroke']\n",
    "X_train, X_test, y_train, y_test = train_test_split(X, y, test_size=0.25, random_state=42)"
   ]
  },
  {
   "cell_type": "markdown",
   "id": "b35e0c8f",
   "metadata": {},
   "source": [
    "Χωρίζω το Dataset σε train kai test set με αναλογία 75-25 ."
   ]
  },
  {
   "cell_type": "code",
   "execution_count": 7,
   "id": "0863d556",
   "metadata": {},
   "outputs": [
    {
     "name": "stdout",
     "output_type": "stream",
     "text": [
      "              precision    recall  f1-score   support\n",
      "\n",
      "           0       0.94      1.00      0.97      1198\n",
      "           1       0.00      0.00      0.00        80\n",
      "\n",
      "    accuracy                           0.94      1278\n",
      "   macro avg       0.47      0.50      0.48      1278\n",
      "weighted avg       0.88      0.94      0.91      1278\n",
      "\n"
     ]
    },
    {
     "name": "stderr",
     "output_type": "stream",
     "text": [
      "c:\\users\\charalampos\\appdata\\local\\programs\\python\\python39\\lib\\site-packages\\sklearn\\metrics\\_classification.py:1245: UndefinedMetricWarning: Precision and F-score are ill-defined and being set to 0.0 in labels with no predicted samples. Use `zero_division` parameter to control this behavior.\n",
      "  _warn_prf(average, modifier, msg_start, len(result))\n",
      "c:\\users\\charalampos\\appdata\\local\\programs\\python\\python39\\lib\\site-packages\\sklearn\\metrics\\_classification.py:1245: UndefinedMetricWarning: Precision and F-score are ill-defined and being set to 0.0 in labels with no predicted samples. Use `zero_division` parameter to control this behavior.\n",
      "  _warn_prf(average, modifier, msg_start, len(result))\n",
      "c:\\users\\charalampos\\appdata\\local\\programs\\python\\python39\\lib\\site-packages\\sklearn\\metrics\\_classification.py:1245: UndefinedMetricWarning: Precision and F-score are ill-defined and being set to 0.0 in labels with no predicted samples. Use `zero_division` parameter to control this behavior.\n",
      "  _warn_prf(average, modifier, msg_start, len(result))\n"
     ]
    },
    {
     "data": {
      "image/png": "[encoded data removed]",
      "text/plain": [
       "<Figure size 432x288 with 2 Axes>"
      ]
     },
     "metadata": {
      "needs_background": "light"
     },
     "output_type": "display_data"
    }
   ],
   "source": [
    "RF_clf.fit(X_train, y_train) \n",
    "RF_prediction = RF_clf.predict(X_test)\n",
    "RF_prob = RF_clf.predict_proba(X_test)[:, 1]\n",
    "RF_metrics = metrics.f1_score(y_test, RF_prediction).round(2)\n",
    "RF_report = metrics.classification_report(y_test, RF_prediction)\n",
    "metrics.plot_confusion_matrix(RF_clf, X_test, y_test, cmap='Purples')\n",
    "plt.grid(False)\n",
    "print(RF_report)"
   ]
  },
  {
   "cell_type": "markdown",
   "id": "bcf2cb45",
   "metadata": {},
   "source": [
    "# Oversampling"
   ]
  },
  {
   "cell_type": "markdown",
   "id": "37077e9e",
   "metadata": {},
   "source": [
    "Βλέπουμε ότι το μοντέλο μας δεν ταξινομεί καλά τους 'άσσους' και μας δίνει καλά αποτελέσματα μόνο για τα 'μηδενικά'. Παρατηρώντας την ανάλυση του dataset θα δούμε ότι οι περιπτώσεις που έχουμε 'άσσο', δηλαδή τις περιπτώσεις που έχουμε \n",
    "εγκεφαλικό επεισόδιο είναι πολύ λίγες σε σχέση με τα 'μηδενικά'. Αυτό λύνεται χρησιμοποιώντας την μέθοδο του oversampling ώστε να τα φέρουμε σε μια ισορροπία."
   ]
  },
  {
   "cell_type": "code",
   "execution_count": 8,
   "id": "e8b94728",
   "metadata": {},
   "outputs": [
    {
     "name": "stdout",
     "output_type": "stream",
     "text": [
      "Πρίν το oversampling, πλήθος '1': 169\n",
      "Πρίν το OverSampling, πλήθος '0': 3663 \n",
      "\n",
      "Μετά το OverSampling, πλήθος '1': 3663\n",
      "Μετά το OverSampling, πλήθος '0': 3663\n"
     ]
    }
   ],
   "source": [
    "sm = SMOTE(random_state=2) #Balance data by oversampling\n",
    "x_train_res, y_train_res = sm.fit_resample(X_train, y_train.ravel())\n",
    "print(\"Πρίν το oversampling, πλήθος '1': {}\".format(sum(y_train==1)))\n",
    "print(\"Πρίν το OverSampling, πλήθος '0': {} \\n\".format(sum(y_train==0)))\n",
    "print(\"Μετά το OverSampling, πλήθος '1': {}\".format(sum(y_train_res==1)))\n",
    "print(\"Μετά το OverSampling, πλήθος '0': {}\".format(sum(y_train_res==0)))"
   ]
  },
  {
   "cell_type": "code",
   "execution_count": 9,
   "id": "25a155f5",
   "metadata": {},
   "outputs": [
    {
     "name": "stdout",
     "output_type": "stream",
     "text": [
      "              precision    recall  f1-score   support\n",
      "\n",
      "           0       0.95      0.95      0.95      1198\n",
      "           1       0.21      0.19      0.20        80\n",
      "\n",
      "    accuracy                           0.90      1278\n",
      "   macro avg       0.58      0.57      0.57      1278\n",
      "weighted avg       0.90      0.90      0.90      1278\n",
      "\n"
     ]
    },
    {
     "data": {
      "image/png": "[encoded data removed]",
      "text/plain": [
       "<Figure size 432x288 with 2 Axes>"
      ]
     },
     "metadata": {
      "needs_background": "light"
     },
     "output_type": "display_data"
    }
   ],
   "source": [
    "RF_clf.fit(x_train_res, y_train_res) \n",
    "RF_prediction = RF_clf.predict(X_test)\n",
    "RF_prob = RF_clf.predict_proba(X_test)[:, 1]\n",
    "RF_metrics = metrics.f1_score(y_test, RF_prediction).round(2)\n",
    "RF_report = metrics.classification_report(y_test, RF_prediction)\n",
    "metrics.plot_confusion_matrix(RF_clf, X_test, y_test, cmap='Purples')\n",
    "plt.grid(False)\n",
    "print(RF_report)"
   ]
  },
  {
   "cell_type": "code",
   "execution_count": null,
   "id": "9ef78533",
   "metadata": {},
   "outputs": [],
   "source": []
  }
 ],
 "metadata": {
  "kernelspec": {
   "display_name": "Python 3",
   "language": "python",
   "name": "python3"
  },
  "language_info": {
   "codemirror_mode": {
    "name": "ipython",
    "version": 3
   },
   "file_extension": ".py",
   "mimetype": "text/x-python",
   "name": "python",
   "nbconvert_exporter": "python",
   "pygments_lexer": "ipython3",
   "version": "3.9.4"
  }
 },
 "nbformat": 4,
 "nbformat_minor": 5
}
