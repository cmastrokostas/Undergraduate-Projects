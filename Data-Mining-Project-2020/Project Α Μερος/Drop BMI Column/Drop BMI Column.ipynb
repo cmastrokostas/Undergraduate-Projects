{
 "cells": [
  {
   "cell_type": "markdown",
   "id": "be66f665",
   "metadata": {},
   "source": [
    "# Drop BMI Column"
   ]
  },
  {
   "cell_type": "markdown",
   "id": "62ae1412",
   "metadata": {},
   "source": [
    "# Importing the Libraries and Loading the Dataset"
   ]
  },
  {
   "cell_type": "code",
   "execution_count": 3,
   "id": "5d4d66b3",
   "metadata": {},
   "outputs": [
    {
     "data": {
      "text/html": [
       "<div>\n",
       "<style scoped>\n",
       "    .dataframe tbody tr th:only-of-type {\n",
       "        vertical-align: middle;\n",
       "    }\n",
       "\n",
       "    .dataframe tbody tr th {\n",
       "        vertical-align: top;\n",
       "    }\n",
       "\n",
       "    .dataframe thead th {\n",
       "        text-align: right;\n",
       "    }\n",
       "</style>\n",
       "<table border=\"1\" class=\"dataframe\">\n",
       "  <thead>\n",
       "    <tr style=\"text-align: right;\">\n",
       "      <th></th>\n",
       "      <th>id</th>\n",
       "      <th>gender</th>\n",
       "      <th>age</th>\n",
       "      <th>hypertension</th>\n",
       "      <th>heart_disease</th>\n",
       "      <th>ever_married</th>\n",
       "      <th>work_type</th>\n",
       "      <th>Residence_type</th>\n",
       "      <th>avg_glucose_level</th>\n",
       "      <th>bmi</th>\n",
       "      <th>smoking_status</th>\n",
       "      <th>stroke</th>\n",
       "    </tr>\n",
       "  </thead>\n",
       "  <tbody>\n",
       "    <tr>\n",
       "      <th>0</th>\n",
       "      <td>9046</td>\n",
       "      <td>Male</td>\n",
       "      <td>67.0</td>\n",
       "      <td>0</td>\n",
       "      <td>1</td>\n",
       "      <td>Yes</td>\n",
       "      <td>Private</td>\n",
       "      <td>Urban</td>\n",
       "      <td>228.69</td>\n",
       "      <td>36.6</td>\n",
       "      <td>formerly smoked</td>\n",
       "      <td>1</td>\n",
       "    </tr>\n",
       "    <tr>\n",
       "      <th>1</th>\n",
       "      <td>51676</td>\n",
       "      <td>Female</td>\n",
       "      <td>61.0</td>\n",
       "      <td>0</td>\n",
       "      <td>0</td>\n",
       "      <td>Yes</td>\n",
       "      <td>Self-employed</td>\n",
       "      <td>Rural</td>\n",
       "      <td>202.21</td>\n",
       "      <td>NaN</td>\n",
       "      <td>never smoked</td>\n",
       "      <td>1</td>\n",
       "    </tr>\n",
       "    <tr>\n",
       "      <th>2</th>\n",
       "      <td>31112</td>\n",
       "      <td>Male</td>\n",
       "      <td>80.0</td>\n",
       "      <td>0</td>\n",
       "      <td>1</td>\n",
       "      <td>Yes</td>\n",
       "      <td>Private</td>\n",
       "      <td>Rural</td>\n",
       "      <td>105.92</td>\n",
       "      <td>32.5</td>\n",
       "      <td>never smoked</td>\n",
       "      <td>1</td>\n",
       "    </tr>\n",
       "    <tr>\n",
       "      <th>3</th>\n",
       "      <td>60182</td>\n",
       "      <td>Female</td>\n",
       "      <td>49.0</td>\n",
       "      <td>0</td>\n",
       "      <td>0</td>\n",
       "      <td>Yes</td>\n",
       "      <td>Private</td>\n",
       "      <td>Urban</td>\n",
       "      <td>171.23</td>\n",
       "      <td>34.4</td>\n",
       "      <td>smokes</td>\n",
       "      <td>1</td>\n",
       "    </tr>\n",
       "    <tr>\n",
       "      <th>4</th>\n",
       "      <td>1665</td>\n",
       "      <td>Female</td>\n",
       "      <td>79.0</td>\n",
       "      <td>1</td>\n",
       "      <td>0</td>\n",
       "      <td>Yes</td>\n",
       "      <td>Self-employed</td>\n",
       "      <td>Rural</td>\n",
       "      <td>174.12</td>\n",
       "      <td>24.0</td>\n",
       "      <td>never smoked</td>\n",
       "      <td>1</td>\n",
       "    </tr>\n",
       "  </tbody>\n",
       "</table>\n",
       "</div>"
      ],
      "text/plain": [
       "      id  gender   age  hypertension  heart_disease ever_married  \\\n",
       "0   9046    Male  67.0             0              1          Yes   \n",
       "1  51676  Female  61.0             0              0          Yes   \n",
       "2  31112    Male  80.0             0              1          Yes   \n",
       "3  60182  Female  49.0             0              0          Yes   \n",
       "4   1665  Female  79.0             1              0          Yes   \n",
       "\n",
       "       work_type Residence_type  avg_glucose_level   bmi   smoking_status  \\\n",
       "0        Private          Urban             228.69  36.6  formerly smoked   \n",
       "1  Self-employed          Rural             202.21   NaN     never smoked   \n",
       "2        Private          Rural             105.92  32.5     never smoked   \n",
       "3        Private          Urban             171.23  34.4           smokes   \n",
       "4  Self-employed          Rural             174.12  24.0     never smoked   \n",
       "\n",
       "   stroke  \n",
       "0       1  \n",
       "1       1  \n",
       "2       1  \n",
       "3       1  \n",
       "4       1  "
      ]
     },
     "execution_count": 3,
     "metadata": {},
     "output_type": "execute_result"
    }
   ],
   "source": [
    "import pandas as pd\n",
    "import numpy as np\n",
    "import matplotlib.ticker as mtick\n",
    "import matplotlib.pyplot as plt\n",
    "import seaborn as sns\n",
    "import pandas_profiling as pp\n",
    "from scipy.stats import stats\n",
    "from sklearn import linear_model\n",
    "from imblearn.over_sampling import SMOTE\n",
    "from sklearn.ensemble import RandomForestClassifier\n",
    "from sklearn import metrics\n",
    "from sklearn.model_selection import train_test_split\n",
    "\n",
    "df = pd.read_csv('dataset.csv') \n",
    "df.head()"
   ]
  },
  {
   "cell_type": "markdown",
   "id": "bd247232",
   "metadata": {},
   "source": [
    "# Drop column with missing values."
   ]
  },
  {
   "cell_type": "code",
   "execution_count": 4,
   "id": "da21fa25",
   "metadata": {},
   "outputs": [],
   "source": [
    "df1 = df.copy(deep=True)\n",
    "df1= df.dropna(axis=1) "
   ]
  },
  {
   "cell_type": "markdown",
   "id": "d327e372",
   "metadata": {},
   "source": [
    "H επιλογή του άξονα axis = 1 στην εντολή dropna μας επιτρέπει να αφαιρέσουμε όλες τις στήλες που εντοπίζεται NaN τιμή , στην προκειμένη περίπτωση αφαιρείται η στήλη bmi."
   ]
  },
  {
   "cell_type": "code",
   "execution_count": 5,
   "id": "023b7e17",
   "metadata": {},
   "outputs": [
    {
     "name": "stdout",
     "output_type": "stream",
     "text": [
      "Missing Values per Column:\n"
     ]
    },
    {
     "data": {
      "text/plain": [
       "id                   0\n",
       "gender               0\n",
       "age                  0\n",
       "hypertension         0\n",
       "heart_disease        0\n",
       "ever_married         0\n",
       "work_type            0\n",
       "Residence_type       0\n",
       "avg_glucose_level    0\n",
       "smoking_status       0\n",
       "stroke               0\n",
       "dtype: int64"
      ]
     },
     "execution_count": 5,
     "metadata": {},
     "output_type": "execute_result"
    }
   ],
   "source": [
    "print(\"Missing Values per Column:\")\n",
    "df1.isnull().sum()"
   ]
  },
  {
   "cell_type": "markdown",
   "id": "9e55e19c",
   "metadata": {},
   "source": [
    "# Μετατροπή των Categorical Features σε Numerical Values"
   ]
  },
  {
   "cell_type": "code",
   "execution_count": 6,
   "id": "d2674c20",
   "metadata": {},
   "outputs": [
    {
     "name": "stderr",
     "output_type": "stream",
     "text": [
      "<ipython-input-6-b02bcb5c9091>:6: SettingWithCopyWarning: \n",
      "A value is trying to be set on a copy of a slice from a DataFrame.\n",
      "Try using .loc[row_indexer,col_indexer] = value instead\n",
      "\n",
      "See the caveats in the documentation: https://pandas.pydata.org/pandas-docs/stable/user_guide/indexing.html#returning-a-view-versus-a-copy\n",
      "  df1[title] = le.fit_transform(df1[title])\n"
     ]
    },
    {
     "data": {
      "text/html": [
       "<div>\n",
       "<style scoped>\n",
       "    .dataframe tbody tr th:only-of-type {\n",
       "        vertical-align: middle;\n",
       "    }\n",
       "\n",
       "    .dataframe tbody tr th {\n",
       "        vertical-align: top;\n",
       "    }\n",
       "\n",
       "    .dataframe thead th {\n",
       "        text-align: right;\n",
       "    }\n",
       "</style>\n",
       "<table border=\"1\" class=\"dataframe\">\n",
       "  <thead>\n",
       "    <tr style=\"text-align: right;\">\n",
       "      <th></th>\n",
       "      <th>id</th>\n",
       "      <th>gender</th>\n",
       "      <th>age</th>\n",
       "      <th>hypertension</th>\n",
       "      <th>heart_disease</th>\n",
       "      <th>ever_married</th>\n",
       "      <th>work_type</th>\n",
       "      <th>Residence_type</th>\n",
       "      <th>avg_glucose_level</th>\n",
       "      <th>smoking_status</th>\n",
       "      <th>stroke</th>\n",
       "    </tr>\n",
       "  </thead>\n",
       "  <tbody>\n",
       "    <tr>\n",
       "      <th>5105</th>\n",
       "      <td>18234</td>\n",
       "      <td>0</td>\n",
       "      <td>80.0</td>\n",
       "      <td>1</td>\n",
       "      <td>0</td>\n",
       "      <td>1</td>\n",
       "      <td>2</td>\n",
       "      <td>1</td>\n",
       "      <td>83.75</td>\n",
       "      <td>2</td>\n",
       "      <td>0</td>\n",
       "    </tr>\n",
       "    <tr>\n",
       "      <th>5106</th>\n",
       "      <td>44873</td>\n",
       "      <td>0</td>\n",
       "      <td>81.0</td>\n",
       "      <td>0</td>\n",
       "      <td>0</td>\n",
       "      <td>1</td>\n",
       "      <td>3</td>\n",
       "      <td>1</td>\n",
       "      <td>125.20</td>\n",
       "      <td>2</td>\n",
       "      <td>0</td>\n",
       "    </tr>\n",
       "    <tr>\n",
       "      <th>5107</th>\n",
       "      <td>19723</td>\n",
       "      <td>0</td>\n",
       "      <td>35.0</td>\n",
       "      <td>0</td>\n",
       "      <td>0</td>\n",
       "      <td>1</td>\n",
       "      <td>3</td>\n",
       "      <td>0</td>\n",
       "      <td>82.99</td>\n",
       "      <td>2</td>\n",
       "      <td>0</td>\n",
       "    </tr>\n",
       "    <tr>\n",
       "      <th>5108</th>\n",
       "      <td>37544</td>\n",
       "      <td>1</td>\n",
       "      <td>51.0</td>\n",
       "      <td>0</td>\n",
       "      <td>0</td>\n",
       "      <td>1</td>\n",
       "      <td>2</td>\n",
       "      <td>0</td>\n",
       "      <td>166.29</td>\n",
       "      <td>1</td>\n",
       "      <td>0</td>\n",
       "    </tr>\n",
       "    <tr>\n",
       "      <th>5109</th>\n",
       "      <td>44679</td>\n",
       "      <td>0</td>\n",
       "      <td>44.0</td>\n",
       "      <td>0</td>\n",
       "      <td>0</td>\n",
       "      <td>1</td>\n",
       "      <td>0</td>\n",
       "      <td>1</td>\n",
       "      <td>85.28</td>\n",
       "      <td>0</td>\n",
       "      <td>0</td>\n",
       "    </tr>\n",
       "  </tbody>\n",
       "</table>\n",
       "</div>"
      ],
      "text/plain": [
       "         id  gender   age  hypertension  heart_disease  ever_married  \\\n",
       "5105  18234       0  80.0             1              0             1   \n",
       "5106  44873       0  81.0             0              0             1   \n",
       "5107  19723       0  35.0             0              0             1   \n",
       "5108  37544       1  51.0             0              0             1   \n",
       "5109  44679       0  44.0             0              0             1   \n",
       "\n",
       "      work_type  Residence_type  avg_glucose_level  smoking_status  stroke  \n",
       "5105          2               1              83.75               2       0  \n",
       "5106          3               1             125.20               2       0  \n",
       "5107          3               0              82.99               2       0  \n",
       "5108          2               0             166.29               1       0  \n",
       "5109          0               1              85.28               0       0  "
      ]
     },
     "execution_count": 6,
     "metadata": {},
     "output_type": "execute_result"
    }
   ],
   "source": [
    "from sklearn.preprocessing import LabelEncoder\n",
    "le = LabelEncoder()\n",
    "object_type_columns = df1.select_dtypes(include='object')\n",
    "    \n",
    "for title in object_type_columns:\n",
    "     df1[title] = le.fit_transform(df1[title])\n",
    "df1.tail()"
   ]
  },
  {
   "cell_type": "markdown",
   "id": "cf2fa5a3",
   "metadata": {},
   "source": [
    "# Scaling των αριθμητικών τιμών "
   ]
  },
  {
   "cell_type": "code",
   "execution_count": 7,
   "id": "98e37435",
   "metadata": {},
   "outputs": [
    {
     "name": "stderr",
     "output_type": "stream",
     "text": [
      "<ipython-input-7-0beb908e74e9>:3: SettingWithCopyWarning: \n",
      "A value is trying to be set on a copy of a slice from a DataFrame.\n",
      "Try using .loc[row_indexer,col_indexer] = value instead\n",
      "\n",
      "See the caveats in the documentation: https://pandas.pydata.org/pandas-docs/stable/user_guide/indexing.html#returning-a-view-versus-a-copy\n",
      "  df1[['age','work_type','avg_glucose_level','smoking_status']]=min_max_scaler.fit_transform(df1[['age','work_type','avg_glucose_level','smoking_status']])\n",
      "c:\\users\\charalampos\\appdata\\local\\programs\\python\\python39\\lib\\site-packages\\pandas\\core\\indexing.py:1738: SettingWithCopyWarning: \n",
      "A value is trying to be set on a copy of a slice from a DataFrame.\n",
      "Try using .loc[row_indexer,col_indexer] = value instead\n",
      "\n",
      "See the caveats in the documentation: https://pandas.pydata.org/pandas-docs/stable/user_guide/indexing.html#returning-a-view-versus-a-copy\n",
      "  self._setitem_single_column(loc, value[:, i].tolist(), pi)\n"
     ]
    },
    {
     "data": {
      "text/html": [
       "<div>\n",
       "<style scoped>\n",
       "    .dataframe tbody tr th:only-of-type {\n",
       "        vertical-align: middle;\n",
       "    }\n",
       "\n",
       "    .dataframe tbody tr th {\n",
       "        vertical-align: top;\n",
       "    }\n",
       "\n",
       "    .dataframe thead th {\n",
       "        text-align: right;\n",
       "    }\n",
       "</style>\n",
       "<table border=\"1\" class=\"dataframe\">\n",
       "  <thead>\n",
       "    <tr style=\"text-align: right;\">\n",
       "      <th></th>\n",
       "      <th>id</th>\n",
       "      <th>gender</th>\n",
       "      <th>age</th>\n",
       "      <th>hypertension</th>\n",
       "      <th>heart_disease</th>\n",
       "      <th>ever_married</th>\n",
       "      <th>work_type</th>\n",
       "      <th>Residence_type</th>\n",
       "      <th>avg_glucose_level</th>\n",
       "      <th>smoking_status</th>\n",
       "      <th>stroke</th>\n",
       "    </tr>\n",
       "  </thead>\n",
       "  <tbody>\n",
       "    <tr>\n",
       "      <th>5105</th>\n",
       "      <td>18234</td>\n",
       "      <td>0</td>\n",
       "      <td>0.975586</td>\n",
       "      <td>1</td>\n",
       "      <td>0</td>\n",
       "      <td>1</td>\n",
       "      <td>0.50</td>\n",
       "      <td>1</td>\n",
       "      <td>0.132167</td>\n",
       "      <td>0.666667</td>\n",
       "      <td>0</td>\n",
       "    </tr>\n",
       "    <tr>\n",
       "      <th>5106</th>\n",
       "      <td>44873</td>\n",
       "      <td>0</td>\n",
       "      <td>0.987793</td>\n",
       "      <td>0</td>\n",
       "      <td>0</td>\n",
       "      <td>1</td>\n",
       "      <td>0.75</td>\n",
       "      <td>1</td>\n",
       "      <td>0.323516</td>\n",
       "      <td>0.666667</td>\n",
       "      <td>0</td>\n",
       "    </tr>\n",
       "    <tr>\n",
       "      <th>5107</th>\n",
       "      <td>19723</td>\n",
       "      <td>0</td>\n",
       "      <td>0.426270</td>\n",
       "      <td>0</td>\n",
       "      <td>0</td>\n",
       "      <td>1</td>\n",
       "      <td>0.75</td>\n",
       "      <td>0</td>\n",
       "      <td>0.128658</td>\n",
       "      <td>0.666667</td>\n",
       "      <td>0</td>\n",
       "    </tr>\n",
       "    <tr>\n",
       "      <th>5108</th>\n",
       "      <td>37544</td>\n",
       "      <td>1</td>\n",
       "      <td>0.621582</td>\n",
       "      <td>0</td>\n",
       "      <td>0</td>\n",
       "      <td>1</td>\n",
       "      <td>0.50</td>\n",
       "      <td>0</td>\n",
       "      <td>0.513203</td>\n",
       "      <td>0.333333</td>\n",
       "      <td>0</td>\n",
       "    </tr>\n",
       "    <tr>\n",
       "      <th>5109</th>\n",
       "      <td>44679</td>\n",
       "      <td>0</td>\n",
       "      <td>0.536133</td>\n",
       "      <td>0</td>\n",
       "      <td>0</td>\n",
       "      <td>1</td>\n",
       "      <td>0.00</td>\n",
       "      <td>1</td>\n",
       "      <td>0.139230</td>\n",
       "      <td>0.000000</td>\n",
       "      <td>0</td>\n",
       "    </tr>\n",
       "  </tbody>\n",
       "</table>\n",
       "</div>"
      ],
      "text/plain": [
       "         id  gender       age  hypertension  heart_disease  ever_married  \\\n",
       "5105  18234       0  0.975586             1              0             1   \n",
       "5106  44873       0  0.987793             0              0             1   \n",
       "5107  19723       0  0.426270             0              0             1   \n",
       "5108  37544       1  0.621582             0              0             1   \n",
       "5109  44679       0  0.536133             0              0             1   \n",
       "\n",
       "      work_type  Residence_type  avg_glucose_level  smoking_status  stroke  \n",
       "5105       0.50               1           0.132167        0.666667       0  \n",
       "5106       0.75               1           0.323516        0.666667       0  \n",
       "5107       0.75               0           0.128658        0.666667       0  \n",
       "5108       0.50               0           0.513203        0.333333       0  \n",
       "5109       0.00               1           0.139230        0.000000       0  "
      ]
     },
     "execution_count": 7,
     "metadata": {},
     "output_type": "execute_result"
    }
   ],
   "source": [
    "from sklearn.preprocessing import MinMaxScaler\n",
    "min_max_scaler = MinMaxScaler()\n",
    "df1[['age','work_type','avg_glucose_level','smoking_status']]=min_max_scaler.fit_transform(df1[['age','work_type','avg_glucose_level','smoking_status']])\n",
    "df1.tail()"
   ]
  },
  {
   "cell_type": "markdown",
   "id": "9acf8aa1",
   "metadata": {},
   "source": [
    "# Random Forest Classification"
   ]
  },
  {
   "cell_type": "code",
   "execution_count": 8,
   "id": "45fad02b",
   "metadata": {},
   "outputs": [],
   "source": [
    "RF_clf = RandomForestClassifier()\n",
    "new_data = df1.copy(deep=True) #Δημιουργώ deep copy ώστε να μην κάνω αλλαγές στο αρχικό dataset."
   ]
  },
  {
   "cell_type": "code",
   "execution_count": 9,
   "id": "22a5835c",
   "metadata": {},
   "outputs": [],
   "source": [
    "X = new_data.drop(['id','stroke'], axis=1)\n",
    "y = new_data['stroke']\n",
    "X_train, X_test, y_train, y_test = train_test_split(X, y, test_size=0.25, random_state=42)\n",
    "    "
   ]
  },
  {
   "cell_type": "markdown",
   "id": "4890e5ed",
   "metadata": {},
   "source": [
    "Χωρίζω το Dataset σε train kai test set με αναλογία 75-25 ."
   ]
  },
  {
   "cell_type": "code",
   "execution_count": 10,
   "id": "2a7d652f",
   "metadata": {
    "scrolled": false
   },
   "outputs": [
    {
     "name": "stdout",
     "output_type": "stream",
     "text": [
      "              precision    recall  f1-score   support\n",
      "\n",
      "           0       0.94      1.00      0.97      1198\n",
      "           1       0.50      0.01      0.02        80\n",
      "\n",
      "    accuracy                           0.94      1278\n",
      "   macro avg       0.72      0.51      0.50      1278\n",
      "weighted avg       0.91      0.94      0.91      1278\n",
      "\n"
     ]
    },
    {
     "data": {
      "image/png": "[encoded data removed]",
      "text/plain": [
       "<Figure size 432x288 with 2 Axes>"
      ]
     },
     "metadata": {
      "needs_background": "light"
     },
     "output_type": "display_data"
    }
   ],
   "source": [
    "RF_clf.fit(X_train, y_train) \n",
    "RF_prediction = RF_clf.predict(X_test)\n",
    "RF_prob = RF_clf.predict_proba(X_test)[:, 1]\n",
    "RF_metrics = metrics.f1_score(y_test, RF_prediction).round(2)\n",
    "RF_report = metrics.classification_report(y_test, RF_prediction)\n",
    "metrics.plot_confusion_matrix(RF_clf, X_test, y_test, cmap='Purples')\n",
    "plt.grid(False)\n",
    "print(RF_report)"
   ]
  },
  {
   "cell_type": "markdown",
   "id": "f8d59e58",
   "metadata": {},
   "source": [
    "# Oversampling "
   ]
  },
  {
   "cell_type": "markdown",
   "id": "e3bab488",
   "metadata": {},
   "source": [
    "Βλέπουμε ότι το μοντέλο μας δεν ταξινομεί καλά τους 'άσσους' και μας δίνει καλά αποτελέσματα μόνο για τα 'μηδενικά'. Παρατηρώντας την ανάλυση του dataset θα δούμε ότι οι περιπτώσεις που έχουμε 'άσσο', δηλαδή τις περιπτώσεις που έχουμε \n",
    "εγκεφαλικό επεισόδιο είναι πολύ λίγες σε σχέση με τα 'μηδενικά'. Αυτό λύνεται χρησιμοποιώντας την μέθοδο του oversampling ώστε να τα φέρουμε σε μια ισορροπία."
   ]
  },
  {
   "cell_type": "code",
   "execution_count": 11,
   "id": "3a2c314c",
   "metadata": {},
   "outputs": [
    {
     "name": "stdout",
     "output_type": "stream",
     "text": [
      "Πρίν το oversampling, πλήθος '1': 169\n",
      "Πρίν το OverSampling, πλήθος '0': 3663 \n",
      "\n",
      "Μετά το OverSampling, πλήθος '1': 3663\n",
      "Μετά το OverSampling, πλήθος '0': 3663\n"
     ]
    }
   ],
   "source": [
    "sm = SMOTE(random_state=2) #Balance data by oversampling\n",
    "x_train_res, y_train_res = sm.fit_resample(X_train, y_train.ravel())\n",
    "print(\"Πρίν το oversampling, πλήθος '1': {}\".format(sum(y_train==1)))\n",
    "print(\"Πρίν το OverSampling, πλήθος '0': {} \\n\".format(sum(y_train==0)))\n",
    "print(\"Μετά το OverSampling, πλήθος '1': {}\".format(sum(y_train_res==1)))\n",
    "print(\"Μετά το OverSampling, πλήθος '0': {}\".format(sum(y_train_res==0)))"
   ]
  },
  {
   "cell_type": "code",
   "execution_count": 12,
   "id": "ddd00d3d",
   "metadata": {
    "scrolled": false
   },
   "outputs": [
    {
     "name": "stdout",
     "output_type": "stream",
     "text": [
      "              precision    recall  f1-score   support\n",
      "\n",
      "           0       0.94      0.96      0.95      1198\n",
      "           1       0.19      0.15      0.17        80\n",
      "\n",
      "    accuracy                           0.91      1278\n",
      "   macro avg       0.57      0.55      0.56      1278\n",
      "weighted avg       0.90      0.91      0.90      1278\n",
      "\n"
     ]
    },
    {
     "data": {
      "image/png": "[encoded data removed]",
      "text/plain": [
       "<Figure size 432x288 with 2 Axes>"
      ]
     },
     "metadata": {
      "needs_background": "light"
     },
     "output_type": "display_data"
    }
   ],
   "source": [
    "RF_clf.fit(x_train_res, y_train_res) \n",
    "RF_prediction = RF_clf.predict(X_test)\n",
    "RF_prob = RF_clf.predict_proba(X_test)[:, 1]\n",
    "RF_metrics = metrics.f1_score(y_test, RF_prediction).round(2)\n",
    "RF_report = metrics.classification_report(y_test, RF_prediction)\n",
    "metrics.plot_confusion_matrix(RF_clf, X_test, y_test, cmap='Purples')\n",
    "plt.grid(False)\n",
    "print(RF_report)"
   ]
  },
  {
   "cell_type": "code",
   "execution_count": null,
   "id": "01111f9c",
   "metadata": {},
   "outputs": [],
   "source": []
  }
 ],
 "metadata": {
  "kernelspec": {
   "display_name": "Python 3",
   "language": "python",
   "name": "python3"
  },
  "language_info": {
   "codemirror_mode": {
    "name": "ipython",
    "version": 3
   },
   "file_extension": ".py",
   "mimetype": "text/x-python",
   "name": "python",
   "nbconvert_exporter": "python",
   "pygments_lexer": "ipython3",
   "version": "3.9.4"
  }
 },
 "nbformat": 4,
 "nbformat_minor": 5
}
